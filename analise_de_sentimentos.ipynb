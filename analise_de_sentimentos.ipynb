{
 "cells": [
  {
   "attachments": {},
   "cell_type": "markdown",
   "metadata": {},
   "source": [
    "# Trabalho 3 - Análise de Sentimentos em Notícias\n",
    "- Equipe: Arthur Santos, Daniele Simas, Laís Dib e Luã Maury\n",
    "- Dataset: [Stock Market News Data in Portuguese](https://www.kaggle.com/datasets/mateuspicanco/financial-phrase-bank-portuguese-translation)"
   ]
  },
  {
   "attachments": {},
   "cell_type": "markdown",
   "metadata": {},
   "source": [
    "## 1. Pré-processamento"
   ]
  },
  {
   "cell_type": "code",
   "execution_count": 1,
   "metadata": {
    "tags": []
   },
   "outputs": [],
   "source": [
    "import pandas as pd"
   ]
  },
  {
   "cell_type": "code",
   "execution_count": 2,
   "metadata": {
    "tags": []
   },
   "outputs": [],
   "source": [
    "PATH_DF = \"./financial_phrase_bank_pt_br.csv\""
   ]
  },
  {
   "cell_type": "code",
   "execution_count": 3,
   "metadata": {
    "tags": []
   },
   "outputs": [
    {
     "data": {
      "text/html": [
       "<div>\n",
       "<style scoped>\n",
       "    .dataframe tbody tr th:only-of-type {\n",
       "        vertical-align: middle;\n",
       "    }\n",
       "\n",
       "    .dataframe tbody tr th {\n",
       "        vertical-align: top;\n",
       "    }\n",
       "\n",
       "    .dataframe thead th {\n",
       "        text-align: right;\n",
       "    }\n",
       "</style>\n",
       "<table border=\"1\" class=\"dataframe\">\n",
       "  <thead>\n",
       "    <tr style=\"text-align: right;\">\n",
       "      <th></th>\n",
       "      <th>y</th>\n",
       "      <th>text</th>\n",
       "      <th>text_pt</th>\n",
       "    </tr>\n",
       "  </thead>\n",
       "  <tbody>\n",
       "    <tr>\n",
       "      <th>0</th>\n",
       "      <td>neutral</td>\n",
       "      <td>Technopolis plans to develop in stages an area...</td>\n",
       "      <td>A Technopolis planeja desenvolver em etapas um...</td>\n",
       "    </tr>\n",
       "    <tr>\n",
       "      <th>1</th>\n",
       "      <td>negative</td>\n",
       "      <td>The international electronic industry company ...</td>\n",
       "      <td>A Elcoteq, empresa internacional da indústria ...</td>\n",
       "    </tr>\n",
       "    <tr>\n",
       "      <th>2</th>\n",
       "      <td>positive</td>\n",
       "      <td>With the new production plant the company woul...</td>\n",
       "      <td>Com a nova planta de produção a empresa aument...</td>\n",
       "    </tr>\n",
       "    <tr>\n",
       "      <th>3</th>\n",
       "      <td>positive</td>\n",
       "      <td>According to the company 's updated strategy f...</td>\n",
       "      <td>De acordo com a estratégia atualizada da empre...</td>\n",
       "    </tr>\n",
       "    <tr>\n",
       "      <th>4</th>\n",
       "      <td>positive</td>\n",
       "      <td>FINANCING OF ASPOCOMP 'S GROWTH Aspocomp is ag...</td>\n",
       "      <td>FINANCIAMENTO DO CRESCIMENTO DA ASPOCOMP A Asp...</td>\n",
       "    </tr>\n",
       "  </tbody>\n",
       "</table>\n",
       "</div>"
      ],
      "text/plain": [
       "          y                                               text  \\\n",
       "0   neutral  Technopolis plans to develop in stages an area...   \n",
       "1  negative  The international electronic industry company ...   \n",
       "2  positive  With the new production plant the company woul...   \n",
       "3  positive  According to the company 's updated strategy f...   \n",
       "4  positive  FINANCING OF ASPOCOMP 'S GROWTH Aspocomp is ag...   \n",
       "\n",
       "                                             text_pt  \n",
       "0  A Technopolis planeja desenvolver em etapas um...  \n",
       "1  A Elcoteq, empresa internacional da indústria ...  \n",
       "2  Com a nova planta de produção a empresa aument...  \n",
       "3  De acordo com a estratégia atualizada da empre...  \n",
       "4  FINANCIAMENTO DO CRESCIMENTO DA ASPOCOMP A Asp...  "
      ]
     },
     "execution_count": 3,
     "metadata": {},
     "output_type": "execute_result"
    }
   ],
   "source": [
    "df = pd.read_csv(PATH_DF)\n",
    "df.head()"
   ]
  },
  {
   "cell_type": "code",
   "execution_count": 4,
   "metadata": {
    "tags": []
   },
   "outputs": [
    {
     "name": "stdout",
     "output_type": "stream",
     "text": [
      "<class 'pandas.core.frame.DataFrame'>\n",
      "RangeIndex: 4845 entries, 0 to 4844\n",
      "Data columns (total 3 columns):\n",
      " #   Column   Non-Null Count  Dtype \n",
      "---  ------   --------------  ----- \n",
      " 0   y        4845 non-null   object\n",
      " 1   text     4845 non-null   object\n",
      " 2   text_pt  4845 non-null   object\n",
      "dtypes: object(3)\n",
      "memory usage: 113.7+ KB\n"
     ]
    }
   ],
   "source": [
    "df.info()"
   ]
  },
  {
   "attachments": {},
   "cell_type": "markdown",
   "metadata": {},
   "source": [
    "### 1.1. Verificando se existem dados duplicados e removendo-os"
   ]
  },
  {
   "cell_type": "code",
   "execution_count": 5,
   "metadata": {
    "tags": []
   },
   "outputs": [
    {
     "data": {
      "text/plain": [
       "6"
      ]
     },
     "execution_count": 5,
     "metadata": {},
     "output_type": "execute_result"
    }
   ],
   "source": [
    "df.duplicated().sum()"
   ]
  },
  {
   "cell_type": "code",
   "execution_count": 6,
   "metadata": {
    "tags": []
   },
   "outputs": [
    {
     "data": {
      "text/plain": [
       "0"
      ]
     },
     "execution_count": 6,
     "metadata": {},
     "output_type": "execute_result"
    }
   ],
   "source": [
    "df.drop_duplicates(inplace=True, ignore_index=True)\n",
    "df.duplicated().sum()"
   ]
  },
  {
   "attachments": {},
   "cell_type": "markdown",
   "metadata": {},
   "source": [
    "### 1.2. Ajustando texto para minúsculo"
   ]
  },
  {
   "cell_type": "code",
   "execution_count": 7,
   "metadata": {
    "tags": []
   },
   "outputs": [
    {
     "data": {
      "text/html": [
       "<div>\n",
       "<style scoped>\n",
       "    .dataframe tbody tr th:only-of-type {\n",
       "        vertical-align: middle;\n",
       "    }\n",
       "\n",
       "    .dataframe tbody tr th {\n",
       "        vertical-align: top;\n",
       "    }\n",
       "\n",
       "    .dataframe thead th {\n",
       "        text-align: right;\n",
       "    }\n",
       "</style>\n",
       "<table border=\"1\" class=\"dataframe\">\n",
       "  <thead>\n",
       "    <tr style=\"text-align: right;\">\n",
       "      <th></th>\n",
       "      <th>y</th>\n",
       "      <th>text</th>\n",
       "      <th>text_pt</th>\n",
       "    </tr>\n",
       "  </thead>\n",
       "  <tbody>\n",
       "    <tr>\n",
       "      <th>0</th>\n",
       "      <td>neutral</td>\n",
       "      <td>technopolis plans to develop in stages an area...</td>\n",
       "      <td>a technopolis planeja desenvolver em etapas um...</td>\n",
       "    </tr>\n",
       "    <tr>\n",
       "      <th>1</th>\n",
       "      <td>negative</td>\n",
       "      <td>the international electronic industry company ...</td>\n",
       "      <td>a elcoteq, empresa internacional da indústria ...</td>\n",
       "    </tr>\n",
       "    <tr>\n",
       "      <th>2</th>\n",
       "      <td>positive</td>\n",
       "      <td>with the new production plant the company woul...</td>\n",
       "      <td>com a nova planta de produção a empresa aument...</td>\n",
       "    </tr>\n",
       "    <tr>\n",
       "      <th>3</th>\n",
       "      <td>positive</td>\n",
       "      <td>according to the company 's updated strategy f...</td>\n",
       "      <td>de acordo com a estratégia atualizada da empre...</td>\n",
       "    </tr>\n",
       "    <tr>\n",
       "      <th>4</th>\n",
       "      <td>positive</td>\n",
       "      <td>financing of aspocomp 's growth aspocomp is ag...</td>\n",
       "      <td>financiamento do crescimento da aspocomp a asp...</td>\n",
       "    </tr>\n",
       "  </tbody>\n",
       "</table>\n",
       "</div>"
      ],
      "text/plain": [
       "          y                                               text  \\\n",
       "0   neutral  technopolis plans to develop in stages an area...   \n",
       "1  negative  the international electronic industry company ...   \n",
       "2  positive  with the new production plant the company woul...   \n",
       "3  positive  according to the company 's updated strategy f...   \n",
       "4  positive  financing of aspocomp 's growth aspocomp is ag...   \n",
       "\n",
       "                                             text_pt  \n",
       "0  a technopolis planeja desenvolver em etapas um...  \n",
       "1  a elcoteq, empresa internacional da indústria ...  \n",
       "2  com a nova planta de produção a empresa aument...  \n",
       "3  de acordo com a estratégia atualizada da empre...  \n",
       "4  financiamento do crescimento da aspocomp a asp...  "
      ]
     },
     "execution_count": 7,
     "metadata": {},
     "output_type": "execute_result"
    }
   ],
   "source": [
    "for column in df.columns:\n",
    "    df[column] = df[column].str.lower()\n",
    "    \n",
    "df.head()"
   ]
  },
  {
   "attachments": {},
   "cell_type": "markdown",
   "metadata": {},
   "source": [
    "### 1.3. Removendo pontuação do texto"
   ]
  },
  {
   "cell_type": "code",
   "execution_count": 8,
   "metadata": {
    "tags": []
   },
   "outputs": [],
   "source": [
    "import string"
   ]
  },
  {
   "cell_type": "code",
   "execution_count": 9,
   "metadata": {
    "tags": []
   },
   "outputs": [
    {
     "data": {
      "text/plain": [
       "{'!',\n",
       " '\"',\n",
       " '#',\n",
       " '$',\n",
       " '%',\n",
       " '&',\n",
       " \"'\",\n",
       " '(',\n",
       " ')',\n",
       " '*',\n",
       " '+',\n",
       " ',',\n",
       " '-',\n",
       " '.',\n",
       " '/',\n",
       " ':',\n",
       " ';',\n",
       " '<',\n",
       " '=',\n",
       " '>',\n",
       " '?',\n",
       " '@',\n",
       " '[',\n",
       " '\\\\',\n",
       " ']',\n",
       " '^',\n",
       " '_',\n",
       " '`',\n",
       " '{',\n",
       " '|',\n",
       " '}',\n",
       " '~'}"
      ]
     },
     "execution_count": 9,
     "metadata": {},
     "output_type": "execute_result"
    }
   ],
   "source": [
    "EXCLUDE = set(string.punctuation)\n",
    "EXCLUDE"
   ]
  },
  {
   "cell_type": "code",
   "execution_count": 10,
   "metadata": {
    "tags": []
   },
   "outputs": [],
   "source": [
    "def remove_punctuation(text): \n",
    "    try: \n",
    "        text = ''.join(char for char in text if char not in EXCLUDE) \n",
    "    except: \n",
    "        pass \n",
    "    return text"
   ]
  },
  {
   "cell_type": "code",
   "execution_count": 11,
   "metadata": {
    "tags": []
   },
   "outputs": [
    {
     "data": {
      "text/html": [
       "<div>\n",
       "<style scoped>\n",
       "    .dataframe tbody tr th:only-of-type {\n",
       "        vertical-align: middle;\n",
       "    }\n",
       "\n",
       "    .dataframe tbody tr th {\n",
       "        vertical-align: top;\n",
       "    }\n",
       "\n",
       "    .dataframe thead th {\n",
       "        text-align: right;\n",
       "    }\n",
       "</style>\n",
       "<table border=\"1\" class=\"dataframe\">\n",
       "  <thead>\n",
       "    <tr style=\"text-align: right;\">\n",
       "      <th></th>\n",
       "      <th>y</th>\n",
       "      <th>text</th>\n",
       "      <th>text_pt</th>\n",
       "    </tr>\n",
       "  </thead>\n",
       "  <tbody>\n",
       "    <tr>\n",
       "      <th>0</th>\n",
       "      <td>neutral</td>\n",
       "      <td>technopolis plans to develop in stages an area...</td>\n",
       "      <td>a technopolis planeja desenvolver em etapas um...</td>\n",
       "    </tr>\n",
       "    <tr>\n",
       "      <th>1</th>\n",
       "      <td>negative</td>\n",
       "      <td>the international electronic industry company ...</td>\n",
       "      <td>a elcoteq empresa internacional da indústria e...</td>\n",
       "    </tr>\n",
       "    <tr>\n",
       "      <th>2</th>\n",
       "      <td>positive</td>\n",
       "      <td>with the new production plant the company woul...</td>\n",
       "      <td>com a nova planta de produção a empresa aument...</td>\n",
       "    </tr>\n",
       "    <tr>\n",
       "      <th>3</th>\n",
       "      <td>positive</td>\n",
       "      <td>according to the company s updated strategy fo...</td>\n",
       "      <td>de acordo com a estratégia atualizada da empre...</td>\n",
       "    </tr>\n",
       "    <tr>\n",
       "      <th>4</th>\n",
       "      <td>positive</td>\n",
       "      <td>financing of aspocomp s growth aspocomp is agg...</td>\n",
       "      <td>financiamento do crescimento da aspocomp a asp...</td>\n",
       "    </tr>\n",
       "  </tbody>\n",
       "</table>\n",
       "</div>"
      ],
      "text/plain": [
       "          y                                               text  \\\n",
       "0   neutral  technopolis plans to develop in stages an area...   \n",
       "1  negative  the international electronic industry company ...   \n",
       "2  positive  with the new production plant the company woul...   \n",
       "3  positive  according to the company s updated strategy fo...   \n",
       "4  positive  financing of aspocomp s growth aspocomp is agg...   \n",
       "\n",
       "                                             text_pt  \n",
       "0  a technopolis planeja desenvolver em etapas um...  \n",
       "1  a elcoteq empresa internacional da indústria e...  \n",
       "2  com a nova planta de produção a empresa aument...  \n",
       "3  de acordo com a estratégia atualizada da empre...  \n",
       "4  financiamento do crescimento da aspocomp a asp...  "
      ]
     },
     "execution_count": 11,
     "metadata": {},
     "output_type": "execute_result"
    }
   ],
   "source": [
    "for column in df.columns:\n",
    "    df[column] = df[column].apply(remove_punctuation)\n",
    "\n",
    "df.head()"
   ]
  },
  {
   "attachments": {},
   "cell_type": "markdown",
   "metadata": {},
   "source": [
    "### 1.4. Removendo stopwords"
   ]
  },
  {
   "cell_type": "code",
   "execution_count": 12,
   "metadata": {
    "collapsed": true,
    "jupyter": {
     "outputs_hidden": true
    },
    "tags": []
   },
   "outputs": [],
   "source": [
    "# !pip install nltk"
   ]
  },
  {
   "cell_type": "code",
   "execution_count": 13,
   "metadata": {},
   "outputs": [
    {
     "name": "stderr",
     "output_type": "stream",
     "text": [
      "[nltk_data] Downloading package stopwords to\n",
      "[nltk_data]     C:\\Users\\ArkadeUser\\AppData\\Roaming\\nltk_data...\n",
      "[nltk_data]   Package stopwords is already up-to-date!\n"
     ]
    },
    {
     "data": {
      "text/plain": [
       "True"
      ]
     },
     "execution_count": 13,
     "metadata": {},
     "output_type": "execute_result"
    }
   ],
   "source": [
    "import nltk\n",
    "nltk.download('stopwords')"
   ]
  },
  {
   "cell_type": "code",
   "execution_count": 14,
   "metadata": {
    "tags": []
   },
   "outputs": [],
   "source": [
    "from nltk.corpus import stopwords"
   ]
  },
  {
   "attachments": {},
   "cell_type": "markdown",
   "metadata": {},
   "source": [
    "- Texto em inglês"
   ]
  },
  {
   "cell_type": "code",
   "execution_count": 15,
   "metadata": {
    "tags": []
   },
   "outputs": [
    {
     "data": {
      "text/plain": [
       "0    technopolis plans develop stages area less 100...\n",
       "1    international electronic industry company elco...\n",
       "2    new production plant company would increase ca...\n",
       "3    according company updated strategy years 20092...\n",
       "4    financing aspocomp growth aspocomp aggressivel...\n",
       "Name: text, dtype: object"
      ]
     },
     "execution_count": 15,
     "metadata": {},
     "output_type": "execute_result"
    }
   ],
   "source": [
    "eng_stopwords = stopwords.words('english')\n",
    "\n",
    "df[\"text\"] = df[\"text\"].apply(lambda x: ' '.join([word for word in x.split() if word not in (eng_stopwords)]))\n",
    "df[\"text\"].head()"
   ]
  },
  {
   "attachments": {},
   "cell_type": "markdown",
   "metadata": {},
   "source": [
    "- Texto em português"
   ]
  },
  {
   "cell_type": "code",
   "execution_count": 16,
   "metadata": {
    "tags": []
   },
   "outputs": [
    {
     "data": {
      "text/plain": [
       "0    technopolis planeja desenvolver etapas área in...\n",
       "1    elcoteq empresa internacional indústria eletrô...\n",
       "2    nova planta produção empresa aumentaria capaci...\n",
       "3    acordo estratégia atualizada empresa anos 2009...\n",
       "4    financiamento crescimento aspocomp aspocomp pe...\n",
       "Name: text_pt, dtype: object"
      ]
     },
     "execution_count": 16,
     "metadata": {},
     "output_type": "execute_result"
    }
   ],
   "source": [
    "pt_stopwords = stopwords.words('portuguese')\n",
    "\n",
    "df[\"text_pt\"] = df[\"text_pt\"].apply(lambda x: ' '.join([word for word in x.split() if word not in (pt_stopwords)]))\n",
    "df[\"text_pt\"].head()"
   ]
  },
  {
   "cell_type": "code",
   "execution_count": 17,
   "metadata": {
    "tags": []
   },
   "outputs": [
    {
     "data": {
      "text/html": [
       "<div>\n",
       "<style scoped>\n",
       "    .dataframe tbody tr th:only-of-type {\n",
       "        vertical-align: middle;\n",
       "    }\n",
       "\n",
       "    .dataframe tbody tr th {\n",
       "        vertical-align: top;\n",
       "    }\n",
       "\n",
       "    .dataframe thead th {\n",
       "        text-align: right;\n",
       "    }\n",
       "</style>\n",
       "<table border=\"1\" class=\"dataframe\">\n",
       "  <thead>\n",
       "    <tr style=\"text-align: right;\">\n",
       "      <th></th>\n",
       "      <th>y</th>\n",
       "      <th>text</th>\n",
       "      <th>text_pt</th>\n",
       "    </tr>\n",
       "  </thead>\n",
       "  <tbody>\n",
       "    <tr>\n",
       "      <th>0</th>\n",
       "      <td>neutral</td>\n",
       "      <td>technopolis plans develop stages area less 100...</td>\n",
       "      <td>technopolis planeja desenvolver etapas área in...</td>\n",
       "    </tr>\n",
       "    <tr>\n",
       "      <th>1</th>\n",
       "      <td>negative</td>\n",
       "      <td>international electronic industry company elco...</td>\n",
       "      <td>elcoteq empresa internacional indústria eletrô...</td>\n",
       "    </tr>\n",
       "    <tr>\n",
       "      <th>2</th>\n",
       "      <td>positive</td>\n",
       "      <td>new production plant company would increase ca...</td>\n",
       "      <td>nova planta produção empresa aumentaria capaci...</td>\n",
       "    </tr>\n",
       "    <tr>\n",
       "      <th>3</th>\n",
       "      <td>positive</td>\n",
       "      <td>according company updated strategy years 20092...</td>\n",
       "      <td>acordo estratégia atualizada empresa anos 2009...</td>\n",
       "    </tr>\n",
       "    <tr>\n",
       "      <th>4</th>\n",
       "      <td>positive</td>\n",
       "      <td>financing aspocomp growth aspocomp aggressivel...</td>\n",
       "      <td>financiamento crescimento aspocomp aspocomp pe...</td>\n",
       "    </tr>\n",
       "  </tbody>\n",
       "</table>\n",
       "</div>"
      ],
      "text/plain": [
       "          y                                               text  \\\n",
       "0   neutral  technopolis plans develop stages area less 100...   \n",
       "1  negative  international electronic industry company elco...   \n",
       "2  positive  new production plant company would increase ca...   \n",
       "3  positive  according company updated strategy years 20092...   \n",
       "4  positive  financing aspocomp growth aspocomp aggressivel...   \n",
       "\n",
       "                                             text_pt  \n",
       "0  technopolis planeja desenvolver etapas área in...  \n",
       "1  elcoteq empresa internacional indústria eletrô...  \n",
       "2  nova planta produção empresa aumentaria capaci...  \n",
       "3  acordo estratégia atualizada empresa anos 2009...  \n",
       "4  financiamento crescimento aspocomp aspocomp pe...  "
      ]
     },
     "execution_count": 17,
     "metadata": {},
     "output_type": "execute_result"
    }
   ],
   "source": [
    "df.head()"
   ]
  },
  {
   "attachments": {},
   "cell_type": "markdown",
   "metadata": {},
   "source": [
    "### 1.5. Removendo acentos"
   ]
  },
  {
   "cell_type": "code",
   "execution_count": 18,
   "metadata": {},
   "outputs": [],
   "source": [
    "# !pip install unidecode"
   ]
  },
  {
   "cell_type": "code",
   "execution_count": 19,
   "metadata": {
    "tags": []
   },
   "outputs": [],
   "source": [
    "from unidecode import unidecode"
   ]
  },
  {
   "cell_type": "code",
   "execution_count": 20,
   "metadata": {
    "tags": []
   },
   "outputs": [
    {
     "data": {
      "text/html": [
       "<div>\n",
       "<style scoped>\n",
       "    .dataframe tbody tr th:only-of-type {\n",
       "        vertical-align: middle;\n",
       "    }\n",
       "\n",
       "    .dataframe tbody tr th {\n",
       "        vertical-align: top;\n",
       "    }\n",
       "\n",
       "    .dataframe thead th {\n",
       "        text-align: right;\n",
       "    }\n",
       "</style>\n",
       "<table border=\"1\" class=\"dataframe\">\n",
       "  <thead>\n",
       "    <tr style=\"text-align: right;\">\n",
       "      <th></th>\n",
       "      <th>y</th>\n",
       "      <th>text</th>\n",
       "      <th>text_pt</th>\n",
       "    </tr>\n",
       "  </thead>\n",
       "  <tbody>\n",
       "    <tr>\n",
       "      <th>0</th>\n",
       "      <td>neutral</td>\n",
       "      <td>technopolis plans develop stages area less 100...</td>\n",
       "      <td>technopolis planeja desenvolver etapas area in...</td>\n",
       "    </tr>\n",
       "    <tr>\n",
       "      <th>1</th>\n",
       "      <td>negative</td>\n",
       "      <td>international electronic industry company elco...</td>\n",
       "      <td>elcoteq empresa internacional industria eletro...</td>\n",
       "    </tr>\n",
       "    <tr>\n",
       "      <th>2</th>\n",
       "      <td>positive</td>\n",
       "      <td>new production plant company would increase ca...</td>\n",
       "      <td>nova planta producao empresa aumentaria capaci...</td>\n",
       "    </tr>\n",
       "    <tr>\n",
       "      <th>3</th>\n",
       "      <td>positive</td>\n",
       "      <td>according company updated strategy years 20092...</td>\n",
       "      <td>acordo estrategia atualizada empresa anos 2009...</td>\n",
       "    </tr>\n",
       "    <tr>\n",
       "      <th>4</th>\n",
       "      <td>positive</td>\n",
       "      <td>financing aspocomp growth aspocomp aggressivel...</td>\n",
       "      <td>financiamento crescimento aspocomp aspocomp pe...</td>\n",
       "    </tr>\n",
       "  </tbody>\n",
       "</table>\n",
       "</div>"
      ],
      "text/plain": [
       "          y                                               text  \\\n",
       "0   neutral  technopolis plans develop stages area less 100...   \n",
       "1  negative  international electronic industry company elco...   \n",
       "2  positive  new production plant company would increase ca...   \n",
       "3  positive  according company updated strategy years 20092...   \n",
       "4  positive  financing aspocomp growth aspocomp aggressivel...   \n",
       "\n",
       "                                             text_pt  \n",
       "0  technopolis planeja desenvolver etapas area in...  \n",
       "1  elcoteq empresa internacional industria eletro...  \n",
       "2  nova planta producao empresa aumentaria capaci...  \n",
       "3  acordo estrategia atualizada empresa anos 2009...  \n",
       "4  financiamento crescimento aspocomp aspocomp pe...  "
      ]
     },
     "execution_count": 20,
     "metadata": {},
     "output_type": "execute_result"
    }
   ],
   "source": [
    "for column in df.columns:\n",
    "    df[column] = df[column].apply(lambda x: unidecode(x))\n",
    "\n",
    "df.head()"
   ]
  },
  {
   "attachments": {},
   "cell_type": "markdown",
   "metadata": {},
   "source": [
    "### 1.6. Lematização"
   ]
  },
  {
   "cell_type": "code",
   "execution_count": 21,
   "metadata": {
    "collapsed": true,
    "jupyter": {
     "outputs_hidden": true
    },
    "tags": []
   },
   "outputs": [],
   "source": [
    "# !pip install spacy"
   ]
  },
  {
   "cell_type": "code",
   "execution_count": 22,
   "metadata": {
    "collapsed": true,
    "jupyter": {
     "outputs_hidden": true
    },
    "tags": []
   },
   "outputs": [
    {
     "name": "stdout",
     "output_type": "stream",
     "text": [
      "Collecting en-core-web-sm==3.6.0\n",
      "  Downloading https://github.com/explosion/spacy-models/releases/download/en_core_web_sm-3.6.0/en_core_web_sm-3.6.0-py3-none-any.whl (12.8 MB)\n",
      "                                              0.0/12.8 MB ? eta -:--:--\n",
      "                                              0.0/12.8 MB 2.0 MB/s eta 0:00:07\n",
      "                                              0.0/12.8 MB 2.0 MB/s eta 0:00:07\n",
      "                                              0.0/12.8 MB 2.0 MB/s eta 0:00:07\n",
      "                                             0.1/12.8 MB 525.1 kB/s eta 0:00:25\n",
      "                                             0.1/12.8 MB 525.1 kB/s eta 0:00:25\n",
      "                                             0.1/12.8 MB 481.4 kB/s eta 0:00:27\n",
      "                                             0.1/12.8 MB 502.3 kB/s eta 0:00:26\n",
      "                                             0.2/12.8 MB 567.2 kB/s eta 0:00:23\n",
      "                                             0.2/12.8 MB 567.2 kB/s eta 0:00:23\n",
      "                                             0.2/12.8 MB 567.2 kB/s eta 0:00:23\n",
      "                                             0.3/12.8 MB 542.5 kB/s eta 0:00:24\n",
      "                                             0.3/12.8 MB 532.5 kB/s eta 0:00:24\n",
      "                                             0.3/12.8 MB 520.7 kB/s eta 0:00:25\n",
      "                                             0.3/12.8 MB 520.7 kB/s eta 0:00:25\n",
      "                                             0.3/12.8 MB 496.0 kB/s eta 0:00:26\n",
      "     -                                       0.3/12.8 MB 477.0 kB/s eta 0:00:27\n",
      "     -                                       0.4/12.8 MB 521.7 kB/s eta 0:00:24\n",
      "     -                                       0.4/12.8 MB 532.5 kB/s eta 0:00:24\n",
      "     -                                       0.4/12.8 MB 539.6 kB/s eta 0:00:23\n",
      "     -                                       0.5/12.8 MB 560.3 kB/s eta 0:00:22\n",
      "     -                                       0.5/12.8 MB 575.3 kB/s eta 0:00:22\n",
      "     -                                       0.5/12.8 MB 575.3 kB/s eta 0:00:22\n",
      "     -                                       0.6/12.8 MB 551.5 kB/s eta 0:00:23\n",
      "     -                                       0.6/12.8 MB 593.9 kB/s eta 0:00:21\n",
      "     -                                       0.6/12.8 MB 586.0 kB/s eta 0:00:21\n",
      "     --                                      0.7/12.8 MB 590.9 kB/s eta 0:00:21\n",
      "     --                                      0.7/12.8 MB 619.8 kB/s eta 0:00:20\n",
      "     --                                      0.7/12.8 MB 619.8 kB/s eta 0:00:20\n",
      "     --                                      0.7/12.8 MB 619.8 kB/s eta 0:00:20\n",
      "     --                                      0.7/12.8 MB 575.5 kB/s eta 0:00:21\n",
      "     --                                      0.8/12.8 MB 585.4 kB/s eta 0:00:21\n",
      "     --                                      0.8/12.8 MB 602.4 kB/s eta 0:00:20\n",
      "     --                                      0.8/12.8 MB 589.4 kB/s eta 0:00:21\n",
      "     --                                      0.8/12.8 MB 589.4 kB/s eta 0:00:21\n",
      "     --                                      0.9/12.8 MB 621.0 kB/s eta 0:00:20\n",
      "     --                                      0.9/12.8 MB 621.0 kB/s eta 0:00:20\n",
      "     ---                                     1.0/12.8 MB 623.0 kB/s eta 0:00:19\n",
      "     ---                                     1.0/12.8 MB 623.0 kB/s eta 0:00:19\n",
      "     ---                                     1.0/12.8 MB 623.0 kB/s eta 0:00:19\n",
      "     ---                                     1.1/12.8 MB 636.9 kB/s eta 0:00:19\n",
      "     ---                                     1.1/12.8 MB 636.9 kB/s eta 0:00:19\n",
      "     ---                                     1.1/12.8 MB 636.9 kB/s eta 0:00:19\n",
      "     ---                                     1.2/12.8 MB 649.6 kB/s eta 0:00:18\n",
      "     ---                                     1.2/12.8 MB 633.5 kB/s eta 0:00:19\n",
      "     ---                                     1.2/12.8 MB 639.3 kB/s eta 0:00:19\n",
      "     ---                                     1.2/12.8 MB 634.4 kB/s eta 0:00:19\n",
      "     ---                                     1.3/12.8 MB 645.2 kB/s eta 0:00:18\n",
      "     ---                                     1.3/12.8 MB 650.2 kB/s eta 0:00:18\n",
      "     ---                                     1.3/12.8 MB 650.2 kB/s eta 0:00:18\n",
      "     ----                                    1.4/12.8 MB 631.3 kB/s eta 0:00:19\n",
      "     ----                                    1.4/12.8 MB 631.3 kB/s eta 0:00:19\n",
      "     ----                                    1.4/12.8 MB 614.0 kB/s eta 0:00:19\n",
      "     ----                                    1.4/12.8 MB 614.0 kB/s eta 0:00:19\n",
      "     ----                                    1.4/12.8 MB 610.5 kB/s eta 0:00:19\n",
      "     ----                                    1.4/12.8 MB 610.5 kB/s eta 0:00:19\n",
      "     ----                                    1.4/12.8 MB 595.0 kB/s eta 0:00:20\n",
      "     ----                                    1.5/12.8 MB 604.6 kB/s eta 0:00:19\n",
      "     ----                                    1.5/12.8 MB 597.5 kB/s eta 0:00:19\n",
      "     ----                                    1.5/12.8 MB 602.8 kB/s eta 0:00:19\n",
      "     ----                                    1.6/12.8 MB 603.5 kB/s eta 0:00:19\n",
      "     ----                                    1.6/12.8 MB 600.3 kB/s eta 0:00:19\n",
      "     ----                                    1.6/12.8 MB 593.7 kB/s eta 0:00:19\n",
      "     ----                                    1.6/12.8 MB 593.7 kB/s eta 0:00:19\n",
      "     ----                                    1.6/12.8 MB 593.7 kB/s eta 0:00:19\n",
      "     ----                                    1.6/12.8 MB 578.1 kB/s eta 0:00:20\n",
      "     ----                                    1.6/12.8 MB 572.7 kB/s eta 0:00:20\n",
      "     -----                                   1.6/12.8 MB 566.9 kB/s eta 0:00:20\n",
      "     -----                                   1.7/12.8 MB 561.8 kB/s eta 0:00:20\n",
      "     -----                                   1.7/12.8 MB 561.8 kB/s eta 0:00:20\n",
      "     -----                                   1.7/12.8 MB 550.7 kB/s eta 0:00:21\n",
      "     -----                                   1.7/12.8 MB 555.6 kB/s eta 0:00:20\n",
      "     -----                                   1.8/12.8 MB 557.7 kB/s eta 0:00:20\n",
      "     -----                                   1.8/12.8 MB 562.3 kB/s eta 0:00:20\n",
      "     -----                                   1.8/12.8 MB 562.3 kB/s eta 0:00:20\n",
      "     -----                                   1.8/12.8 MB 554.5 kB/s eta 0:00:20\n",
      "     -----                                   1.8/12.8 MB 554.5 kB/s eta 0:00:20\n",
      "     -----                                   1.8/12.8 MB 554.5 kB/s eta 0:00:20\n",
      "     -----                                   1.8/12.8 MB 535.1 kB/s eta 0:00:21\n",
      "     -----                                   1.8/12.8 MB 530.8 kB/s eta 0:00:21\n",
      "     -----                                   1.8/12.8 MB 530.8 kB/s eta 0:00:21\n",
      "     -----                                   1.8/12.8 MB 530.8 kB/s eta 0:00:21\n",
      "     -----                                   1.8/12.8 MB 530.8 kB/s eta 0:00:21\n",
      "     -----                                   1.9/12.8 MB 521.5 kB/s eta 0:00:21\n",
      "     -----                                   1.9/12.8 MB 513.1 kB/s eta 0:00:22\n",
      "     -----                                   1.9/12.8 MB 512.8 kB/s eta 0:00:22\n",
      "     ------                                  2.0/12.8 MB 527.6 kB/s eta 0:00:21\n",
      "     ------                                  2.0/12.8 MB 525.9 kB/s eta 0:00:21\n",
      "     ------                                  2.0/12.8 MB 525.9 kB/s eta 0:00:21\n",
      "     ------                                  2.1/12.8 MB 529.6 kB/s eta 0:00:21\n",
      "     ------                                  2.1/12.8 MB 538.8 kB/s eta 0:00:20\n",
      "     ------                                  2.2/12.8 MB 547.5 kB/s eta 0:00:20\n",
      "     ------                                  2.2/12.8 MB 549.1 kB/s eta 0:00:20\n",
      "     ------                                  2.3/12.8 MB 559.6 kB/s eta 0:00:19\n",
      "     -------                                 2.4/12.8 MB 568.9 kB/s eta 0:00:19\n",
      "     -------                                 2.4/12.8 MB 576.8 kB/s eta 0:00:19\n",
      "     -------                                 2.4/12.8 MB 579.9 kB/s eta 0:00:18\n",
      "     -------                                 2.5/12.8 MB 585.8 kB/s eta 0:00:18\n",
      "     -------                                 2.5/12.8 MB 590.8 kB/s eta 0:00:18\n",
      "     -------                                 2.6/12.8 MB 594.2 kB/s eta 0:00:18\n",
      "     --------                                2.6/12.8 MB 601.5 kB/s eta 0:00:17\n",
      "     --------                                2.7/12.8 MB 611.6 kB/s eta 0:00:17\n",
      "     --------                                2.7/12.8 MB 611.6 kB/s eta 0:00:17\n",
      "     --------                                2.8/12.8 MB 612.4 kB/s eta 0:00:17\n",
      "     --------                                2.8/12.8 MB 612.8 kB/s eta 0:00:17\n",
      "     --------                                2.9/12.8 MB 615.5 kB/s eta 0:00:17\n",
      "     --------                                2.9/12.8 MB 618.0 kB/s eta 0:00:17\n",
      "     --------                                2.9/12.8 MB 618.4 kB/s eta 0:00:16\n",
      "     --------                                2.9/12.8 MB 620.8 kB/s eta 0:00:16\n",
      "     ---------                               3.0/12.8 MB 625.4 kB/s eta 0:00:16\n",
      "     ---------                               3.0/12.8 MB 625.7 kB/s eta 0:00:16\n",
      "     ---------                               3.0/12.8 MB 625.7 kB/s eta 0:00:16\n",
      "     ---------                               3.1/12.8 MB 622.2 kB/s eta 0:00:16\n",
      "     ---------                               3.1/12.8 MB 626.6 kB/s eta 0:00:16\n",
      "     ---------                               3.2/12.8 MB 628.9 kB/s eta 0:00:16\n",
      "     ---------                               3.2/12.8 MB 631.0 kB/s eta 0:00:16\n",
      "     ---------                               3.2/12.8 MB 627.3 kB/s eta 0:00:16\n",
      "     ---------                               3.3/12.8 MB 633.5 kB/s eta 0:00:16\n",
      "     ---------                               3.3/12.8 MB 629.8 kB/s eta 0:00:16\n",
      "     ----------                              3.3/12.8 MB 631.9 kB/s eta 0:00:16\n",
      "     ----------                              3.3/12.8 MB 634.0 kB/s eta 0:00:15\n",
      "     ----------                              3.4/12.8 MB 634.2 kB/s eta 0:00:15\n",
      "     ----------                              3.4/12.8 MB 640.1 kB/s eta 0:00:15\n",
      "     ----------                              3.5/12.8 MB 644.0 kB/s eta 0:00:15\n",
      "     ----------                              3.5/12.8 MB 644.0 kB/s eta 0:00:15\n",
      "     ----------                              3.5/12.8 MB 640.5 kB/s eta 0:00:15\n",
      "     ----------                              3.6/12.8 MB 649.8 kB/s eta 0:00:15\n",
      "     ----------                              3.6/12.8 MB 649.8 kB/s eta 0:00:15\n",
      "     ----------                              3.6/12.8 MB 649.8 kB/s eta 0:00:15\n",
      "     ----------                              3.6/12.8 MB 633.7 kB/s eta 0:00:15\n",
      "     -----------                             3.7/12.8 MB 644.6 kB/s eta 0:00:15\n",
      "     -----------                             3.7/12.8 MB 644.6 kB/s eta 0:00:15\n",
      "     -----------                             3.7/12.8 MB 641.2 kB/s eta 0:00:15\n",
      "     -----------                             3.7/12.8 MB 643.0 kB/s eta 0:00:15\n",
      "     -----------                             3.8/12.8 MB 641.4 kB/s eta 0:00:15\n",
      "     -----------                             3.8/12.8 MB 641.4 kB/s eta 0:00:15\n",
      "     -----------                             3.9/12.8 MB 651.9 kB/s eta 0:00:14\n",
      "     -----------                             3.9/12.8 MB 653.7 kB/s eta 0:00:14\n",
      "     ------------                            4.0/12.8 MB 657.0 kB/s eta 0:00:14\n",
      "     ------------                            4.0/12.8 MB 658.7 kB/s eta 0:00:14\n",
      "     ------------                            4.1/12.8 MB 660.4 kB/s eta 0:00:14\n",
      "     ------------                            4.1/12.8 MB 660.4 kB/s eta 0:00:14\n",
      "     ------------                            4.1/12.8 MB 663.7 kB/s eta 0:00:14\n",
      "     ------------                            4.1/12.8 MB 663.7 kB/s eta 0:00:14\n",
      "     ------------                            4.2/12.8 MB 661.9 kB/s eta 0:00:14\n",
      "     ------------                            4.2/12.8 MB 663.5 kB/s eta 0:00:13\n",
      "     ------------                            4.2/12.8 MB 666.7 kB/s eta 0:00:13\n",
      "     -------------                           4.3/12.8 MB 666.6 kB/s eta 0:00:13\n",
      "     -------------                           4.3/12.8 MB 668.1 kB/s eta 0:00:13\n",
      "     -------------                           4.3/12.8 MB 668.1 kB/s eta 0:00:13\n",
      "     -------------                           4.3/12.8 MB 668.1 kB/s eta 0:00:13\n",
      "     -------------                           4.4/12.8 MB 669.4 kB/s eta 0:00:13\n",
      "     -------------                           4.4/12.8 MB 667.8 kB/s eta 0:00:13\n",
      "     -------------                           4.5/12.8 MB 669.2 kB/s eta 0:00:13\n",
      "     -------------                           4.5/12.8 MB 667.7 kB/s eta 0:00:13\n",
      "     -------------                           4.5/12.8 MB 667.6 kB/s eta 0:00:13\n",
      "     -------------                           4.5/12.8 MB 667.5 kB/s eta 0:00:13\n",
      "     -------------                           4.6/12.8 MB 668.9 kB/s eta 0:00:13\n",
      "     -------------                           4.6/12.8 MB 665.8 kB/s eta 0:00:13\n",
      "     --------------                          4.6/12.8 MB 668.7 kB/s eta 0:00:13\n",
      "     --------------                          4.7/12.8 MB 668.6 kB/s eta 0:00:13\n",
      "     --------------                          4.7/12.8 MB 670.0 kB/s eta 0:00:13\n",
      "     --------------                          4.7/12.8 MB 671.3 kB/s eta 0:00:13\n",
      "     --------------                          4.8/12.8 MB 671.3 kB/s eta 0:00:12\n",
      "     --------------                          4.8/12.8 MB 672.6 kB/s eta 0:00:12\n",
      "     --------------                          4.8/12.8 MB 674.1 kB/s eta 0:00:12\n",
      "     --------------                          4.9/12.8 MB 673.9 kB/s eta 0:00:12\n",
      "     --------------                          4.9/12.8 MB 672.3 kB/s eta 0:00:12\n",
      "     ---------------                         4.9/12.8 MB 675.0 kB/s eta 0:00:12\n",
      "     ---------------                         5.0/12.8 MB 674.9 kB/s eta 0:00:12\n",
      "     ---------------                         5.0/12.8 MB 676.2 kB/s eta 0:00:12\n",
      "     ---------------                         5.0/12.8 MB 677.4 kB/s eta 0:00:12\n",
      "     ---------------                         5.0/12.8 MB 677.4 kB/s eta 0:00:12\n",
      "     ---------------                         5.1/12.8 MB 674.5 kB/s eta 0:00:12\n",
      "     ---------------                         5.1/12.8 MB 674.3 kB/s eta 0:00:12\n",
      "     ---------------                         5.1/12.8 MB 672.9 kB/s eta 0:00:12\n",
      "     ---------------                         5.2/12.8 MB 675.5 kB/s eta 0:00:12\n",
      "     ---------------                         5.2/12.8 MB 676.7 kB/s eta 0:00:12\n",
      "     ---------------                         5.2/12.8 MB 678.0 kB/s eta 0:00:12\n",
      "     ----------------                        5.3/12.8 MB 679.1 kB/s eta 0:00:12\n",
      "     ----------------                        5.3/12.8 MB 679.0 kB/s eta 0:00:12\n",
      "     ----------------                        5.4/12.8 MB 681.5 kB/s eta 0:00:11\n",
      "     ----------------                        5.4/12.8 MB 681.3 kB/s eta 0:00:11\n",
      "     ----------------                        5.4/12.8 MB 681.2 kB/s eta 0:00:11\n",
      "     ----------------                        5.4/12.8 MB 678.5 kB/s eta 0:00:11\n",
      "     ----------------                        5.5/12.8 MB 682.2 kB/s eta 0:00:11\n",
      "     ----------------                        5.5/12.8 MB 682.1 kB/s eta 0:00:11\n",
      "     ----------------                        5.5/12.8 MB 683.3 kB/s eta 0:00:11\n",
      "     -----------------                       5.6/12.8 MB 685.6 kB/s eta 0:00:11\n",
      "     -----------------                       5.6/12.8 MB 686.6 kB/s eta 0:00:11\n",
      "     -----------------                       5.7/12.8 MB 685.2 kB/s eta 0:00:11\n",
      "     -----------------                       5.7/12.8 MB 687.5 kB/s eta 0:00:11\n",
      "     -----------------                       5.7/12.8 MB 687.3 kB/s eta 0:00:11\n",
      "     -----------------                       5.8/12.8 MB 688.4 kB/s eta 0:00:11\n",
      "     -----------------                       5.8/12.8 MB 690.7 kB/s eta 0:00:11\n",
      "     -----------------                       5.9/12.8 MB 691.7 kB/s eta 0:00:11\n",
      "     -----------------                       5.9/12.8 MB 691.7 kB/s eta 0:00:11\n",
      "     -----------------                       5.9/12.8 MB 691.7 kB/s eta 0:00:11\n",
      "     ------------------                      5.9/12.8 MB 693.7 kB/s eta 0:00:10\n",
      "     ------------------                      6.0/12.8 MB 694.5 kB/s eta 0:00:10\n",
      "     ------------------                      6.0/12.8 MB 694.5 kB/s eta 0:00:10\n",
      "     ------------------                      6.0/12.8 MB 691.8 kB/s eta 0:00:10\n",
      "     ------------------                      6.1/12.8 MB 693.0 kB/s eta 0:00:10\n",
      "     ------------------                      6.1/12.8 MB 689.2 kB/s eta 0:00:10\n",
      "     ------------------                      6.1/12.8 MB 689.0 kB/s eta 0:00:10\n",
      "     ------------------                      6.1/12.8 MB 687.7 kB/s eta 0:00:10\n",
      "     ------------------                      6.1/12.8 MB 687.6 kB/s eta 0:00:10\n",
      "     ------------------                      6.2/12.8 MB 689.7 kB/s eta 0:00:10\n",
      "     ------------------                      6.2/12.8 MB 688.4 kB/s eta 0:00:10\n",
      "     -------------------                     6.2/12.8 MB 689.3 kB/s eta 0:00:10\n",
      "     -------------------                     6.3/12.8 MB 689.2 kB/s eta 0:00:10\n",
      "     -------------------                     6.3/12.8 MB 690.2 kB/s eta 0:00:10\n",
      "     -------------------                     6.3/12.8 MB 690.2 kB/s eta 0:00:10\n",
      "     -------------------                     6.3/12.8 MB 685.4 kB/s eta 0:00:10\n",
      "     -------------------                     6.4/12.8 MB 686.4 kB/s eta 0:00:10\n",
      "     -------------------                     6.4/12.8 MB 686.3 kB/s eta 0:00:10\n",
      "     -------------------                     6.4/12.8 MB 688.3 kB/s eta 0:00:10\n",
      "     -------------------                     6.5/12.8 MB 685.8 kB/s eta 0:00:10\n",
      "     -------------------                     6.5/12.8 MB 686.9 kB/s eta 0:00:10\n",
      "     -------------------                     6.5/12.8 MB 688.9 kB/s eta 0:00:10\n",
      "     --------------------                    6.6/12.8 MB 688.7 kB/s eta 0:00:10\n",
      "     --------------------                    6.6/12.8 MB 689.7 kB/s eta 0:00:09\n",
      "     --------------------                    6.6/12.8 MB 689.5 kB/s eta 0:00:09\n",
      "     --------------------                    6.7/12.8 MB 691.4 kB/s eta 0:00:09\n",
      "     --------------------                    6.7/12.8 MB 692.4 kB/s eta 0:00:09\n",
      "     --------------------                    6.7/12.8 MB 692.3 kB/s eta 0:00:09\n",
      "     --------------------                    6.8/12.8 MB 692.1 kB/s eta 0:00:09\n",
      "     --------------------                    6.8/12.8 MB 693.0 kB/s eta 0:00:09\n",
      "     --------------------                    6.8/12.8 MB 692.9 kB/s eta 0:00:09\n",
      "     --------------------                    6.9/12.8 MB 694.7 kB/s eta 0:00:09\n",
      "     ---------------------                   6.9/12.8 MB 693.5 kB/s eta 0:00:09\n",
      "     ---------------------                   6.9/12.8 MB 695.5 kB/s eta 0:00:09\n",
      "     ---------------------                   7.0/12.8 MB 694.3 kB/s eta 0:00:09\n",
      "     ---------------------                   7.0/12.8 MB 696.1 kB/s eta 0:00:09\n",
      "     ---------------------                   7.0/12.8 MB 696.1 kB/s eta 0:00:09\n",
      "     ---------------------                   7.0/12.8 MB 692.8 kB/s eta 0:00:09\n",
      "     ---------------------                   7.0/12.8 MB 692.8 kB/s eta 0:00:09\n",
      "     ---------------------                   7.0/12.8 MB 692.8 kB/s eta 0:00:09\n",
      "     ---------------------                   7.1/12.8 MB 694.3 kB/s eta 0:00:09\n",
      "     ---------------------                   7.1/12.8 MB 695.3 kB/s eta 0:00:09\n",
      "     ---------------------                   7.2/12.8 MB 694.0 kB/s eta 0:00:09\n",
      "     ---------------------                   7.2/12.8 MB 693.9 kB/s eta 0:00:09\n",
      "     ----------------------                  7.2/12.8 MB 692.7 kB/s eta 0:00:09\n",
      "     ----------------------                  7.3/12.8 MB 693.6 kB/s eta 0:00:08\n",
      "     ----------------------                  7.3/12.8 MB 693.4 kB/s eta 0:00:08\n",
      "     ----------------------                  7.3/12.8 MB 693.4 kB/s eta 0:00:08\n",
      "     ----------------------                  7.3/12.8 MB 692.2 kB/s eta 0:00:08\n",
      "     ----------------------                  7.4/12.8 MB 692.0 kB/s eta 0:00:08\n",
      "     ----------------------                  7.4/12.8 MB 692.9 kB/s eta 0:00:08\n",
      "     ----------------------                  7.4/12.8 MB 691.7 kB/s eta 0:00:08\n",
      "     ----------------------                  7.5/12.8 MB 691.5 kB/s eta 0:00:08\n",
      "     ----------------------                  7.5/12.8 MB 692.4 kB/s eta 0:00:08\n",
      "     ----------------------                  7.5/12.8 MB 692.3 kB/s eta 0:00:08\n",
      "     ----------------------                  7.5/12.8 MB 691.1 kB/s eta 0:00:08\n",
      "     ----------------------                  7.5/12.8 MB 691.1 kB/s eta 0:00:08\n",
      "     -----------------------                 7.6/12.8 MB 689.9 kB/s eta 0:00:08\n",
      "     -----------------------                 7.6/12.8 MB 689.8 kB/s eta 0:00:08\n",
      "     -----------------------                 7.7/12.8 MB 690.5 kB/s eta 0:00:08\n",
      "     -----------------------                 7.7/12.8 MB 690.3 kB/s eta 0:00:08\n",
      "     -----------------------                 7.7/12.8 MB 691.2 kB/s eta 0:00:08\n",
      "     -----------------------                 7.8/12.8 MB 691.0 kB/s eta 0:00:08\n",
      "     -----------------------                 7.8/12.8 MB 691.9 kB/s eta 0:00:08\n",
      "     -----------------------                 7.8/12.8 MB 692.6 kB/s eta 0:00:08\n",
      "     -----------------------                 7.9/12.8 MB 692.4 kB/s eta 0:00:08\n",
      "     -----------------------                 7.9/12.8 MB 691.4 kB/s eta 0:00:08\n",
      "     ------------------------                7.9/12.8 MB 692.1 kB/s eta 0:00:08\n",
      "     ------------------------                7.9/12.8 MB 693.0 kB/s eta 0:00:08\n",
      "     ------------------------                8.0/12.8 MB 691.9 kB/s eta 0:00:07\n",
      "     ------------------------                8.0/12.8 MB 693.6 kB/s eta 0:00:07\n",
      "     ------------------------                8.0/12.8 MB 692.6 kB/s eta 0:00:07\n",
      "     ------------------------                8.1/12.8 MB 694.2 kB/s eta 0:00:07\n",
      "     ------------------------                8.1/12.8 MB 693.2 kB/s eta 0:00:07\n",
      "     ------------------------                8.1/12.8 MB 693.1 kB/s eta 0:00:07\n",
      "     ------------------------                8.1/12.8 MB 692.0 kB/s eta 0:00:07\n",
      "     ------------------------                8.2/12.8 MB 694.6 kB/s eta 0:00:07\n",
      "     ------------------------                8.2/12.8 MB 691.7 kB/s eta 0:00:07\n",
      "     -------------------------               8.2/12.8 MB 693.3 kB/s eta 0:00:07\n",
      "     -------------------------               8.3/12.8 MB 693.1 kB/s eta 0:00:07\n",
      "     -------------------------               8.3/12.8 MB 693.9 kB/s eta 0:00:07\n",
      "     -------------------------               8.3/12.8 MB 694.6 kB/s eta 0:00:07\n",
      "     -------------------------               8.4/12.8 MB 694.5 kB/s eta 0:00:07\n",
      "     -------------------------               8.4/12.8 MB 696.0 kB/s eta 0:00:07\n",
      "     -------------------------               8.4/12.8 MB 696.0 kB/s eta 0:00:07\n",
      "     -------------------------               8.5/12.8 MB 694.1 kB/s eta 0:00:07\n",
      "     -------------------------               8.5/12.8 MB 695.6 kB/s eta 0:00:07\n",
      "     -------------------------               8.5/12.8 MB 695.6 kB/s eta 0:00:07\n",
      "     -------------------------               8.5/12.8 MB 695.6 kB/s eta 0:00:07\n",
      "     --------------------------              8.6/12.8 MB 693.6 kB/s eta 0:00:07\n",
      "     --------------------------              8.6/12.8 MB 695.2 kB/s eta 0:00:07\n",
      "     --------------------------              8.6/12.8 MB 695.2 kB/s eta 0:00:07\n",
      "     --------------------------              8.6/12.8 MB 691.6 kB/s eta 0:00:07\n",
      "     --------------------------              8.7/12.8 MB 693.2 kB/s eta 0:00:06\n",
      "     --------------------------              8.7/12.8 MB 692.2 kB/s eta 0:00:06\n",
      "     --------------------------              8.7/12.8 MB 692.2 kB/s eta 0:00:06\n",
      "     --------------------------              8.7/12.8 MB 692.2 kB/s eta 0:00:06\n",
      "     --------------------------              8.7/12.8 MB 692.2 kB/s eta 0:00:06\n",
      "     --------------------------              8.7/12.8 MB 692.2 kB/s eta 0:00:06\n",
      "     --------------------------              8.7/12.8 MB 692.2 kB/s eta 0:00:06\n",
      "     --------------------------              8.7/12.8 MB 692.2 kB/s eta 0:00:06\n",
      "     --------------------------              8.7/12.8 MB 692.2 kB/s eta 0:00:06\n",
      "     --------------------------              8.8/12.8 MB 680.9 kB/s eta 0:00:06\n",
      "     --------------------------              8.8/12.8 MB 680.9 kB/s eta 0:00:06\n",
      "     --------------------------              8.8/12.8 MB 680.9 kB/s eta 0:00:06\n",
      "     --------------------------              8.8/12.8 MB 674.3 kB/s eta 0:00:06\n",
      "     --------------------------              8.8/12.8 MB 674.3 kB/s eta 0:00:06\n",
      "     --------------------------              8.8/12.8 MB 674.3 kB/s eta 0:00:06\n",
      "     --------------------------              8.8/12.8 MB 671.8 kB/s eta 0:00:06\n",
      "     --------------------------              8.8/12.8 MB 671.8 kB/s eta 0:00:06\n",
      "     --------------------------              8.8/12.8 MB 671.8 kB/s eta 0:00:06\n",
      "     --------------------------              8.8/12.8 MB 671.8 kB/s eta 0:00:06\n",
      "     --------------------------              8.8/12.8 MB 664.6 kB/s eta 0:00:06\n",
      "     ---------------------------             8.9/12.8 MB 664.6 kB/s eta 0:00:06\n",
      "     ---------------------------             8.9/12.8 MB 664.6 kB/s eta 0:00:06\n",
      "     ---------------------------             8.9/12.8 MB 662.2 kB/s eta 0:00:06\n",
      "     ---------------------------             8.9/12.8 MB 661.5 kB/s eta 0:00:06\n",
      "     ---------------------------             8.9/12.8 MB 661.5 kB/s eta 0:00:06\n",
      "     ---------------------------             8.9/12.8 MB 660.7 kB/s eta 0:00:06\n",
      "     ---------------------------             9.0/12.8 MB 659.9 kB/s eta 0:00:06\n",
      "     ---------------------------             9.0/12.8 MB 659.9 kB/s eta 0:00:06\n",
      "     ---------------------------             9.0/12.8 MB 659.9 kB/s eta 0:00:06\n",
      "     ---------------------------             9.0/12.8 MB 659.9 kB/s eta 0:00:06\n",
      "     ---------------------------             9.1/12.8 MB 656.9 kB/s eta 0:00:06\n",
      "     ---------------------------             9.1/12.8 MB 656.9 kB/s eta 0:00:06\n",
      "     ---------------------------             9.1/12.8 MB 654.6 kB/s eta 0:00:06\n",
      "     ---------------------------             9.1/12.8 MB 654.6 kB/s eta 0:00:06\n",
      "     ---------------------------             9.1/12.8 MB 654.6 kB/s eta 0:00:06\n",
      "     ---------------------------             9.2/12.8 MB 655.4 kB/s eta 0:00:06\n",
      "     ----------------------------            9.2/12.8 MB 655.4 kB/s eta 0:00:06\n",
      "     ----------------------------            9.3/12.8 MB 656.1 kB/s eta 0:00:06\n",
      "     ----------------------------            9.3/12.8 MB 656.1 kB/s eta 0:00:06\n",
      "     ----------------------------            9.3/12.8 MB 656.8 kB/s eta 0:00:06\n",
      "     ----------------------------            9.3/12.8 MB 656.1 kB/s eta 0:00:06\n",
      "     ----------------------------            9.4/12.8 MB 656.1 kB/s eta 0:00:06\n",
      "     ----------------------------            9.4/12.8 MB 656.1 kB/s eta 0:00:06\n",
      "     ----------------------------            9.4/12.8 MB 656.8 kB/s eta 0:00:06\n",
      "     ----------------------------            9.4/12.8 MB 656.1 kB/s eta 0:00:06\n",
      "     ----------------------------            9.4/12.8 MB 656.1 kB/s eta 0:00:06\n",
      "     ----------------------------            9.5/12.8 MB 656.1 kB/s eta 0:00:06\n",
      "     ----------------------------            9.5/12.8 MB 656.1 kB/s eta 0:00:06\n",
      "     -----------------------------           9.5/12.8 MB 653.9 kB/s eta 0:00:06\n",
      "     -----------------------------           9.5/12.8 MB 654.0 kB/s eta 0:00:05\n",
      "     -----------------------------           9.6/12.8 MB 653.3 kB/s eta 0:00:05\n",
      "     -----------------------------           9.6/12.8 MB 652.6 kB/s eta 0:00:05\n",
      "     -----------------------------           9.6/12.8 MB 653.3 kB/s eta 0:00:05\n",
      "     -----------------------------           9.6/12.8 MB 652.6 kB/s eta 0:00:05\n",
      "     -----------------------------           9.7/12.8 MB 652.6 kB/s eta 0:00:05\n",
      "     -----------------------------           9.7/12.8 MB 651.9 kB/s eta 0:00:05\n",
      "     -----------------------------           9.7/12.8 MB 652.6 kB/s eta 0:00:05\n",
      "     -----------------------------           9.7/12.8 MB 652.6 kB/s eta 0:00:05\n",
      "     -----------------------------           9.7/12.8 MB 652.0 kB/s eta 0:00:05\n",
      "     -----------------------------           9.8/12.8 MB 651.9 kB/s eta 0:00:05\n",
      "     -----------------------------           9.8/12.8 MB 652.0 kB/s eta 0:00:05\n",
      "     -----------------------------           9.8/12.8 MB 652.0 kB/s eta 0:00:05\n",
      "     -----------------------------           9.8/12.8 MB 652.0 kB/s eta 0:00:05\n",
      "     ------------------------------          9.9/12.8 MB 650.0 kB/s eta 0:00:05\n",
      "     ------------------------------          9.9/12.8 MB 649.3 kB/s eta 0:00:05\n",
      "     ------------------------------          9.9/12.8 MB 647.3 kB/s eta 0:00:05\n",
      "     ------------------------------          9.9/12.8 MB 647.3 kB/s eta 0:00:05\n",
      "     ------------------------------          9.9/12.8 MB 647.3 kB/s eta 0:00:05\n",
      "     -----------------------------          10.0/12.8 MB 646.7 kB/s eta 0:00:05\n",
      "     -----------------------------          10.0/12.8 MB 647.4 kB/s eta 0:00:05\n",
      "     -----------------------------          10.0/12.8 MB 647.4 kB/s eta 0:00:05\n",
      "     -----------------------------          10.0/12.8 MB 644.8 kB/s eta 0:00:05\n",
      "     -----------------------------          10.0/12.8 MB 644.8 kB/s eta 0:00:05\n",
      "     -----------------------------          10.0/12.8 MB 644.2 kB/s eta 0:00:05\n",
      "     -----------------------------          10.1/12.8 MB 644.2 kB/s eta 0:00:05\n",
      "     -----------------------------          10.1/12.8 MB 644.2 kB/s eta 0:00:05\n",
      "     -----------------------------          10.1/12.8 MB 644.2 kB/s eta 0:00:05\n",
      "     -----------------------------          10.1/12.8 MB 644.2 kB/s eta 0:00:05\n",
      "     -----------------------------          10.1/12.8 MB 639.8 kB/s eta 0:00:05\n",
      "     -----------------------------          10.1/12.8 MB 639.8 kB/s eta 0:00:05\n",
      "     -----------------------------          10.1/12.8 MB 639.8 kB/s eta 0:00:05\n",
      "     -----------------------------          10.1/12.8 MB 639.8 kB/s eta 0:00:05\n",
      "     ------------------------------         10.1/12.8 MB 633.5 kB/s eta 0:00:05\n",
      "     ------------------------------         10.1/12.8 MB 633.5 kB/s eta 0:00:05\n",
      "     ------------------------------         10.1/12.8 MB 631.1 kB/s eta 0:00:05\n",
      "     ------------------------------         10.1/12.8 MB 631.2 kB/s eta 0:00:05\n",
      "     ------------------------------         10.2/12.8 MB 630.0 kB/s eta 0:00:05\n",
      "     ------------------------------         10.2/12.8 MB 630.0 kB/s eta 0:00:05\n",
      "     ------------------------------         10.2/12.8 MB 630.0 kB/s eta 0:00:05\n",
      "     ------------------------------         10.2/12.8 MB 627.6 kB/s eta 0:00:05\n",
      "     ------------------------------         10.3/12.8 MB 627.1 kB/s eta 0:00:05\n",
      "     ------------------------------         10.3/12.8 MB 630.1 kB/s eta 0:00:04\n",
      "     ------------------------------         10.3/12.8 MB 630.1 kB/s eta 0:00:04\n",
      "     ------------------------------         10.3/12.8 MB 628.9 kB/s eta 0:00:04\n",
      "     ------------------------------         10.3/12.8 MB 630.1 kB/s eta 0:00:04\n",
      "     ------------------------------         10.4/12.8 MB 630.1 kB/s eta 0:00:04\n",
      "     ------------------------------         10.4/12.8 MB 630.1 kB/s eta 0:00:04\n",
      "     ------------------------------         10.4/12.8 MB 627.7 kB/s eta 0:00:04\n",
      "     ------------------------------         10.4/12.8 MB 627.7 kB/s eta 0:00:04\n",
      "     ------------------------------         10.4/12.8 MB 627.7 kB/s eta 0:00:04\n",
      "     ------------------------------         10.4/12.8 MB 627.7 kB/s eta 0:00:04\n",
      "     ------------------------------         10.4/12.8 MB 622.3 kB/s eta 0:00:04\n",
      "     ------------------------------         10.4/12.8 MB 622.3 kB/s eta 0:00:04\n",
      "     ------------------------------         10.4/12.8 MB 622.3 kB/s eta 0:00:04\n",
      "     ------------------------------         10.4/12.8 MB 621.8 kB/s eta 0:00:04\n",
      "     -------------------------------        10.5/12.8 MB 619.4 kB/s eta 0:00:04\n",
      "     -------------------------------        10.5/12.8 MB 618.8 kB/s eta 0:00:04\n",
      "     -------------------------------        10.5/12.8 MB 618.8 kB/s eta 0:00:04\n",
      "     -------------------------------        10.5/12.8 MB 616.5 kB/s eta 0:00:04\n",
      "     -------------------------------        10.5/12.8 MB 616.5 kB/s eta 0:00:04\n",
      "     -------------------------------        10.5/12.8 MB 618.8 kB/s eta 0:00:04\n",
      "     -------------------------------        10.5/12.8 MB 618.8 kB/s eta 0:00:04\n",
      "     -------------------------------        10.5/12.8 MB 615.3 kB/s eta 0:00:04\n",
      "     -------------------------------        10.5/12.8 MB 615.3 kB/s eta 0:00:04\n",
      "     -------------------------------        10.6/12.8 MB 615.3 kB/s eta 0:00:04\n",
      "     -------------------------------        10.6/12.8 MB 613.0 kB/s eta 0:00:04\n",
      "     -------------------------------        10.6/12.8 MB 611.9 kB/s eta 0:00:04\n",
      "     -------------------------------        10.6/12.8 MB 611.9 kB/s eta 0:00:04\n",
      "     -------------------------------        10.6/12.8 MB 611.9 kB/s eta 0:00:04\n",
      "     -------------------------------        10.6/12.8 MB 610.2 kB/s eta 0:00:04\n",
      "     -------------------------------        10.6/12.8 MB 610.2 kB/s eta 0:00:04\n",
      "     -------------------------------        10.7/12.8 MB 606.8 kB/s eta 0:00:04\n",
      "     -------------------------------        10.7/12.8 MB 608.4 kB/s eta 0:00:04\n",
      "     -------------------------------        10.7/12.8 MB 608.4 kB/s eta 0:00:04\n",
      "     -------------------------------        10.7/12.8 MB 605.1 kB/s eta 0:00:04\n",
      "     -------------------------------        10.7/12.8 MB 605.1 kB/s eta 0:00:04\n",
      "     -------------------------------        10.7/12.8 MB 602.8 kB/s eta 0:00:04\n",
      "     -------------------------------        10.7/12.8 MB 602.8 kB/s eta 0:00:04\n",
      "     -------------------------------        10.7/12.8 MB 602.8 kB/s eta 0:00:04\n",
      "     -------------------------------        10.7/12.8 MB 602.8 kB/s eta 0:00:04\n",
      "     -------------------------------        10.7/12.8 MB 602.8 kB/s eta 0:00:04\n",
      "     -------------------------------        10.7/12.8 MB 602.8 kB/s eta 0:00:04\n",
      "     -------------------------------        10.7/12.8 MB 602.8 kB/s eta 0:00:04\n",
      "     -------------------------------        10.8/12.8 MB 591.9 kB/s eta 0:00:04\n",
      "     -------------------------------        10.8/12.8 MB 591.9 kB/s eta 0:00:04\n",
      "     -------------------------------        10.8/12.8 MB 592.5 kB/s eta 0:00:04\n",
      "     -------------------------------        10.8/12.8 MB 592.5 kB/s eta 0:00:04\n",
      "     -------------------------------        10.8/12.8 MB 592.5 kB/s eta 0:00:04\n",
      "     -------------------------------        10.8/12.8 MB 592.5 kB/s eta 0:00:04\n",
      "     --------------------------------       10.8/12.8 MB 587.2 kB/s eta 0:00:04\n",
      "     --------------------------------       10.8/12.8 MB 587.2 kB/s eta 0:00:04\n",
      "     --------------------------------       10.8/12.8 MB 587.2 kB/s eta 0:00:04\n",
      "     --------------------------------       10.8/12.8 MB 587.2 kB/s eta 0:00:04\n",
      "     --------------------------------       10.8/12.8 MB 587.2 kB/s eta 0:00:04\n",
      "     --------------------------------       10.8/12.8 MB 587.2 kB/s eta 0:00:04\n",
      "     --------------------------------       10.8/12.8 MB 579.4 kB/s eta 0:00:04\n",
      "     --------------------------------       10.8/12.8 MB 579.4 kB/s eta 0:00:04\n",
      "     --------------------------------       10.8/12.8 MB 579.4 kB/s eta 0:00:04\n",
      "     --------------------------------       10.9/12.8 MB 578.3 kB/s eta 0:00:04\n",
      "     --------------------------------       10.9/12.8 MB 576.3 kB/s eta 0:00:04\n",
      "     --------------------------------       10.9/12.8 MB 575.3 kB/s eta 0:00:04\n",
      "     --------------------------------       10.9/12.8 MB 575.3 kB/s eta 0:00:04\n",
      "     --------------------------------       10.9/12.8 MB 573.8 kB/s eta 0:00:04\n",
      "     --------------------------------       10.9/12.8 MB 573.3 kB/s eta 0:00:04\n",
      "     --------------------------------       10.9/12.8 MB 571.3 kB/s eta 0:00:04\n",
      "     --------------------------------       10.9/12.8 MB 571.3 kB/s eta 0:00:04\n",
      "     --------------------------------       10.9/12.8 MB 571.3 kB/s eta 0:00:04\n",
      "     --------------------------------       10.9/12.8 MB 571.3 kB/s eta 0:00:04\n",
      "     --------------------------------       10.9/12.8 MB 571.3 kB/s eta 0:00:04\n",
      "     --------------------------------       10.9/12.8 MB 571.3 kB/s eta 0:00:04\n",
      "     --------------------------------       10.9/12.8 MB 571.3 kB/s eta 0:00:04\n",
      "     --------------------------------       10.9/12.8 MB 571.3 kB/s eta 0:00:04\n",
      "     --------------------------------       10.9/12.8 MB 571.3 kB/s eta 0:00:04\n",
      "     --------------------------------       10.9/12.8 MB 571.3 kB/s eta 0:00:04\n",
      "     --------------------------------       10.9/12.8 MB 571.3 kB/s eta 0:00:04\n",
      "     --------------------------------       10.9/12.8 MB 571.3 kB/s eta 0:00:04\n",
      "     --------------------------------       10.9/12.8 MB 571.3 kB/s eta 0:00:04\n",
      "     --------------------------------       10.9/12.8 MB 571.3 kB/s eta 0:00:04\n",
      "     --------------------------------       10.9/12.8 MB 571.3 kB/s eta 0:00:04\n",
      "     --------------------------------       10.9/12.8 MB 571.3 kB/s eta 0:00:04\n",
      "     --------------------------------       11.0/12.8 MB 554.8 kB/s eta 0:00:04\n",
      "     --------------------------------       11.0/12.8 MB 554.8 kB/s eta 0:00:04\n",
      "     --------------------------------       11.0/12.8 MB 553.4 kB/s eta 0:00:04\n",
      "     --------------------------------       11.0/12.8 MB 553.4 kB/s eta 0:00:04\n",
      "     --------------------------------       11.0/12.8 MB 553.4 kB/s eta 0:00:04\n",
      "     --------------------------------       11.0/12.8 MB 553.4 kB/s eta 0:00:04\n",
      "     --------------------------------       11.0/12.8 MB 548.8 kB/s eta 0:00:04\n",
      "     --------------------------------       11.0/12.8 MB 548.8 kB/s eta 0:00:04\n",
      "     --------------------------------       11.0/12.8 MB 546.0 kB/s eta 0:00:04\n",
      "     --------------------------------       11.0/12.8 MB 546.0 kB/s eta 0:00:04\n",
      "     --------------------------------       11.1/12.8 MB 546.5 kB/s eta 0:00:04\n",
      "     --------------------------------       11.1/12.8 MB 546.5 kB/s eta 0:00:04\n",
      "     --------------------------------       11.1/12.8 MB 545.1 kB/s eta 0:00:04\n",
      "     ---------------------------------      11.1/12.8 MB 543.8 kB/s eta 0:00:04\n",
      "     ---------------------------------      11.2/12.8 MB 543.3 kB/s eta 0:00:04\n",
      "     ---------------------------------      11.2/12.8 MB 543.8 kB/s eta 0:00:03\n",
      "     ---------------------------------      11.2/12.8 MB 543.3 kB/s eta 0:00:03\n",
      "     ---------------------------------      11.3/12.8 MB 544.7 kB/s eta 0:00:03\n",
      "     ---------------------------------      11.3/12.8 MB 544.7 kB/s eta 0:00:03\n",
      "     ---------------------------------      11.3/12.8 MB 542.4 kB/s eta 0:00:03\n",
      "     ---------------------------------      11.3/12.8 MB 545.6 kB/s eta 0:00:03\n",
      "     ---------------------------------      11.4/12.8 MB 543.8 kB/s eta 0:00:03\n",
      "     ---------------------------------      11.4/12.8 MB 542.9 kB/s eta 0:00:03\n",
      "     ---------------------------------      11.4/12.8 MB 542.9 kB/s eta 0:00:03\n",
      "     ---------------------------------      11.4/12.8 MB 542.9 kB/s eta 0:00:03\n",
      "     ----------------------------------     11.5/12.8 MB 542.0 kB/s eta 0:00:03\n",
      "     ----------------------------------     11.5/12.8 MB 542.4 kB/s eta 0:00:03\n",
      "     ----------------------------------     11.5/12.8 MB 542.4 kB/s eta 0:00:03\n",
      "     ----------------------------------     11.5/12.8 MB 540.6 kB/s eta 0:00:03\n",
      "     ----------------------------------     11.6/12.8 MB 543.8 kB/s eta 0:00:03\n",
      "     ----------------------------------     11.6/12.8 MB 544.7 kB/s eta 0:00:03\n",
      "     ----------------------------------     11.6/12.8 MB 545.1 kB/s eta 0:00:03\n",
      "     ----------------------------------     11.7/12.8 MB 547.9 kB/s eta 0:00:03\n",
      "     ----------------------------------     11.7/12.8 MB 549.2 kB/s eta 0:00:02\n",
      "     ----------------------------------     11.8/12.8 MB 549.2 kB/s eta 0:00:02\n",
      "     -----------------------------------    11.8/12.8 MB 549.2 kB/s eta 0:00:02\n",
      "     -----------------------------------    11.8/12.8 MB 550.2 kB/s eta 0:00:02\n",
      "     -----------------------------------    11.9/12.8 MB 554.8 kB/s eta 0:00:02\n",
      "     -----------------------------------    11.9/12.8 MB 556.3 kB/s eta 0:00:02\n",
      "     -----------------------------------    11.9/12.8 MB 559.1 kB/s eta 0:00:02\n",
      "     -----------------------------------    12.0/12.8 MB 559.6 kB/s eta 0:00:02\n",
      "     -----------------------------------    12.1/12.8 MB 565.9 kB/s eta 0:00:02\n",
      "     -----------------------------------    12.1/12.8 MB 570.3 kB/s eta 0:00:02\n",
      "     ------------------------------------   12.2/12.8 MB 574.3 kB/s eta 0:00:02\n",
      "     ------------------------------------   12.2/12.8 MB 572.3 kB/s eta 0:00:02\n",
      "     ------------------------------------   12.3/12.8 MB 575.3 kB/s eta 0:00:01\n",
      "     ------------------------------------   12.3/12.8 MB 575.8 kB/s eta 0:00:01\n",
      "     ------------------------------------   12.4/12.8 MB 575.3 kB/s eta 0:00:01\n",
      "     ------------------------------------   12.4/12.8 MB 575.3 kB/s eta 0:00:01\n",
      "     -------------------------------------  12.5/12.8 MB 575.8 kB/s eta 0:00:01\n",
      "     -------------------------------------  12.5/12.8 MB 575.3 kB/s eta 0:00:01\n",
      "     -------------------------------------  12.6/12.8 MB 575.8 kB/s eta 0:00:01\n",
      "     -------------------------------------  12.6/12.8 MB 573.8 kB/s eta 0:00:01\n",
      "     -------------------------------------  12.6/12.8 MB 574.3 kB/s eta 0:00:01\n",
      "     -------------------------------------  12.7/12.8 MB 573.3 kB/s eta 0:00:01\n",
      "     -------------------------------------  12.7/12.8 MB 574.3 kB/s eta 0:00:01\n",
      "     -------------------------------------  12.8/12.8 MB 573.8 kB/s eta 0:00:01\n",
      "     -------------------------------------  12.8/12.8 MB 574.8 kB/s eta 0:00:01\n",
      "     -------------------------------------- 12.8/12.8 MB 572.9 kB/s eta 0:00:00\n",
      "Requirement already satisfied: spacy<3.7.0,>=3.6.0 in c:\\users\\arkadeuser\\documents\\projects\\nlp-sentimental-analysis\\venv\\lib\\site-packages (from en-core-web-sm==3.6.0) (3.6.0)\n",
      "Requirement already satisfied: spacy-legacy<3.1.0,>=3.0.11 in c:\\users\\arkadeuser\\documents\\projects\\nlp-sentimental-analysis\\venv\\lib\\site-packages (from spacy<3.7.0,>=3.6.0->en-core-web-sm==3.6.0) (3.0.12)\n",
      "Requirement already satisfied: spacy-loggers<2.0.0,>=1.0.0 in c:\\users\\arkadeuser\\documents\\projects\\nlp-sentimental-analysis\\venv\\lib\\site-packages (from spacy<3.7.0,>=3.6.0->en-core-web-sm==3.6.0) (1.0.4)\n",
      "Requirement already satisfied: murmurhash<1.1.0,>=0.28.0 in c:\\users\\arkadeuser\\documents\\projects\\nlp-sentimental-analysis\\venv\\lib\\site-packages (from spacy<3.7.0,>=3.6.0->en-core-web-sm==3.6.0) (1.0.9)\n",
      "Requirement already satisfied: cymem<2.1.0,>=2.0.2 in c:\\users\\arkadeuser\\documents\\projects\\nlp-sentimental-analysis\\venv\\lib\\site-packages (from spacy<3.7.0,>=3.6.0->en-core-web-sm==3.6.0) (2.0.7)\n",
      "Requirement already satisfied: preshed<3.1.0,>=3.0.2 in c:\\users\\arkadeuser\\documents\\projects\\nlp-sentimental-analysis\\venv\\lib\\site-packages (from spacy<3.7.0,>=3.6.0->en-core-web-sm==3.6.0) (3.0.8)\n",
      "Requirement already satisfied: thinc<8.2.0,>=8.1.8 in c:\\users\\arkadeuser\\documents\\projects\\nlp-sentimental-analysis\\venv\\lib\\site-packages (from spacy<3.7.0,>=3.6.0->en-core-web-sm==3.6.0) (8.1.10)\n",
      "Requirement already satisfied: wasabi<1.2.0,>=0.9.1 in c:\\users\\arkadeuser\\documents\\projects\\nlp-sentimental-analysis\\venv\\lib\\site-packages (from spacy<3.7.0,>=3.6.0->en-core-web-sm==3.6.0) (1.1.2)\n",
      "Requirement already satisfied: srsly<3.0.0,>=2.4.3 in c:\\users\\arkadeuser\\documents\\projects\\nlp-sentimental-analysis\\venv\\lib\\site-packages (from spacy<3.7.0,>=3.6.0->en-core-web-sm==3.6.0) (2.4.7)\n",
      "Requirement already satisfied: catalogue<2.1.0,>=2.0.6 in c:\\users\\arkadeuser\\documents\\projects\\nlp-sentimental-analysis\\venv\\lib\\site-packages (from spacy<3.7.0,>=3.6.0->en-core-web-sm==3.6.0) (2.0.8)\n",
      "Requirement already satisfied: typer<0.10.0,>=0.3.0 in c:\\users\\arkadeuser\\documents\\projects\\nlp-sentimental-analysis\\venv\\lib\\site-packages (from spacy<3.7.0,>=3.6.0->en-core-web-sm==3.6.0) (0.9.0)\n",
      "Requirement already satisfied: pathy>=0.10.0 in c:\\users\\arkadeuser\\documents\\projects\\nlp-sentimental-analysis\\venv\\lib\\site-packages (from spacy<3.7.0,>=3.6.0->en-core-web-sm==3.6.0) (0.10.2)\n",
      "Requirement already satisfied: smart-open<7.0.0,>=5.2.1 in c:\\users\\arkadeuser\\documents\\projects\\nlp-sentimental-analysis\\venv\\lib\\site-packages (from spacy<3.7.0,>=3.6.0->en-core-web-sm==3.6.0) (6.3.0)\n",
      "Requirement already satisfied: tqdm<5.0.0,>=4.38.0 in c:\\users\\arkadeuser\\documents\\projects\\nlp-sentimental-analysis\\venv\\lib\\site-packages (from spacy<3.7.0,>=3.6.0->en-core-web-sm==3.6.0) (4.65.0)\n",
      "Requirement already satisfied: numpy>=1.15.0 in c:\\users\\arkadeuser\\documents\\projects\\nlp-sentimental-analysis\\venv\\lib\\site-packages (from spacy<3.7.0,>=3.6.0->en-core-web-sm==3.6.0) (1.25.1)\n",
      "Requirement already satisfied: requests<3.0.0,>=2.13.0 in c:\\users\\arkadeuser\\documents\\projects\\nlp-sentimental-analysis\\venv\\lib\\site-packages (from spacy<3.7.0,>=3.6.0->en-core-web-sm==3.6.0) (2.31.0)\n",
      "Requirement already satisfied: pydantic!=1.8,!=1.8.1,<1.11.0,>=1.7.4 in c:\\users\\arkadeuser\\documents\\projects\\nlp-sentimental-analysis\\venv\\lib\\site-packages (from spacy<3.7.0,>=3.6.0->en-core-web-sm==3.6.0) (1.10.11)\n",
      "Requirement already satisfied: jinja2 in c:\\users\\arkadeuser\\documents\\projects\\nlp-sentimental-analysis\\venv\\lib\\site-packages (from spacy<3.7.0,>=3.6.0->en-core-web-sm==3.6.0) (3.1.2)\n",
      "Requirement already satisfied: setuptools in c:\\users\\arkadeuser\\documents\\projects\\nlp-sentimental-analysis\\venv\\lib\\site-packages (from spacy<3.7.0,>=3.6.0->en-core-web-sm==3.6.0) (65.5.0)\n",
      "Requirement already satisfied: packaging>=20.0 in c:\\users\\arkadeuser\\documents\\projects\\nlp-sentimental-analysis\\venv\\lib\\site-packages (from spacy<3.7.0,>=3.6.0->en-core-web-sm==3.6.0) (23.1)\n",
      "Requirement already satisfied: langcodes<4.0.0,>=3.2.0 in c:\\users\\arkadeuser\\documents\\projects\\nlp-sentimental-analysis\\venv\\lib\\site-packages (from spacy<3.7.0,>=3.6.0->en-core-web-sm==3.6.0) (3.3.0)\n",
      "Requirement already satisfied: typing-extensions>=4.2.0 in c:\\users\\arkadeuser\\documents\\projects\\nlp-sentimental-analysis\\venv\\lib\\site-packages (from pydantic!=1.8,!=1.8.1,<1.11.0,>=1.7.4->spacy<3.7.0,>=3.6.0->en-core-web-sm==3.6.0) (4.7.1)\n",
      "Requirement already satisfied: charset-normalizer<4,>=2 in c:\\users\\arkadeuser\\documents\\projects\\nlp-sentimental-analysis\\venv\\lib\\site-packages (from requests<3.0.0,>=2.13.0->spacy<3.7.0,>=3.6.0->en-core-web-sm==3.6.0) (3.2.0)\n",
      "Requirement already satisfied: idna<4,>=2.5 in c:\\users\\arkadeuser\\documents\\projects\\nlp-sentimental-analysis\\venv\\lib\\site-packages (from requests<3.0.0,>=2.13.0->spacy<3.7.0,>=3.6.0->en-core-web-sm==3.6.0) (3.4)\n",
      "Requirement already satisfied: urllib3<3,>=1.21.1 in c:\\users\\arkadeuser\\documents\\projects\\nlp-sentimental-analysis\\venv\\lib\\site-packages (from requests<3.0.0,>=2.13.0->spacy<3.7.0,>=3.6.0->en-core-web-sm==3.6.0) (2.0.4)\n",
      "Requirement already satisfied: certifi>=2017.4.17 in c:\\users\\arkadeuser\\documents\\projects\\nlp-sentimental-analysis\\venv\\lib\\site-packages (from requests<3.0.0,>=2.13.0->spacy<3.7.0,>=3.6.0->en-core-web-sm==3.6.0) (2023.5.7)\n",
      "Requirement already satisfied: blis<0.8.0,>=0.7.8 in c:\\users\\arkadeuser\\documents\\projects\\nlp-sentimental-analysis\\venv\\lib\\site-packages (from thinc<8.2.0,>=8.1.8->spacy<3.7.0,>=3.6.0->en-core-web-sm==3.6.0) (0.7.9)\n",
      "Requirement already satisfied: confection<1.0.0,>=0.0.1 in c:\\users\\arkadeuser\\documents\\projects\\nlp-sentimental-analysis\\venv\\lib\\site-packages (from thinc<8.2.0,>=8.1.8->spacy<3.7.0,>=3.6.0->en-core-web-sm==3.6.0) (0.1.0)\n",
      "Requirement already satisfied: colorama in c:\\users\\arkadeuser\\documents\\projects\\nlp-sentimental-analysis\\venv\\lib\\site-packages (from tqdm<5.0.0,>=4.38.0->spacy<3.7.0,>=3.6.0->en-core-web-sm==3.6.0) (0.4.6)\n",
      "Requirement already satisfied: click<9.0.0,>=7.1.1 in c:\\users\\arkadeuser\\documents\\projects\\nlp-sentimental-analysis\\venv\\lib\\site-packages (from typer<0.10.0,>=0.3.0->spacy<3.7.0,>=3.6.0->en-core-web-sm==3.6.0) (8.1.6)\n",
      "Requirement already satisfied: MarkupSafe>=2.0 in c:\\users\\arkadeuser\\documents\\projects\\nlp-sentimental-analysis\\venv\\lib\\site-packages (from jinja2->spacy<3.7.0,>=3.6.0->en-core-web-sm==3.6.0) (2.1.3)\n",
      "\u001b[38;5;2m✔ Download and installation successful\u001b[0m\n",
      "You can now load the package via spacy.load('en_core_web_sm')\n"
     ]
    },
    {
     "name": "stderr",
     "output_type": "stream",
     "text": [
      "\n",
      "[notice] A new release of pip is available: 23.1.2 -> 23.2\n",
      "[notice] To update, run: python.exe -m pip install --upgrade pip\n"
     ]
    },
    {
     "name": "stdout",
     "output_type": "stream",
     "text": [
      "Collecting pt-core-news-sm==3.6.0\n",
      "  Downloading https://github.com/explosion/spacy-models/releases/download/pt_core_news_sm-3.6.0/pt_core_news_sm-3.6.0-py3-none-any.whl (13.0 MB)\n",
      "                                              0.0/13.0 MB ? eta -:--:--\n",
      "                                              0.0/13.0 MB 1.3 MB/s eta 0:00:11\n",
      "                                             0.0/13.0 MB 487.6 kB/s eta 0:00:27\n",
      "                                             0.1/13.0 MB 409.6 kB/s eta 0:00:32\n",
      "                                             0.1/13.0 MB 409.6 kB/s eta 0:00:32\n",
      "                                             0.1/13.0 MB 409.6 kB/s eta 0:00:32\n",
      "                                             0.1/13.0 MB 450.6 kB/s eta 0:00:29\n",
      "                                             0.1/13.0 MB 448.2 kB/s eta 0:00:29\n",
      "                                             0.2/13.0 MB 490.7 kB/s eta 0:00:27\n",
      "                                             0.2/13.0 MB 491.5 kB/s eta 0:00:27\n",
      "                                             0.2/13.0 MB 497.6 kB/s eta 0:00:26\n",
      "                                             0.2/13.0 MB 443.4 kB/s eta 0:00:29\n",
      "                                             0.2/13.0 MB 456.4 kB/s eta 0:00:28\n",
      "                                             0.3/13.0 MB 486.7 kB/s eta 0:00:27\n",
      "                                             0.3/13.0 MB 491.1 kB/s eta 0:00:26\n",
      "                                             0.3/13.0 MB 495.2 kB/s eta 0:00:26\n",
      "     -                                       0.4/13.0 MB 520.9 kB/s eta 0:00:25\n",
      "     -                                       0.4/13.0 MB 520.9 kB/s eta 0:00:25\n",
      "     -                                       0.5/13.0 MB 574.8 kB/s eta 0:00:22\n",
      "     -                                       0.5/13.0 MB 574.8 kB/s eta 0:00:22\n",
      "     -                                       0.5/13.0 MB 556.5 kB/s eta 0:00:23\n",
      "     -                                       0.6/13.0 MB 620.3 kB/s eta 0:00:21\n",
      "     -                                       0.6/13.0 MB 620.3 kB/s eta 0:00:21\n",
      "     -                                       0.6/13.0 MB 612.9 kB/s eta 0:00:21\n",
      "     -                                       0.6/13.0 MB 624.6 kB/s eta 0:00:20\n",
      "     -                                       0.6/13.0 MB 606.4 kB/s eta 0:00:21\n",
      "     --                                      0.7/13.0 MB 655.2 kB/s eta 0:00:19\n",
      "     --                                      0.7/13.0 MB 655.2 kB/s eta 0:00:19\n",
      "     --                                      0.8/13.0 MB 655.3 kB/s eta 0:00:19\n",
      "     --                                      0.8/13.0 MB 655.3 kB/s eta 0:00:19\n",
      "     --                                      0.9/13.0 MB 687.5 kB/s eta 0:00:18\n",
      "     --                                      0.9/13.0 MB 687.5 kB/s eta 0:00:18\n",
      "     --                                      0.9/13.0 MB 687.5 kB/s eta 0:00:18\n",
      "     --                                      0.9/13.0 MB 662.5 kB/s eta 0:00:19\n",
      "     --                                      0.9/13.0 MB 662.3 kB/s eta 0:00:19\n",
      "     --                                      0.9/13.0 MB 662.3 kB/s eta 0:00:19\n",
      "     --                                      1.0/13.0 MB 662.0 kB/s eta 0:00:19\n",
      "     ---                                     1.1/13.0 MB 661.9 kB/s eta 0:00:19\n",
      "     ---                                     1.1/13.0 MB 668.1 kB/s eta 0:00:18\n",
      "     ---                                     1.1/13.0 MB 661.2 kB/s eta 0:00:18\n",
      "     ---                                     1.2/13.0 MB 679.4 kB/s eta 0:00:18\n",
      "     ---                                     1.2/13.0 MB 685.0 kB/s eta 0:00:18\n",
      "     ---                                     1.2/13.0 MB 684.2 kB/s eta 0:00:18\n",
      "     ---                                     1.3/13.0 MB 689.1 kB/s eta 0:00:18\n",
      "     ---                                     1.3/13.0 MB 688.2 kB/s eta 0:00:17\n",
      "     ---                                     1.3/13.0 MB 676.6 kB/s eta 0:00:18\n",
      "     ----                                    1.3/13.0 MB 681.6 kB/s eta 0:00:18\n",
      "     ----                                    1.4/13.0 MB 681.3 kB/s eta 0:00:18\n",
      "     ----                                    1.4/13.0 MB 695.4 kB/s eta 0:00:17\n",
      "     ----                                    1.4/13.0 MB 695.4 kB/s eta 0:00:17\n",
      "     ----                                    1.5/13.0 MB 684.3 kB/s eta 0:00:17\n",
      "     ----                                    1.5/13.0 MB 688.7 kB/s eta 0:00:17\n",
      "     ----                                    1.5/13.0 MB 683.3 kB/s eta 0:00:17\n",
      "     ----                                    1.5/13.0 MB 683.3 kB/s eta 0:00:17\n",
      "     ----                                    1.5/13.0 MB 683.3 kB/s eta 0:00:17\n",
      "     ----                                    1.5/13.0 MB 683.3 kB/s eta 0:00:17\n",
      "     ----                                    1.5/13.0 MB 683.3 kB/s eta 0:00:17\n",
      "     ----                                    1.5/13.0 MB 633.9 kB/s eta 0:00:19\n",
      "     ----                                    1.5/13.0 MB 630.0 kB/s eta 0:00:19\n",
      "     ----                                    1.6/13.0 MB 630.8 kB/s eta 0:00:19\n",
      "     ----                                    1.6/13.0 MB 630.8 kB/s eta 0:00:19\n",
      "     ----                                    1.6/13.0 MB 623.7 kB/s eta 0:00:19\n",
      "     -----                                   1.7/13.0 MB 639.8 kB/s eta 0:00:18\n",
      "     -----                                   1.7/13.0 MB 636.2 kB/s eta 0:00:18\n",
      "     -----                                   1.8/13.0 MB 640.2 kB/s eta 0:00:18\n",
      "     -----                                   1.8/13.0 MB 647.9 kB/s eta 0:00:18\n",
      "     -----                                   1.8/13.0 MB 647.9 kB/s eta 0:00:18\n",
      "     -----                                   1.8/13.0 MB 637.3 kB/s eta 0:00:18\n",
      "     -----                                   1.9/13.0 MB 641.1 kB/s eta 0:00:18\n",
      "     -----                                   1.9/13.0 MB 641.1 kB/s eta 0:00:18\n",
      "     -----                                   1.9/13.0 MB 624.3 kB/s eta 0:00:18\n",
      "     -----                                   1.9/13.0 MB 645.1 kB/s eta 0:00:18\n",
      "     -----                                   1.9/13.0 MB 645.1 kB/s eta 0:00:18\n",
      "     -----                                   2.0/13.0 MB 632.2 kB/s eta 0:00:18\n",
      "     ------                                  2.0/13.0 MB 636.0 kB/s eta 0:00:18\n",
      "     ------                                  2.1/13.0 MB 639.4 kB/s eta 0:00:18\n",
      "     ------                                  2.1/13.0 MB 639.4 kB/s eta 0:00:18\n",
      "     ------                                  2.1/13.0 MB 642.7 kB/s eta 0:00:17\n",
      "     ------                                  2.1/13.0 MB 636.9 kB/s eta 0:00:18\n",
      "     ------                                  2.2/13.0 MB 637.2 kB/s eta 0:00:17\n",
      "     ------                                  2.2/13.0 MB 634.4 kB/s eta 0:00:18\n",
      "     ------                                  2.2/13.0 MB 637.6 kB/s eta 0:00:17\n",
      "     ------                                  2.2/13.0 MB 637.8 kB/s eta 0:00:17\n",
      "     ------                                  2.3/13.0 MB 638.0 kB/s eta 0:00:17\n",
      "     ------                                  2.3/13.0 MB 638.2 kB/s eta 0:00:17\n",
      "     ------                                  2.3/13.0 MB 638.4 kB/s eta 0:00:17\n",
      "     -------                                 2.4/13.0 MB 641.4 kB/s eta 0:00:17\n",
      "     -------                                 2.4/13.0 MB 644.2 kB/s eta 0:00:17\n",
      "     -------                                 2.4/13.0 MB 644.3 kB/s eta 0:00:17\n",
      "     -------                                 2.4/13.0 MB 641.7 kB/s eta 0:00:17\n",
      "     -------                                 2.4/13.0 MB 636.7 kB/s eta 0:00:17\n",
      "     -------                                 2.5/13.0 MB 642.1 kB/s eta 0:00:17\n",
      "     -------                                 2.5/13.0 MB 637.1 kB/s eta 0:00:17\n",
      "     -------                                 2.5/13.0 MB 637.3 kB/s eta 0:00:17\n",
      "     -------                                 2.5/13.0 MB 637.3 kB/s eta 0:00:17\n",
      "     -------                                 2.6/13.0 MB 632.6 kB/s eta 0:00:17\n",
      "     -------                                 2.6/13.0 MB 642.8 kB/s eta 0:00:17\n",
      "     -------                                 2.7/13.0 MB 638.0 kB/s eta 0:00:17\n",
      "     -------                                 2.7/13.0 MB 635.7 kB/s eta 0:00:17\n",
      "     --------                                2.7/13.0 MB 640.8 kB/s eta 0:00:17\n",
      "     --------                                2.7/13.0 MB 645.6 kB/s eta 0:00:16\n",
      "     --------                                2.8/13.0 MB 645.7 kB/s eta 0:00:16\n",
      "     --------                                2.8/13.0 MB 650.6 kB/s eta 0:00:16\n",
      "     --------                                2.9/13.0 MB 652.9 kB/s eta 0:00:16\n",
      "     --------                                2.9/13.0 MB 657.6 kB/s eta 0:00:16\n",
      "     --------                                3.0/13.0 MB 664.5 kB/s eta 0:00:16\n",
      "     --------                                3.0/13.0 MB 662.1 kB/s eta 0:00:16\n",
      "     ---------                               3.1/13.0 MB 671.1 kB/s eta 0:00:15\n",
      "     ---------                               3.1/13.0 MB 671.1 kB/s eta 0:00:15\n",
      "     ---------                               3.1/13.0 MB 668.4 kB/s eta 0:00:15\n",
      "     ---------                               3.2/13.0 MB 670.6 kB/s eta 0:00:15\n",
      "     ---------                               3.2/13.0 MB 674.7 kB/s eta 0:00:15\n",
      "     ---------                               3.2/13.0 MB 676.8 kB/s eta 0:00:15\n",
      "     ---------                               3.3/13.0 MB 678.7 kB/s eta 0:00:15\n",
      "     ----------                              3.3/13.0 MB 684.8 kB/s eta 0:00:15\n",
      "     ----------                              3.4/13.0 MB 686.7 kB/s eta 0:00:15\n",
      "     ----------                              3.4/13.0 MB 692.6 kB/s eta 0:00:14\n",
      "     ----------                              3.5/13.0 MB 694.3 kB/s eta 0:00:14\n",
      "     ----------                              3.5/13.0 MB 696.1 kB/s eta 0:00:14\n",
      "     ----------                              3.6/13.0 MB 701.8 kB/s eta 0:00:14\n",
      "     ----------                              3.6/13.0 MB 701.4 kB/s eta 0:00:14\n",
      "     ----------                              3.6/13.0 MB 705.1 kB/s eta 0:00:14\n",
      "     -----------                             3.7/13.0 MB 708.5 kB/s eta 0:00:14\n",
      "     -----------                             3.7/13.0 MB 711.9 kB/s eta 0:00:13\n",
      "     -----------                             3.8/13.0 MB 715.3 kB/s eta 0:00:13\n",
      "     -----------                             3.8/13.0 MB 718.8 kB/s eta 0:00:13\n",
      "     -----------                             3.9/13.0 MB 722.0 kB/s eta 0:00:13\n",
      "     -----------                             3.9/13.0 MB 723.4 kB/s eta 0:00:13\n",
      "     -----------                             3.9/13.0 MB 721.1 kB/s eta 0:00:13\n",
      "     ------------                            4.0/13.0 MB 728.1 kB/s eta 0:00:13\n",
      "     ------------                            4.0/13.0 MB 728.1 kB/s eta 0:00:13\n",
      "     ------------                            4.1/13.0 MB 723.1 kB/s eta 0:00:13\n",
      "     ------------                            4.1/13.0 MB 728.2 kB/s eta 0:00:13\n",
      "     ------------                            4.1/13.0 MB 729.5 kB/s eta 0:00:13\n",
      "     ------------                            4.2/13.0 MB 736.2 kB/s eta 0:00:12\n",
      "     ------------                            4.2/13.0 MB 731.9 kB/s eta 0:00:12\n",
      "     ------------                            4.3/13.0 MB 734.8 kB/s eta 0:00:12\n",
      "     ------------                            4.3/13.0 MB 739.7 kB/s eta 0:00:12\n",
      "     ------------                            4.3/13.0 MB 739.7 kB/s eta 0:00:12\n",
      "     -------------                           4.3/13.0 MB 733.5 kB/s eta 0:00:12\n",
      "     -------------                           4.4/13.0 MB 741.8 kB/s eta 0:00:12\n",
      "     -------------                           4.4/13.0 MB 739.1 kB/s eta 0:00:12\n",
      "     -------------                           4.5/13.0 MB 741.9 kB/s eta 0:00:12\n",
      "     -------------                           4.5/13.0 MB 746.5 kB/s eta 0:00:12\n",
      "     -------------                           4.6/13.0 MB 747.5 kB/s eta 0:00:12\n",
      "     -------------                           4.6/13.0 MB 752.0 kB/s eta 0:00:12\n",
      "     --------------                          4.7/13.0 MB 756.1 kB/s eta 0:00:11\n",
      "     --------------                          4.7/13.0 MB 759.1 kB/s eta 0:00:11\n",
      "     --------------                          4.8/13.0 MB 759.6 kB/s eta 0:00:11\n",
      "     --------------                          4.8/13.0 MB 760.6 kB/s eta 0:00:11\n",
      "     --------------                          4.9/13.0 MB 763.2 kB/s eta 0:00:11\n",
      "     --------------                          4.9/13.0 MB 765.9 kB/s eta 0:00:11\n",
      "     --------------                          4.9/13.0 MB 767.2 kB/s eta 0:00:11\n",
      "     --------------                          5.0/13.0 MB 762.7 kB/s eta 0:00:11\n",
      "     ---------------                         5.0/13.0 MB 771.9 kB/s eta 0:00:11\n",
      "     ---------------                         5.1/13.0 MB 767.5 kB/s eta 0:00:11\n",
      "     ---------------                         5.1/13.0 MB 771.5 kB/s eta 0:00:11\n",
      "     ---------------                         5.1/13.0 MB 765.9 kB/s eta 0:00:11\n",
      "     ---------------                         5.2/13.0 MB 768.6 kB/s eta 0:00:11\n",
      "     ---------------                         5.2/13.0 MB 768.6 kB/s eta 0:00:11\n",
      "     ---------------                         5.2/13.0 MB 768.6 kB/s eta 0:00:11\n",
      "     ---------------                         5.2/13.0 MB 768.6 kB/s eta 0:00:11\n",
      "     ---------------                         5.2/13.0 MB 758.6 kB/s eta 0:00:11\n",
      "     ---------------                         5.2/13.0 MB 753.0 kB/s eta 0:00:11\n",
      "     ---------------                         5.3/13.0 MB 752.3 kB/s eta 0:00:11\n",
      "     ---------------                         5.3/13.0 MB 751.7 kB/s eta 0:00:11\n",
      "     ---------------                         5.3/13.0 MB 752.7 kB/s eta 0:00:11\n",
      "     ----------------                        5.4/13.0 MB 755.2 kB/s eta 0:00:11\n",
      "     ----------------                        5.4/13.0 MB 754.3 kB/s eta 0:00:11\n",
      "     ----------------                        5.4/13.0 MB 755.4 kB/s eta 0:00:11\n",
      "     ----------------                        5.4/13.0 MB 753.2 kB/s eta 0:00:11\n",
      "     ----------------                        5.5/13.0 MB 754.2 kB/s eta 0:00:10\n",
      "     ----------------                        5.5/13.0 MB 754.7 kB/s eta 0:00:10\n",
      "     ----------------                        5.6/13.0 MB 755.7 kB/s eta 0:00:10\n",
      "     ----------------                        5.6/13.0 MB 754.8 kB/s eta 0:00:10\n",
      "     ----------------                        5.6/13.0 MB 757.2 kB/s eta 0:00:10\n",
      "     ----------------                        5.6/13.0 MB 757.2 kB/s eta 0:00:10\n",
      "     -----------------                       5.7/13.0 MB 756.1 kB/s eta 0:00:10\n",
      "     -----------------                       5.7/13.0 MB 755.5 kB/s eta 0:00:10\n",
      "     -----------------                       5.7/13.0 MB 755.5 kB/s eta 0:00:10\n",
      "     -----------------                       5.7/13.0 MB 755.5 kB/s eta 0:00:10\n",
      "     -----------------                       5.7/13.0 MB 755.5 kB/s eta 0:00:10\n",
      "     -----------------                       5.7/13.0 MB 755.5 kB/s eta 0:00:10\n",
      "     -----------------                       5.7/13.0 MB 755.5 kB/s eta 0:00:10\n",
      "     -----------------                       5.8/13.0 MB 746.0 kB/s eta 0:00:10\n",
      "     -----------------                       5.8/13.0 MB 746.0 kB/s eta 0:00:10\n",
      "     -----------------                       5.8/13.0 MB 741.2 kB/s eta 0:00:10\n",
      "     -----------------                       5.8/13.0 MB 741.2 kB/s eta 0:00:10\n",
      "     -----------------                       5.9/13.0 MB 736.1 kB/s eta 0:00:10\n",
      "     -----------------                       5.9/13.0 MB 736.1 kB/s eta 0:00:10\n",
      "     -----------------                       5.9/13.0 MB 736.1 kB/s eta 0:00:10\n",
      "     -----------------                       5.9/13.0 MB 736.1 kB/s eta 0:00:10\n",
      "     -----------------                       6.0/13.0 MB 730.8 kB/s eta 0:00:10\n",
      "     -----------------                       6.0/13.0 MB 730.8 kB/s eta 0:00:10\n",
      "     -----------------                       6.0/13.0 MB 724.9 kB/s eta 0:00:10\n",
      "     -----------------                       6.0/13.0 MB 724.9 kB/s eta 0:00:10\n",
      "     ------------------                      6.0/13.0 MB 721.8 kB/s eta 0:00:10\n",
      "     ------------------                      6.0/13.0 MB 720.2 kB/s eta 0:00:10\n",
      "     ------------------                      6.1/13.0 MB 720.0 kB/s eta 0:00:10\n",
      "     ------------------                      6.1/13.0 MB 717.2 kB/s eta 0:00:10\n",
      "     ------------------                      6.1/13.0 MB 716.8 kB/s eta 0:00:10\n",
      "     ------------------                      6.1/13.0 MB 715.3 kB/s eta 0:00:10\n",
      "     ------------------                      6.1/13.0 MB 715.3 kB/s eta 0:00:10\n",
      "     ------------------                      6.1/13.0 MB 715.3 kB/s eta 0:00:10\n",
      "     ------------------                      6.1/13.0 MB 706.1 kB/s eta 0:00:10\n",
      "     ------------------                      6.2/13.0 MB 706.0 kB/s eta 0:00:10\n",
      "     ------------------                      6.2/13.0 MB 704.5 kB/s eta 0:00:10\n",
      "     ------------------                      6.2/13.0 MB 704.4 kB/s eta 0:00:10\n",
      "     ------------------                      6.2/13.0 MB 704.4 kB/s eta 0:00:10\n",
      "     ------------------                      6.3/13.0 MB 703.8 kB/s eta 0:00:10\n",
      "     ------------------                      6.3/13.0 MB 703.8 kB/s eta 0:00:10\n",
      "     ------------------                      6.3/13.0 MB 701.3 kB/s eta 0:00:10\n",
      "     ------------------                      6.3/13.0 MB 699.9 kB/s eta 0:00:10\n",
      "     ------------------                      6.3/13.0 MB 696.1 kB/s eta 0:00:10\n",
      "     ------------------                      6.3/13.0 MB 696.0 kB/s eta 0:00:10\n",
      "     ------------------                      6.3/13.0 MB 696.0 kB/s eta 0:00:10\n",
      "     -------------------                     6.3/13.0 MB 691.1 kB/s eta 0:00:10\n",
      "     -------------------                     6.4/13.0 MB 689.8 kB/s eta 0:00:10\n",
      "     -------------------                     6.4/13.0 MB 688.6 kB/s eta 0:00:10\n",
      "     -------------------                     6.4/13.0 MB 688.4 kB/s eta 0:00:10\n",
      "     -------------------                     6.4/13.0 MB 687.2 kB/s eta 0:00:10\n",
      "     -------------------                     6.5/13.0 MB 685.9 kB/s eta 0:00:10\n",
      "     -------------------                     6.5/13.0 MB 684.7 kB/s eta 0:00:10\n",
      "     -------------------                     6.5/13.0 MB 684.6 kB/s eta 0:00:10\n",
      "     -------------------                     6.5/13.0 MB 684.5 kB/s eta 0:00:10\n",
      "     -------------------                     6.5/13.0 MB 683.2 kB/s eta 0:00:10\n",
      "     -------------------                     6.5/13.0 MB 683.2 kB/s eta 0:00:10\n",
      "     -------------------                     6.5/13.0 MB 683.2 kB/s eta 0:00:10\n",
      "     -------------------                     6.5/13.0 MB 683.2 kB/s eta 0:00:10\n",
      "     -------------------                     6.6/13.0 MB 674.3 kB/s eta 0:00:10\n",
      "     -------------------                     6.6/13.0 MB 675.3 kB/s eta 0:00:10\n",
      "     -------------------                     6.6/13.0 MB 675.2 kB/s eta 0:00:10\n",
      "     -------------------                     6.6/13.0 MB 673.1 kB/s eta 0:00:10\n",
      "     -------------------                     6.6/13.0 MB 672.0 kB/s eta 0:00:10\n",
      "     -------------------                     6.6/13.0 MB 672.0 kB/s eta 0:00:10\n",
      "     --------------------                    6.7/13.0 MB 668.7 kB/s eta 0:00:10\n",
      "     --------------------                    6.7/13.0 MB 668.7 kB/s eta 0:00:10\n",
      "     --------------------                    6.7/13.0 MB 666.5 kB/s eta 0:00:10\n",
      "     --------------------                    6.7/13.0 MB 666.5 kB/s eta 0:00:10\n",
      "     --------------------                    6.7/13.0 MB 662.4 kB/s eta 0:00:10\n",
      "     --------------------                    6.7/13.0 MB 659.3 kB/s eta 0:00:10\n",
      "     --------------------                    6.7/13.0 MB 659.3 kB/s eta 0:00:10\n",
      "     --------------------                    6.7/13.0 MB 656.3 kB/s eta 0:00:10\n",
      "     --------------------                    6.8/13.0 MB 653.4 kB/s eta 0:00:10\n",
      "     --------------------                    6.8/13.0 MB 652.4 kB/s eta 0:00:10\n",
      "     --------------------                    6.8/13.0 MB 649.4 kB/s eta 0:00:10\n",
      "     --------------------                    6.8/13.0 MB 648.5 kB/s eta 0:00:10\n",
      "     --------------------                    6.8/13.0 MB 648.5 kB/s eta 0:00:10\n",
      "     --------------------                    6.8/13.0 MB 646.6 kB/s eta 0:00:10\n",
      "     --------------------                    6.8/13.0 MB 643.7 kB/s eta 0:00:10\n",
      "     --------------------                    6.9/13.0 MB 642.8 kB/s eta 0:00:10\n",
      "     --------------------                    6.9/13.0 MB 641.0 kB/s eta 0:00:10\n",
      "     --------------------                    6.9/13.0 MB 641.0 kB/s eta 0:00:10\n",
      "     --------------------                    6.9/13.0 MB 638.2 kB/s eta 0:00:10\n",
      "     --------------------                    6.9/13.0 MB 636.5 kB/s eta 0:00:10\n",
      "     --------------------                    6.9/13.0 MB 635.6 kB/s eta 0:00:10\n",
      "     --------------------                    6.9/13.0 MB 634.7 kB/s eta 0:00:10\n",
      "     --------------------                    7.0/13.0 MB 632.9 kB/s eta 0:00:10\n",
      "     --------------------                    7.0/13.0 MB 633.0 kB/s eta 0:00:10\n",
      "     --------------------                    7.0/13.0 MB 633.0 kB/s eta 0:00:10\n",
      "     ---------------------                   7.0/13.0 MB 630.4 kB/s eta 0:00:10\n",
      "     ---------------------                   7.0/13.0 MB 630.4 kB/s eta 0:00:10\n",
      "     ---------------------                   7.0/13.0 MB 629.6 kB/s eta 0:00:10\n",
      "     ---------------------                   7.0/13.0 MB 627.9 kB/s eta 0:00:10\n",
      "     ---------------------                   7.1/13.0 MB 627.1 kB/s eta 0:00:10\n",
      "     ---------------------                   7.1/13.0 MB 627.1 kB/s eta 0:00:10\n",
      "     ---------------------                   7.1/13.0 MB 624.6 kB/s eta 0:00:10\n",
      "     ---------------------                   7.1/13.0 MB 622.9 kB/s eta 0:00:10\n",
      "     ---------------------                   7.1/13.0 MB 622.1 kB/s eta 0:00:10\n",
      "     ---------------------                   7.1/13.0 MB 622.1 kB/s eta 0:00:10\n",
      "     ---------------------                   7.1/13.0 MB 618.9 kB/s eta 0:00:10\n",
      "     ---------------------                   7.1/13.0 MB 618.9 kB/s eta 0:00:10\n",
      "     ---------------------                   7.2/13.0 MB 616.5 kB/s eta 0:00:10\n",
      "     ---------------------                   7.2/13.0 MB 615.7 kB/s eta 0:00:10\n",
      "     ---------------------                   7.2/13.0 MB 615.7 kB/s eta 0:00:10\n",
      "     ---------------------                   7.2/13.0 MB 612.5 kB/s eta 0:00:10\n",
      "     ---------------------                   7.2/13.0 MB 612.5 kB/s eta 0:00:10\n",
      "     ---------------------                   7.2/13.0 MB 610.1 kB/s eta 0:00:10\n",
      "     ---------------------                   7.2/13.0 MB 609.5 kB/s eta 0:00:10\n",
      "     ---------------------                   7.2/13.0 MB 608.0 kB/s eta 0:00:10\n",
      "     ---------------------                   7.3/13.0 MB 609.0 kB/s eta 0:00:10\n",
      "     ---------------------                   7.3/13.0 MB 609.0 kB/s eta 0:00:10\n",
      "     ---------------------                   7.3/13.0 MB 606.8 kB/s eta 0:00:10\n",
      "     ---------------------                   7.3/13.0 MB 606.8 kB/s eta 0:00:10\n",
      "     ---------------------                   7.3/13.0 MB 606.1 kB/s eta 0:00:10\n",
      "     ----------------------                  7.4/13.0 MB 604.7 kB/s eta 0:00:10\n",
      "     ----------------------                  7.4/13.0 MB 604.7 kB/s eta 0:00:10\n",
      "     ----------------------                  7.4/13.0 MB 603.4 kB/s eta 0:00:10\n",
      "     ----------------------                  7.4/13.0 MB 603.4 kB/s eta 0:00:10\n",
      "     ----------------------                  7.4/13.0 MB 601.3 kB/s eta 0:00:10\n",
      "     ----------------------                  7.4/13.0 MB 602.2 kB/s eta 0:00:10\n",
      "     ----------------------                  7.4/13.0 MB 602.2 kB/s eta 0:00:10\n",
      "     ----------------------                  7.5/13.0 MB 600.8 kB/s eta 0:00:10\n",
      "     ----------------------                  7.5/13.0 MB 599.5 kB/s eta 0:00:10\n",
      "     ----------------------                  7.5/13.0 MB 598.8 kB/s eta 0:00:10\n",
      "     ----------------------                  7.5/13.0 MB 598.3 kB/s eta 0:00:10\n",
      "     ----------------------                  7.5/13.0 MB 598.4 kB/s eta 0:00:10\n",
      "     ----------------------                  7.6/13.0 MB 597.9 kB/s eta 0:00:10\n",
      "     ----------------------                  7.6/13.0 MB 598.0 kB/s eta 0:00:10\n",
      "     ----------------------                  7.6/13.0 MB 598.2 kB/s eta 0:00:09\n",
      "     ----------------------                  7.6/13.0 MB 599.1 kB/s eta 0:00:09\n",
      "     -----------------------                 7.7/13.0 MB 597.9 kB/s eta 0:00:09\n",
      "     -----------------------                 7.7/13.0 MB 597.2 kB/s eta 0:00:09\n",
      "     -----------------------                 7.7/13.0 MB 597.2 kB/s eta 0:00:09\n",
      "     -----------------------                 7.7/13.0 MB 597.5 kB/s eta 0:00:09\n",
      "     -----------------------                 7.7/13.0 MB 597.5 kB/s eta 0:00:09\n",
      "     -----------------------                 7.8/13.0 MB 595.5 kB/s eta 0:00:09\n",
      "     -----------------------                 7.8/13.0 MB 594.3 kB/s eta 0:00:09\n",
      "     -----------------------                 7.8/13.0 MB 594.5 kB/s eta 0:00:09\n",
      "     -----------------------                 7.8/13.0 MB 593.2 kB/s eta 0:00:09\n",
      "     -----------------------                 7.8/13.0 MB 593.3 kB/s eta 0:00:09\n",
      "     -----------------------                 7.9/13.0 MB 592.7 kB/s eta 0:00:09\n",
      "     -----------------------                 7.9/13.0 MB 592.3 kB/s eta 0:00:09\n",
      "     -----------------------                 7.9/13.0 MB 591.7 kB/s eta 0:00:09\n",
      "     -----------------------                 7.9/13.0 MB 591.8 kB/s eta 0:00:09\n",
      "     -----------------------                 8.0/13.0 MB 591.3 kB/s eta 0:00:09\n",
      "     -----------------------                 8.0/13.0 MB 591.3 kB/s eta 0:00:09\n",
      "     -----------------------                 8.0/13.0 MB 590.2 kB/s eta 0:00:09\n",
      "     ------------------------                8.0/13.0 MB 589.7 kB/s eta 0:00:09\n",
      "     ------------------------                8.0/13.0 MB 589.9 kB/s eta 0:00:09\n",
      "     ------------------------                8.0/13.0 MB 589.9 kB/s eta 0:00:09\n",
      "     ------------------------                8.1/13.0 MB 588.8 kB/s eta 0:00:09\n",
      "     ------------------------                8.1/13.0 MB 588.9 kB/s eta 0:00:09\n",
      "     ------------------------                8.1/13.0 MB 588.3 kB/s eta 0:00:09\n",
      "     ------------------------                8.1/13.0 MB 588.6 kB/s eta 0:00:09\n",
      "     ------------------------                8.2/13.0 MB 588.0 kB/s eta 0:00:09\n",
      "     ------------------------                8.2/13.0 MB 587.5 kB/s eta 0:00:09\n",
      "     ------------------------                8.2/13.0 MB 587.7 kB/s eta 0:00:09\n",
      "     ------------------------                8.2/13.0 MB 587.9 kB/s eta 0:00:09\n",
      "     ------------------------                8.3/13.0 MB 587.5 kB/s eta 0:00:09\n",
      "     ------------------------                8.3/13.0 MB 586.9 kB/s eta 0:00:09\n",
      "     ------------------------                8.3/13.0 MB 587.1 kB/s eta 0:00:09\n",
      "     ------------------------                8.3/13.0 MB 586.0 kB/s eta 0:00:08\n",
      "     -------------------------               8.3/13.0 MB 585.5 kB/s eta 0:00:08\n",
      "     -------------------------               8.3/13.0 MB 584.9 kB/s eta 0:00:08\n",
      "     -------------------------               8.4/13.0 MB 585.1 kB/s eta 0:00:08\n",
      "     -------------------------               8.4/13.0 MB 585.3 kB/s eta 0:00:08\n",
      "     -------------------------               8.4/13.0 MB 585.3 kB/s eta 0:00:08\n",
      "     -------------------------               8.4/13.0 MB 585.3 kB/s eta 0:00:08\n",
      "     -------------------------               8.4/13.0 MB 583.2 kB/s eta 0:00:08\n",
      "     -------------------------               8.5/13.0 MB 583.3 kB/s eta 0:00:08\n",
      "     -------------------------               8.5/13.0 MB 582.1 kB/s eta 0:00:08\n",
      "     -------------------------               8.5/13.0 MB 580.4 kB/s eta 0:00:08\n",
      "     -------------------------               8.5/13.0 MB 580.5 kB/s eta 0:00:08\n",
      "     -------------------------               8.5/13.0 MB 580.0 kB/s eta 0:00:08\n",
      "     -------------------------               8.6/13.0 MB 579.6 kB/s eta 0:00:08\n",
      "     -------------------------               8.6/13.0 MB 578.4 kB/s eta 0:00:08\n",
      "     -------------------------               8.6/13.0 MB 578.6 kB/s eta 0:00:08\n",
      "     -------------------------               8.6/13.0 MB 578.6 kB/s eta 0:00:08\n",
      "     -------------------------               8.6/13.0 MB 577.6 kB/s eta 0:00:08\n",
      "     -------------------------               8.6/13.0 MB 577.6 kB/s eta 0:00:08\n",
      "     -------------------------               8.6/13.0 MB 576.0 kB/s eta 0:00:08\n",
      "     --------------------------              8.7/13.0 MB 575.1 kB/s eta 0:00:08\n",
      "     --------------------------              8.7/13.0 MB 574.5 kB/s eta 0:00:08\n",
      "     --------------------------              8.7/13.0 MB 574.5 kB/s eta 0:00:08\n",
      "     --------------------------              8.7/13.0 MB 574.3 kB/s eta 0:00:08\n",
      "     --------------------------              8.7/13.0 MB 574.3 kB/s eta 0:00:08\n",
      "     --------------------------              8.7/13.0 MB 574.3 kB/s eta 0:00:08\n",
      "     --------------------------              8.7/13.0 MB 571.0 kB/s eta 0:00:08\n",
      "     --------------------------              8.8/13.0 MB 570.5 kB/s eta 0:00:08\n",
      "     --------------------------              8.8/13.0 MB 570.5 kB/s eta 0:00:08\n",
      "     --------------------------              8.8/13.0 MB 569.1 kB/s eta 0:00:08\n",
      "     --------------------------              8.8/13.0 MB 569.1 kB/s eta 0:00:08\n",
      "     --------------------------              8.8/13.0 MB 569.1 kB/s eta 0:00:08\n",
      "     --------------------------              8.8/13.0 MB 565.2 kB/s eta 0:00:08\n",
      "     --------------------------              8.8/13.0 MB 565.2 kB/s eta 0:00:08\n",
      "     --------------------------              8.8/13.0 MB 565.2 kB/s eta 0:00:08\n",
      "     --------------------------              8.8/13.0 MB 562.0 kB/s eta 0:00:08\n",
      "     --------------------------              8.8/13.0 MB 562.0 kB/s eta 0:00:08\n",
      "     --------------------------              8.8/13.0 MB 562.0 kB/s eta 0:00:08\n",
      "     --------------------------              8.8/13.0 MB 558.8 kB/s eta 0:00:08\n",
      "     --------------------------              8.9/13.0 MB 558.4 kB/s eta 0:00:08\n",
      "     --------------------------              8.9/13.0 MB 557.0 kB/s eta 0:00:08\n",
      "     --------------------------              8.9/13.0 MB 557.0 kB/s eta 0:00:08\n",
      "     --------------------------              8.9/13.0 MB 554.9 kB/s eta 0:00:08\n",
      "     --------------------------              8.9/13.0 MB 555.0 kB/s eta 0:00:08\n",
      "     --------------------------              8.9/13.0 MB 553.0 kB/s eta 0:00:08\n",
      "     --------------------------              8.9/13.0 MB 552.7 kB/s eta 0:00:08\n",
      "     --------------------------              8.9/13.0 MB 552.7 kB/s eta 0:00:08\n",
      "     --------------------------              8.9/13.0 MB 552.7 kB/s eta 0:00:08\n",
      "     --------------------------              8.9/13.0 MB 552.7 kB/s eta 0:00:08\n",
      "     --------------------------              8.9/13.0 MB 552.7 kB/s eta 0:00:08\n",
      "     --------------------------              8.9/13.0 MB 552.7 kB/s eta 0:00:08\n",
      "     --------------------------              8.9/13.0 MB 552.7 kB/s eta 0:00:08\n",
      "     --------------------------              9.0/13.0 MB 543.4 kB/s eta 0:00:08\n",
      "     --------------------------              9.0/13.0 MB 543.5 kB/s eta 0:00:08\n",
      "     --------------------------              9.0/13.0 MB 543.5 kB/s eta 0:00:08\n",
      "     ---------------------------             9.0/13.0 MB 541.7 kB/s eta 0:00:08\n",
      "     ---------------------------             9.0/13.0 MB 541.7 kB/s eta 0:00:08\n",
      "     ---------------------------             9.0/13.0 MB 539.3 kB/s eta 0:00:08\n",
      "     ---------------------------             9.0/13.0 MB 539.3 kB/s eta 0:00:08\n",
      "     ---------------------------             9.0/13.0 MB 537.0 kB/s eta 0:00:08\n",
      "     ---------------------------             9.0/13.0 MB 537.7 kB/s eta 0:00:08\n",
      "     ---------------------------             9.0/13.0 MB 537.7 kB/s eta 0:00:08\n",
      "     ---------------------------             9.1/13.0 MB 536.0 kB/s eta 0:00:08\n",
      "     ---------------------------             9.1/13.0 MB 536.0 kB/s eta 0:00:08\n",
      "     ---------------------------             9.1/13.0 MB 534.7 kB/s eta 0:00:08\n",
      "     ---------------------------             9.1/13.0 MB 534.7 kB/s eta 0:00:08\n",
      "     ---------------------------             9.1/13.0 MB 532.4 kB/s eta 0:00:08\n",
      "     ---------------------------             9.1/13.0 MB 533.1 kB/s eta 0:00:08\n",
      "     ---------------------------             9.1/13.0 MB 532.3 kB/s eta 0:00:08\n",
      "     ---------------------------             9.2/13.0 MB 532.5 kB/s eta 0:00:08\n",
      "     ---------------------------             9.2/13.0 MB 531.9 kB/s eta 0:00:08\n",
      "     ---------------------------             9.2/13.0 MB 531.9 kB/s eta 0:00:08\n",
      "     ---------------------------             9.2/13.0 MB 531.1 kB/s eta 0:00:08\n",
      "     ---------------------------             9.2/13.0 MB 529.8 kB/s eta 0:00:08\n",
      "     ---------------------------             9.2/13.0 MB 530.6 kB/s eta 0:00:08\n",
      "     ---------------------------             9.2/13.0 MB 530.6 kB/s eta 0:00:08\n",
      "     ---------------------------             9.3/13.0 MB 529.4 kB/s eta 0:00:08\n",
      "     ---------------------------             9.3/13.0 MB 529.7 kB/s eta 0:00:07\n",
      "     ---------------------------             9.3/13.0 MB 529.1 kB/s eta 0:00:07\n",
      "     ---------------------------             9.3/13.0 MB 529.1 kB/s eta 0:00:07\n",
      "     ----------------------------            9.3/13.0 MB 528.5 kB/s eta 0:00:07\n",
      "     ----------------------------            9.4/13.0 MB 529.1 kB/s eta 0:00:07\n",
      "     ----------------------------            9.4/13.0 MB 527.9 kB/s eta 0:00:07\n",
      "     ----------------------------            9.4/13.0 MB 527.7 kB/s eta 0:00:07\n",
      "     ----------------------------            9.4/13.0 MB 528.4 kB/s eta 0:00:07\n",
      "     ----------------------------            9.5/13.0 MB 528.2 kB/s eta 0:00:07\n",
      "     ----------------------------            9.5/13.0 MB 528.5 kB/s eta 0:00:07\n",
      "     ----------------------------            9.5/13.0 MB 528.8 kB/s eta 0:00:07\n",
      "     ----------------------------            9.5/13.0 MB 529.1 kB/s eta 0:00:07\n",
      "     ----------------------------            9.6/13.0 MB 529.0 kB/s eta 0:00:07\n",
      "     ----------------------------            9.6/13.0 MB 529.7 kB/s eta 0:00:07\n",
      "     ----------------------------            9.6/13.0 MB 530.0 kB/s eta 0:00:07\n",
      "     ----------------------------            9.6/13.0 MB 530.3 kB/s eta 0:00:07\n",
      "     -----------------------------           9.7/13.0 MB 529.9 kB/s eta 0:00:07\n",
      "     -----------------------------           9.7/13.0 MB 530.3 kB/s eta 0:00:07\n",
      "     -----------------------------           9.7/13.0 MB 530.6 kB/s eta 0:00:07\n",
      "     -----------------------------           9.7/13.0 MB 530.6 kB/s eta 0:00:07\n",
      "     -----------------------------           9.8/13.0 MB 530.1 kB/s eta 0:00:07\n",
      "     -----------------------------           9.8/13.0 MB 530.8 kB/s eta 0:00:07\n",
      "     -----------------------------           9.8/13.0 MB 530.7 kB/s eta 0:00:06\n",
      "     -----------------------------           9.8/13.0 MB 530.9 kB/s eta 0:00:06\n",
      "     -----------------------------           9.9/13.0 MB 531.2 kB/s eta 0:00:06\n",
      "     -----------------------------           9.9/13.0 MB 531.9 kB/s eta 0:00:06\n",
      "     -----------------------------           9.9/13.0 MB 531.1 kB/s eta 0:00:06\n",
      "     -----------------------------           9.9/13.0 MB 531.1 kB/s eta 0:00:06\n",
      "     -----------------------------           9.9/13.0 MB 531.1 kB/s eta 0:00:06\n",
      "     -----------------------------           9.9/13.0 MB 528.7 kB/s eta 0:00:06\n",
      "     -----------------------------          10.0/13.0 MB 530.2 kB/s eta 0:00:06\n",
      "     -----------------------------          10.0/13.0 MB 530.4 kB/s eta 0:00:06\n",
      "     -----------------------------          10.0/13.0 MB 530.2 kB/s eta 0:00:06\n",
      "     -----------------------------          10.0/13.0 MB 530.2 kB/s eta 0:00:06\n",
      "     -----------------------------          10.1/13.0 MB 530.1 kB/s eta 0:00:06\n",
      "     -----------------------------          10.1/13.0 MB 529.4 kB/s eta 0:00:06\n",
      "     -----------------------------          10.1/13.0 MB 529.3 kB/s eta 0:00:06\n",
      "     -----------------------------          10.1/13.0 MB 529.3 kB/s eta 0:00:06\n",
      "     -----------------------------          10.1/13.0 MB 529.3 kB/s eta 0:00:06\n",
      "     -----------------------------          10.1/13.0 MB 529.3 kB/s eta 0:00:06\n",
      "     -----------------------------          10.1/13.0 MB 529.3 kB/s eta 0:00:06\n",
      "     -----------------------------          10.1/13.0 MB 529.3 kB/s eta 0:00:06\n",
      "     -----------------------------          10.1/13.0 MB 524.1 kB/s eta 0:00:06\n",
      "     -----------------------------          10.1/13.0 MB 524.1 kB/s eta 0:00:06\n",
      "     -----------------------------          10.2/13.0 MB 523.0 kB/s eta 0:00:06\n",
      "     -----------------------------          10.2/13.0 MB 523.6 kB/s eta 0:00:06\n",
      "     -----------------------------          10.2/13.0 MB 522.1 kB/s eta 0:00:06\n",
      "     -----------------------------          10.2/13.0 MB 522.1 kB/s eta 0:00:06\n",
      "     -----------------------------          10.2/13.0 MB 521.6 kB/s eta 0:00:06\n",
      "     -----------------------------          10.3/13.0 MB 521.7 kB/s eta 0:00:06\n",
      "     ------------------------------         10.3/13.0 MB 522.9 kB/s eta 0:00:06\n",
      "     ------------------------------         10.3/13.0 MB 525.0 kB/s eta 0:00:06\n",
      "     ------------------------------         10.3/13.0 MB 523.7 kB/s eta 0:00:06\n",
      "     ------------------------------         10.4/13.0 MB 523.3 kB/s eta 0:00:06\n",
      "     ------------------------------         10.4/13.0 MB 522.9 kB/s eta 0:00:05\n",
      "     ------------------------------         10.4/13.0 MB 522.5 kB/s eta 0:00:05\n",
      "     ------------------------------         10.4/13.0 MB 522.5 kB/s eta 0:00:05\n",
      "     ------------------------------         10.4/13.0 MB 524.2 kB/s eta 0:00:05\n",
      "     ------------------------------         10.4/13.0 MB 524.2 kB/s eta 0:00:05\n",
      "     ------------------------------         10.5/13.0 MB 523.8 kB/s eta 0:00:05\n",
      "     ------------------------------         10.5/13.0 MB 523.8 kB/s eta 0:00:05\n",
      "     ------------------------------         10.5/13.0 MB 523.3 kB/s eta 0:00:05\n",
      "     ------------------------------         10.5/13.0 MB 523.3 kB/s eta 0:00:05\n",
      "     ------------------------------         10.5/13.0 MB 523.3 kB/s eta 0:00:05\n",
      "     ------------------------------         10.5/13.0 MB 521.3 kB/s eta 0:00:05\n",
      "     ------------------------------         10.5/13.0 MB 521.3 kB/s eta 0:00:05\n",
      "     ------------------------------         10.5/13.0 MB 521.3 kB/s eta 0:00:05\n",
      "     -------------------------------        10.6/13.0 MB 520.0 kB/s eta 0:00:05\n",
      "     -------------------------------        10.6/13.0 MB 518.4 kB/s eta 0:00:05\n",
      "     -------------------------------        10.6/13.0 MB 518.4 kB/s eta 0:00:05\n",
      "     -------------------------------        10.6/13.0 MB 518.4 kB/s eta 0:00:05\n",
      "     -------------------------------        10.7/13.0 MB 516.3 kB/s eta 0:00:05\n",
      "     -------------------------------        10.7/13.0 MB 515.1 kB/s eta 0:00:05\n",
      "     -------------------------------        10.7/13.0 MB 515.9 kB/s eta 0:00:05\n",
      "     -------------------------------        10.7/13.0 MB 515.5 kB/s eta 0:00:05\n",
      "     -------------------------------        10.7/13.0 MB 514.3 kB/s eta 0:00:05\n",
      "     -------------------------------        10.7/13.0 MB 514.3 kB/s eta 0:00:05\n",
      "     -------------------------------        10.7/13.0 MB 514.3 kB/s eta 0:00:05\n",
      "     -------------------------------        10.8/13.0 MB 511.1 kB/s eta 0:00:05\n",
      "     -------------------------------        10.8/13.0 MB 511.1 kB/s eta 0:00:05\n",
      "     -------------------------------        10.8/13.0 MB 511.1 kB/s eta 0:00:05\n",
      "     -------------------------------        10.8/13.0 MB 511.1 kB/s eta 0:00:05\n",
      "     -------------------------------        10.8/13.0 MB 509.5 kB/s eta 0:00:05\n",
      "     -------------------------------        10.8/13.0 MB 508.7 kB/s eta 0:00:05\n",
      "     -------------------------------        10.8/13.0 MB 507.5 kB/s eta 0:00:05\n",
      "     -------------------------------        10.8/13.0 MB 507.1 kB/s eta 0:00:05\n",
      "     -------------------------------        10.9/13.0 MB 506.7 kB/s eta 0:00:05\n",
      "     -------------------------------        10.9/13.0 MB 506.3 kB/s eta 0:00:05\n",
      "     -------------------------------        10.9/13.0 MB 506.3 kB/s eta 0:00:05\n",
      "     --------------------------------       10.9/13.0 MB 504.4 kB/s eta 0:00:05\n",
      "     --------------------------------       11.0/13.0 MB 504.4 kB/s eta 0:00:05\n",
      "     --------------------------------       11.0/13.0 MB 504.8 kB/s eta 0:00:04\n",
      "     --------------------------------       11.0/13.0 MB 504.8 kB/s eta 0:00:04\n",
      "     --------------------------------       11.0/13.0 MB 502.8 kB/s eta 0:00:04\n",
      "     --------------------------------       11.0/13.0 MB 504.0 kB/s eta 0:00:04\n",
      "     --------------------------------       11.0/13.0 MB 504.0 kB/s eta 0:00:04\n",
      "     --------------------------------       11.0/13.0 MB 504.0 kB/s eta 0:00:04\n",
      "     --------------------------------       11.0/13.0 MB 504.0 kB/s eta 0:00:04\n",
      "     --------------------------------       11.0/13.0 MB 499.8 kB/s eta 0:00:04\n",
      "     --------------------------------       11.1/13.0 MB 499.4 kB/s eta 0:00:04\n",
      "     --------------------------------       11.1/13.0 MB 499.4 kB/s eta 0:00:04\n",
      "     --------------------------------       11.1/13.0 MB 499.4 kB/s eta 0:00:04\n",
      "     --------------------------------       11.1/13.0 MB 499.4 kB/s eta 0:00:04\n",
      "     --------------------------------       11.1/13.0 MB 499.4 kB/s eta 0:00:04\n",
      "     --------------------------------       11.1/13.0 MB 499.4 kB/s eta 0:00:04\n",
      "     --------------------------------       11.1/13.0 MB 493.4 kB/s eta 0:00:04\n",
      "     --------------------------------       11.1/13.0 MB 495.6 kB/s eta 0:00:04\n",
      "     --------------------------------       11.1/13.0 MB 494.1 kB/s eta 0:00:04\n",
      "     --------------------------------       11.2/13.0 MB 493.0 kB/s eta 0:00:04\n",
      "     --------------------------------       11.2/13.0 MB 492.6 kB/s eta 0:00:04\n",
      "     --------------------------------       11.2/13.0 MB 493.0 kB/s eta 0:00:04\n",
      "     --------------------------------       11.2/13.0 MB 493.0 kB/s eta 0:00:04\n",
      "     --------------------------------       11.3/13.0 MB 492.6 kB/s eta 0:00:04\n",
      "     ---------------------------------      11.3/13.0 MB 492.6 kB/s eta 0:00:04\n",
      "     ---------------------------------      11.3/13.0 MB 492.2 kB/s eta 0:00:04\n",
      "     ---------------------------------      11.3/13.0 MB 491.9 kB/s eta 0:00:04\n",
      "     ---------------------------------      11.4/13.0 MB 491.5 kB/s eta 0:00:04\n",
      "     ---------------------------------      11.4/13.0 MB 491.5 kB/s eta 0:00:04\n",
      "     ---------------------------------      11.4/13.0 MB 491.5 kB/s eta 0:00:04\n",
      "     ---------------------------------      11.4/13.0 MB 489.7 kB/s eta 0:00:04\n",
      "     ---------------------------------      11.4/13.0 MB 488.9 kB/s eta 0:00:04\n",
      "     ---------------------------------      11.5/13.0 MB 489.7 kB/s eta 0:00:04\n",
      "     ---------------------------------      11.5/13.0 MB 488.9 kB/s eta 0:00:04\n",
      "     ---------------------------------      11.5/13.0 MB 488.2 kB/s eta 0:00:04\n",
      "     ---------------------------------      11.5/13.0 MB 488.2 kB/s eta 0:00:04\n",
      "     ---------------------------------      11.5/13.0 MB 488.2 kB/s eta 0:00:04\n",
      "     ---------------------------------      11.5/13.0 MB 487.1 kB/s eta 0:00:03\n",
      "     ---------------------------------      11.6/13.0 MB 487.5 kB/s eta 0:00:03\n",
      "     ---------------------------------      11.6/13.0 MB 486.8 kB/s eta 0:00:03\n",
      "     ---------------------------------      11.6/13.0 MB 486.8 kB/s eta 0:00:03\n",
      "     ---------------------------------      11.6/13.0 MB 485.0 kB/s eta 0:00:03\n",
      "     ----------------------------------     11.6/13.0 MB 485.0 kB/s eta 0:00:03\n",
      "     ----------------------------------     11.6/13.0 MB 485.0 kB/s eta 0:00:03\n",
      "     ----------------------------------     11.7/13.0 MB 484.6 kB/s eta 0:00:03\n",
      "     ----------------------------------     11.7/13.0 MB 484.6 kB/s eta 0:00:03\n",
      "     ----------------------------------     11.7/13.0 MB 484.6 kB/s eta 0:00:03\n",
      "     ----------------------------------     11.7/13.0 MB 482.8 kB/s eta 0:00:03\n",
      "     ----------------------------------     11.7/13.0 MB 483.2 kB/s eta 0:00:03\n",
      "     ----------------------------------     11.7/13.0 MB 483.2 kB/s eta 0:00:03\n",
      "     ----------------------------------     11.7/13.0 MB 483.2 kB/s eta 0:00:03\n",
      "     ----------------------------------     11.7/13.0 MB 483.2 kB/s eta 0:00:03\n",
      "     ----------------------------------     11.7/13.0 MB 483.2 kB/s eta 0:00:03\n",
      "     ----------------------------------     11.7/13.0 MB 483.2 kB/s eta 0:00:03\n",
      "     ----------------------------------     11.8/13.0 MB 482.5 kB/s eta 0:00:03\n",
      "     ----------------------------------     11.8/13.0 MB 483.2 kB/s eta 0:00:03\n",
      "     ----------------------------------     11.8/13.0 MB 483.2 kB/s eta 0:00:03\n",
      "     ----------------------------------     11.8/13.0 MB 481.4 kB/s eta 0:00:03\n",
      "     ----------------------------------     11.8/13.0 MB 481.4 kB/s eta 0:00:03\n",
      "     ----------------------------------     11.8/13.0 MB 482.1 kB/s eta 0:00:03\n",
      "     ----------------------------------     11.9/13.0 MB 481.0 kB/s eta 0:00:03\n",
      "     ----------------------------------     11.9/13.0 MB 481.0 kB/s eta 0:00:03\n",
      "     ----------------------------------     11.9/13.0 MB 481.0 kB/s eta 0:00:03\n",
      "     ----------------------------------     11.9/13.0 MB 481.0 kB/s eta 0:00:03\n",
      "     ----------------------------------     11.9/13.0 MB 481.0 kB/s eta 0:00:03\n",
      "     ----------------------------------     11.9/13.0 MB 481.0 kB/s eta 0:00:03\n",
      "     ----------------------------------     11.9/13.0 MB 481.0 kB/s eta 0:00:03\n",
      "     ----------------------------------     11.9/13.0 MB 481.0 kB/s eta 0:00:03\n",
      "     ----------------------------------     11.9/13.0 MB 481.0 kB/s eta 0:00:03\n",
      "     ----------------------------------     11.9/13.0 MB 481.0 kB/s eta 0:00:03\n",
      "     ----------------------------------     11.9/13.0 MB 481.0 kB/s eta 0:00:03\n",
      "     ----------------------------------     11.9/13.0 MB 472.0 kB/s eta 0:00:03\n",
      "     ----------------------------------     11.9/13.0 MB 470.7 kB/s eta 0:00:03\n",
      "     ----------------------------------     11.9/13.0 MB 470.7 kB/s eta 0:00:03\n",
      "     ----------------------------------     11.9/13.0 MB 470.7 kB/s eta 0:00:03\n",
      "     ----------------------------------     11.9/13.0 MB 470.7 kB/s eta 0:00:03\n",
      "     ----------------------------------     11.9/13.0 MB 466.6 kB/s eta 0:00:03\n",
      "     ----------------------------------     11.9/13.0 MB 466.6 kB/s eta 0:00:03\n",
      "     -----------------------------------    12.0/13.0 MB 466.3 kB/s eta 0:00:03\n",
      "     -----------------------------------    12.0/13.0 MB 466.3 kB/s eta 0:00:03\n",
      "     -----------------------------------    12.0/13.0 MB 466.3 kB/s eta 0:00:03\n",
      "     -----------------------------------    12.0/13.0 MB 464.3 kB/s eta 0:00:03\n",
      "     -----------------------------------    12.0/13.0 MB 463.7 kB/s eta 0:00:03\n",
      "     -----------------------------------    12.0/13.0 MB 463.7 kB/s eta 0:00:03\n",
      "     -----------------------------------    12.1/13.0 MB 464.3 kB/s eta 0:00:03\n",
      "     -----------------------------------    12.1/13.0 MB 464.3 kB/s eta 0:00:03\n",
      "     -----------------------------------    12.1/13.0 MB 464.3 kB/s eta 0:00:03\n",
      "     -----------------------------------    12.1/13.0 MB 462.4 kB/s eta 0:00:02\n",
      "     -----------------------------------    12.1/13.0 MB 463.3 kB/s eta 0:00:02\n",
      "     -----------------------------------    12.1/13.0 MB 463.3 kB/s eta 0:00:02\n",
      "     -----------------------------------    12.1/13.0 MB 463.3 kB/s eta 0:00:02\n",
      "     -----------------------------------    12.1/13.0 MB 461.0 kB/s eta 0:00:02\n",
      "     -----------------------------------    12.1/13.0 MB 460.1 kB/s eta 0:00:02\n",
      "     -----------------------------------    12.2/13.0 MB 459.4 kB/s eta 0:00:02\n",
      "     -----------------------------------    12.2/13.0 MB 460.4 kB/s eta 0:00:02\n",
      "     -----------------------------------    12.2/13.0 MB 459.5 kB/s eta 0:00:02\n",
      "     -----------------------------------    12.2/13.0 MB 459.4 kB/s eta 0:00:02\n",
      "     -----------------------------------    12.2/13.0 MB 459.8 kB/s eta 0:00:02\n",
      "     -----------------------------------    12.2/13.0 MB 459.8 kB/s eta 0:00:02\n",
      "     -----------------------------------    12.3/13.0 MB 457.8 kB/s eta 0:00:02\n",
      "     -----------------------------------    12.3/13.0 MB 458.5 kB/s eta 0:00:02\n",
      "     ------------------------------------   12.3/13.0 MB 457.8 kB/s eta 0:00:02\n",
      "     ------------------------------------   12.4/13.0 MB 457.8 kB/s eta 0:00:02\n",
      "     ------------------------------------   12.4/13.0 MB 457.8 kB/s eta 0:00:02\n",
      "     ------------------------------------   12.4/13.0 MB 457.8 kB/s eta 0:00:02\n",
      "     ------------------------------------   12.4/13.0 MB 457.2 kB/s eta 0:00:02\n",
      "     ------------------------------------   12.5/13.0 MB 457.5 kB/s eta 0:00:02\n",
      "     ------------------------------------   12.5/13.0 MB 457.5 kB/s eta 0:00:02\n",
      "     ------------------------------------   12.5/13.0 MB 457.5 kB/s eta 0:00:02\n",
      "     ------------------------------------   12.5/13.0 MB 457.5 kB/s eta 0:00:02\n",
      "     ------------------------------------   12.5/13.0 MB 457.5 kB/s eta 0:00:02\n",
      "     ------------------------------------   12.5/13.0 MB 457.5 kB/s eta 0:00:02\n",
      "     ------------------------------------   12.5/13.0 MB 457.5 kB/s eta 0:00:02\n",
      "     ------------------------------------   12.5/13.0 MB 453.4 kB/s eta 0:00:02\n",
      "     ------------------------------------   12.5/13.0 MB 453.7 kB/s eta 0:00:01\n",
      "     ------------------------------------   12.5/13.0 MB 453.7 kB/s eta 0:00:01\n",
      "     ------------------------------------   12.6/13.0 MB 452.1 kB/s eta 0:00:01\n",
      "     ------------------------------------   12.6/13.0 MB 452.1 kB/s eta 0:00:01\n",
      "     ------------------------------------   12.6/13.0 MB 452.1 kB/s eta 0:00:01\n",
      "     ------------------------------------   12.6/13.0 MB 450.3 kB/s eta 0:00:01\n",
      "     ------------------------------------   12.6/13.0 MB 450.3 kB/s eta 0:00:01\n",
      "     ------------------------------------   12.6/13.0 MB 450.0 kB/s eta 0:00:01\n",
      "     -------------------------------------  12.6/13.0 MB 448.7 kB/s eta 0:00:01\n",
      "     -------------------------------------  12.6/13.0 MB 448.7 kB/s eta 0:00:01\n",
      "     -------------------------------------  12.6/13.0 MB 448.7 kB/s eta 0:00:01\n",
      "     -------------------------------------  12.6/13.0 MB 448.7 kB/s eta 0:00:01\n",
      "     -------------------------------------  12.6/13.0 MB 448.7 kB/s eta 0:00:01\n",
      "     -------------------------------------  12.6/13.0 MB 448.7 kB/s eta 0:00:01\n",
      "     -------------------------------------  12.6/13.0 MB 448.7 kB/s eta 0:00:01\n",
      "     -------------------------------------  12.7/13.0 MB 446.0 kB/s eta 0:00:01\n",
      "     -------------------------------------  12.7/13.0 MB 444.2 kB/s eta 0:00:01\n",
      "     -------------------------------------  12.7/13.0 MB 444.2 kB/s eta 0:00:01\n",
      "     -------------------------------------  12.7/13.0 MB 443.0 kB/s eta 0:00:01\n",
      "     -------------------------------------  12.7/13.0 MB 442.7 kB/s eta 0:00:01\n",
      "     -------------------------------------  12.7/13.0 MB 442.7 kB/s eta 0:00:01\n",
      "     -------------------------------------  12.8/13.0 MB 441.8 kB/s eta 0:00:01\n",
      "     -------------------------------------  12.8/13.0 MB 441.8 kB/s eta 0:00:01\n",
      "     -------------------------------------  12.8/13.0 MB 441.8 kB/s eta 0:00:01\n",
      "     -------------------------------------  12.8/13.0 MB 441.2 kB/s eta 0:00:01\n",
      "     -------------------------------------  12.8/13.0 MB 441.2 kB/s eta 0:00:01\n",
      "     -------------------------------------  12.8/13.0 MB 439.4 kB/s eta 0:00:01\n",
      "     -------------------------------------  12.9/13.0 MB 439.4 kB/s eta 0:00:01\n",
      "     -------------------------------------  12.9/13.0 MB 439.4 kB/s eta 0:00:01\n",
      "     -------------------------------------  12.9/13.0 MB 438.8 kB/s eta 0:00:01\n",
      "     -------------------------------------  12.9/13.0 MB 438.8 kB/s eta 0:00:01\n",
      "     -------------------------------------  12.9/13.0 MB 438.2 kB/s eta 0:00:01\n",
      "     -------------------------------------  12.9/13.0 MB 437.6 kB/s eta 0:00:01\n",
      "     -------------------------------------  13.0/13.0 MB 437.1 kB/s eta 0:00:01\n",
      "     -------------------------------------  13.0/13.0 MB 436.8 kB/s eta 0:00:01\n",
      "     -------------------------------------  13.0/13.0 MB 436.8 kB/s eta 0:00:01\n",
      "     -------------------------------------- 13.0/13.0 MB 435.2 kB/s eta 0:00:00\n",
      "Requirement already satisfied: spacy<3.7.0,>=3.6.0 in c:\\users\\arkadeuser\\documents\\projects\\nlp-sentimental-analysis\\venv\\lib\\site-packages (from pt-core-news-sm==3.6.0) (3.6.0)\n",
      "Requirement already satisfied: spacy-legacy<3.1.0,>=3.0.11 in c:\\users\\arkadeuser\\documents\\projects\\nlp-sentimental-analysis\\venv\\lib\\site-packages (from spacy<3.7.0,>=3.6.0->pt-core-news-sm==3.6.0) (3.0.12)\n",
      "Requirement already satisfied: spacy-loggers<2.0.0,>=1.0.0 in c:\\users\\arkadeuser\\documents\\projects\\nlp-sentimental-analysis\\venv\\lib\\site-packages (from spacy<3.7.0,>=3.6.0->pt-core-news-sm==3.6.0) (1.0.4)\n",
      "Requirement already satisfied: murmurhash<1.1.0,>=0.28.0 in c:\\users\\arkadeuser\\documents\\projects\\nlp-sentimental-analysis\\venv\\lib\\site-packages (from spacy<3.7.0,>=3.6.0->pt-core-news-sm==3.6.0) (1.0.9)\n",
      "Requirement already satisfied: cymem<2.1.0,>=2.0.2 in c:\\users\\arkadeuser\\documents\\projects\\nlp-sentimental-analysis\\venv\\lib\\site-packages (from spacy<3.7.0,>=3.6.0->pt-core-news-sm==3.6.0) (2.0.7)\n",
      "Requirement already satisfied: preshed<3.1.0,>=3.0.2 in c:\\users\\arkadeuser\\documents\\projects\\nlp-sentimental-analysis\\venv\\lib\\site-packages (from spacy<3.7.0,>=3.6.0->pt-core-news-sm==3.6.0) (3.0.8)\n",
      "Requirement already satisfied: thinc<8.2.0,>=8.1.8 in c:\\users\\arkadeuser\\documents\\projects\\nlp-sentimental-analysis\\venv\\lib\\site-packages (from spacy<3.7.0,>=3.6.0->pt-core-news-sm==3.6.0) (8.1.10)\n",
      "Requirement already satisfied: wasabi<1.2.0,>=0.9.1 in c:\\users\\arkadeuser\\documents\\projects\\nlp-sentimental-analysis\\venv\\lib\\site-packages (from spacy<3.7.0,>=3.6.0->pt-core-news-sm==3.6.0) (1.1.2)\n",
      "Requirement already satisfied: srsly<3.0.0,>=2.4.3 in c:\\users\\arkadeuser\\documents\\projects\\nlp-sentimental-analysis\\venv\\lib\\site-packages (from spacy<3.7.0,>=3.6.0->pt-core-news-sm==3.6.0) (2.4.7)\n",
      "Requirement already satisfied: catalogue<2.1.0,>=2.0.6 in c:\\users\\arkadeuser\\documents\\projects\\nlp-sentimental-analysis\\venv\\lib\\site-packages (from spacy<3.7.0,>=3.6.0->pt-core-news-sm==3.6.0) (2.0.8)\n",
      "Requirement already satisfied: typer<0.10.0,>=0.3.0 in c:\\users\\arkadeuser\\documents\\projects\\nlp-sentimental-analysis\\venv\\lib\\site-packages (from spacy<3.7.0,>=3.6.0->pt-core-news-sm==3.6.0) (0.9.0)\n",
      "Requirement already satisfied: pathy>=0.10.0 in c:\\users\\arkadeuser\\documents\\projects\\nlp-sentimental-analysis\\venv\\lib\\site-packages (from spacy<3.7.0,>=3.6.0->pt-core-news-sm==3.6.0) (0.10.2)\n",
      "Requirement already satisfied: smart-open<7.0.0,>=5.2.1 in c:\\users\\arkadeuser\\documents\\projects\\nlp-sentimental-analysis\\venv\\lib\\site-packages (from spacy<3.7.0,>=3.6.0->pt-core-news-sm==3.6.0) (6.3.0)\n",
      "Requirement already satisfied: tqdm<5.0.0,>=4.38.0 in c:\\users\\arkadeuser\\documents\\projects\\nlp-sentimental-analysis\\venv\\lib\\site-packages (from spacy<3.7.0,>=3.6.0->pt-core-news-sm==3.6.0) (4.65.0)\n",
      "Requirement already satisfied: numpy>=1.15.0 in c:\\users\\arkadeuser\\documents\\projects\\nlp-sentimental-analysis\\venv\\lib\\site-packages (from spacy<3.7.0,>=3.6.0->pt-core-news-sm==3.6.0) (1.25.1)\n",
      "Requirement already satisfied: requests<3.0.0,>=2.13.0 in c:\\users\\arkadeuser\\documents\\projects\\nlp-sentimental-analysis\\venv\\lib\\site-packages (from spacy<3.7.0,>=3.6.0->pt-core-news-sm==3.6.0) (2.31.0)\n",
      "Requirement already satisfied: pydantic!=1.8,!=1.8.1,<1.11.0,>=1.7.4 in c:\\users\\arkadeuser\\documents\\projects\\nlp-sentimental-analysis\\venv\\lib\\site-packages (from spacy<3.7.0,>=3.6.0->pt-core-news-sm==3.6.0) (1.10.11)\n",
      "Requirement already satisfied: jinja2 in c:\\users\\arkadeuser\\documents\\projects\\nlp-sentimental-analysis\\venv\\lib\\site-packages (from spacy<3.7.0,>=3.6.0->pt-core-news-sm==3.6.0) (3.1.2)\n",
      "Requirement already satisfied: setuptools in c:\\users\\arkadeuser\\documents\\projects\\nlp-sentimental-analysis\\venv\\lib\\site-packages (from spacy<3.7.0,>=3.6.0->pt-core-news-sm==3.6.0) (65.5.0)\n",
      "Requirement already satisfied: packaging>=20.0 in c:\\users\\arkadeuser\\documents\\projects\\nlp-sentimental-analysis\\venv\\lib\\site-packages (from spacy<3.7.0,>=3.6.0->pt-core-news-sm==3.6.0) (23.1)\n",
      "Requirement already satisfied: langcodes<4.0.0,>=3.2.0 in c:\\users\\arkadeuser\\documents\\projects\\nlp-sentimental-analysis\\venv\\lib\\site-packages (from spacy<3.7.0,>=3.6.0->pt-core-news-sm==3.6.0) (3.3.0)\n",
      "Requirement already satisfied: typing-extensions>=4.2.0 in c:\\users\\arkadeuser\\documents\\projects\\nlp-sentimental-analysis\\venv\\lib\\site-packages (from pydantic!=1.8,!=1.8.1,<1.11.0,>=1.7.4->spacy<3.7.0,>=3.6.0->pt-core-news-sm==3.6.0) (4.7.1)\n",
      "Requirement already satisfied: charset-normalizer<4,>=2 in c:\\users\\arkadeuser\\documents\\projects\\nlp-sentimental-analysis\\venv\\lib\\site-packages (from requests<3.0.0,>=2.13.0->spacy<3.7.0,>=3.6.0->pt-core-news-sm==3.6.0) (3.2.0)\n",
      "Requirement already satisfied: idna<4,>=2.5 in c:\\users\\arkadeuser\\documents\\projects\\nlp-sentimental-analysis\\venv\\lib\\site-packages (from requests<3.0.0,>=2.13.0->spacy<3.7.0,>=3.6.0->pt-core-news-sm==3.6.0) (3.4)\n",
      "Requirement already satisfied: urllib3<3,>=1.21.1 in c:\\users\\arkadeuser\\documents\\projects\\nlp-sentimental-analysis\\venv\\lib\\site-packages (from requests<3.0.0,>=2.13.0->spacy<3.7.0,>=3.6.0->pt-core-news-sm==3.6.0) (2.0.4)\n",
      "Requirement already satisfied: certifi>=2017.4.17 in c:\\users\\arkadeuser\\documents\\projects\\nlp-sentimental-analysis\\venv\\lib\\site-packages (from requests<3.0.0,>=2.13.0->spacy<3.7.0,>=3.6.0->pt-core-news-sm==3.6.0) (2023.5.7)\n",
      "Requirement already satisfied: blis<0.8.0,>=0.7.8 in c:\\users\\arkadeuser\\documents\\projects\\nlp-sentimental-analysis\\venv\\lib\\site-packages (from thinc<8.2.0,>=8.1.8->spacy<3.7.0,>=3.6.0->pt-core-news-sm==3.6.0) (0.7.9)\n",
      "Requirement already satisfied: confection<1.0.0,>=0.0.1 in c:\\users\\arkadeuser\\documents\\projects\\nlp-sentimental-analysis\\venv\\lib\\site-packages (from thinc<8.2.0,>=8.1.8->spacy<3.7.0,>=3.6.0->pt-core-news-sm==3.6.0) (0.1.0)\n",
      "Requirement already satisfied: colorama in c:\\users\\arkadeuser\\documents\\projects\\nlp-sentimental-analysis\\venv\\lib\\site-packages (from tqdm<5.0.0,>=4.38.0->spacy<3.7.0,>=3.6.0->pt-core-news-sm==3.6.0) (0.4.6)\n",
      "Requirement already satisfied: click<9.0.0,>=7.1.1 in c:\\users\\arkadeuser\\documents\\projects\\nlp-sentimental-analysis\\venv\\lib\\site-packages (from typer<0.10.0,>=0.3.0->spacy<3.7.0,>=3.6.0->pt-core-news-sm==3.6.0) (8.1.6)\n",
      "Requirement already satisfied: MarkupSafe>=2.0 in c:\\users\\arkadeuser\\documents\\projects\\nlp-sentimental-analysis\\venv\\lib\\site-packages (from jinja2->spacy<3.7.0,>=3.6.0->pt-core-news-sm==3.6.0) (2.1.3)\n",
      "\u001b[38;5;2m✔ Download and installation successful\u001b[0m\n",
      "You can now load the package via spacy.load('pt_core_news_sm')\n"
     ]
    },
    {
     "name": "stderr",
     "output_type": "stream",
     "text": [
      "\n",
      "[notice] A new release of pip is available: 23.1.2 -> 23.2\n",
      "[notice] To update, run: python.exe -m pip install --upgrade pip\n"
     ]
    }
   ],
   "source": [
    "!spacy download en_core_web_sm\n",
    "!spacy download pt_core_news_sm"
   ]
  },
  {
   "cell_type": "code",
   "execution_count": 23,
   "metadata": {
    "tags": []
   },
   "outputs": [],
   "source": [
    "import spacy"
   ]
  },
  {
   "cell_type": "code",
   "execution_count": 24,
   "metadata": {
    "tags": []
   },
   "outputs": [],
   "source": [
    "NLP_ENG = spacy.load(\"en_core_web_sm\")\n",
    "NLP_PT = spacy.load(\"pt_core_news_sm\")"
   ]
  },
  {
   "cell_type": "code",
   "execution_count": 25,
   "metadata": {
    "tags": []
   },
   "outputs": [],
   "source": [
    "def lemmatizer(data, language):\n",
    "    final_data = []\n",
    "    lemm = None\n",
    "    \n",
    "    if language == \"english\":\n",
    "        lemm = NLP_ENG\n",
    "    else:\n",
    "        lemm = NLP_PT\n",
    "        \n",
    "    for word in lemm(data):\n",
    "        if word.pos_ == \"VERB\":\n",
    "            final_data.append(word.lemma_)\n",
    "        else:\n",
    "            final_data.append(word.orth_)\n",
    "        \n",
    "    return \" \".join(final_data)"
   ]
  },
  {
   "cell_type": "code",
   "execution_count": 26,
   "metadata": {
    "tags": []
   },
   "outputs": [
    {
     "data": {
      "text/html": [
       "<div>\n",
       "<style scoped>\n",
       "    .dataframe tbody tr th:only-of-type {\n",
       "        vertical-align: middle;\n",
       "    }\n",
       "\n",
       "    .dataframe tbody tr th {\n",
       "        vertical-align: top;\n",
       "    }\n",
       "\n",
       "    .dataframe thead th {\n",
       "        text-align: right;\n",
       "    }\n",
       "</style>\n",
       "<table border=\"1\" class=\"dataframe\">\n",
       "  <thead>\n",
       "    <tr style=\"text-align: right;\">\n",
       "      <th></th>\n",
       "      <th>y</th>\n",
       "      <th>text</th>\n",
       "      <th>text_pt</th>\n",
       "      <th>lemmatized_text</th>\n",
       "      <th>lemmatized_text_pt</th>\n",
       "    </tr>\n",
       "  </thead>\n",
       "  <tbody>\n",
       "    <tr>\n",
       "      <th>0</th>\n",
       "      <td>neutral</td>\n",
       "      <td>technopolis plans develop stages area less 100...</td>\n",
       "      <td>technopolis planeja desenvolver etapas area in...</td>\n",
       "      <td>technopolis plans develop stages area less 100...</td>\n",
       "      <td>technopolis planejar desenvolver etapas area i...</td>\n",
       "    </tr>\n",
       "    <tr>\n",
       "      <th>1</th>\n",
       "      <td>negative</td>\n",
       "      <td>international electronic industry company elco...</td>\n",
       "      <td>elcoteq empresa internacional industria eletro...</td>\n",
       "      <td>international electronic industry company elco...</td>\n",
       "      <td>elcoteq empresa internacional industria eletro...</td>\n",
       "    </tr>\n",
       "    <tr>\n",
       "      <th>2</th>\n",
       "      <td>positive</td>\n",
       "      <td>new production plant company would increase ca...</td>\n",
       "      <td>nova planta producao empresa aumentaria capaci...</td>\n",
       "      <td>new production plant company would increase ca...</td>\n",
       "      <td>nova planta producao empresa aumentar capacida...</td>\n",
       "    </tr>\n",
       "    <tr>\n",
       "      <th>3</th>\n",
       "      <td>positive</td>\n",
       "      <td>according company updated strategy years 20092...</td>\n",
       "      <td>acordo estrategia atualizada empresa anos 2009...</td>\n",
       "      <td>accord company update strategy years 20092012 ...</td>\n",
       "      <td>acordo estrategia atualizada empresa ano 20092...</td>\n",
       "    </tr>\n",
       "    <tr>\n",
       "      <th>4</th>\n",
       "      <td>positive</td>\n",
       "      <td>financing aspocomp growth aspocomp aggressivel...</td>\n",
       "      <td>financiamento crescimento aspocomp aspocomp pe...</td>\n",
       "      <td>finance aspocomp growth aspocomp aggressively ...</td>\n",
       "      <td>financiamento crescimento aspocomp aspocomp pe...</td>\n",
       "    </tr>\n",
       "  </tbody>\n",
       "</table>\n",
       "</div>"
      ],
      "text/plain": [
       "          y                                               text  \\\n",
       "0   neutral  technopolis plans develop stages area less 100...   \n",
       "1  negative  international electronic industry company elco...   \n",
       "2  positive  new production plant company would increase ca...   \n",
       "3  positive  according company updated strategy years 20092...   \n",
       "4  positive  financing aspocomp growth aspocomp aggressivel...   \n",
       "\n",
       "                                             text_pt  \\\n",
       "0  technopolis planeja desenvolver etapas area in...   \n",
       "1  elcoteq empresa internacional industria eletro...   \n",
       "2  nova planta producao empresa aumentaria capaci...   \n",
       "3  acordo estrategia atualizada empresa anos 2009...   \n",
       "4  financiamento crescimento aspocomp aspocomp pe...   \n",
       "\n",
       "                                     lemmatized_text  \\\n",
       "0  technopolis plans develop stages area less 100...   \n",
       "1  international electronic industry company elco...   \n",
       "2  new production plant company would increase ca...   \n",
       "3  accord company update strategy years 20092012 ...   \n",
       "4  finance aspocomp growth aspocomp aggressively ...   \n",
       "\n",
       "                                  lemmatized_text_pt  \n",
       "0  technopolis planejar desenvolver etapas area i...  \n",
       "1  elcoteq empresa internacional industria eletro...  \n",
       "2  nova planta producao empresa aumentar capacida...  \n",
       "3  acordo estrategia atualizada empresa ano 20092...  \n",
       "4  financiamento crescimento aspocomp aspocomp pe...  "
      ]
     },
     "execution_count": 26,
     "metadata": {},
     "output_type": "execute_result"
    }
   ],
   "source": [
    "df[\"lemmatized_text\"] = df.text.map(lambda x: lemmatizer(x, \"english\"))\n",
    "df[\"lemmatized_text_pt\"] = df.text_pt.map(lambda x: lemmatizer(x, language=\"portuguese\"))\n",
    "\n",
    "df.head()"
   ]
  },
  {
   "attachments": {},
   "cell_type": "markdown",
   "metadata": {},
   "source": [
    "### 1.7. Verificando se existem dados duplicados e removendo-os"
   ]
  },
  {
   "cell_type": "code",
   "execution_count": 27,
   "metadata": {
    "tags": []
   },
   "outputs": [
    {
     "data": {
      "text/plain": [
       "5"
      ]
     },
     "execution_count": 27,
     "metadata": {},
     "output_type": "execute_result"
    }
   ],
   "source": [
    "df.duplicated().sum()"
   ]
  },
  {
   "cell_type": "code",
   "execution_count": 28,
   "metadata": {
    "tags": []
   },
   "outputs": [
    {
     "data": {
      "text/plain": [
       "0"
      ]
     },
     "execution_count": 28,
     "metadata": {},
     "output_type": "execute_result"
    }
   ],
   "source": [
    "df.drop_duplicates(inplace=True, ignore_index=True)\n",
    "df.duplicated().sum()"
   ]
  },
  {
   "attachments": {},
   "cell_type": "markdown",
   "metadata": {},
   "source": [
    "### 1.8. Verficiando distribuição dos dados entre as classes"
   ]
  },
  {
   "cell_type": "code",
   "execution_count": 29,
   "metadata": {
    "tags": []
   },
   "outputs": [
    {
     "data": {
      "text/plain": [
       "y\n",
       "neutral     2867\n",
       "positive    1363\n",
       "negative     604\n",
       "Name: count, dtype: int64"
      ]
     },
     "execution_count": 29,
     "metadata": {},
     "output_type": "execute_result"
    }
   ],
   "source": [
    "# Quantidade de dados por classe\n",
    "df[\"y\"].value_counts()"
   ]
  },
  {
   "cell_type": "code",
   "execution_count": 30,
   "metadata": {
    "tags": []
   },
   "outputs": [
    {
     "data": {
      "text/plain": [
       "y\n",
       "neutral     59.309061\n",
       "positive    28.196111\n",
       "negative    12.494828\n",
       "Name: proportion, dtype: float64"
      ]
     },
     "execution_count": 30,
     "metadata": {},
     "output_type": "execute_result"
    }
   ],
   "source": [
    "# Proporção entre as classes\n",
    "df[\"y\"].value_counts(normalize=True)*100"
   ]
  },
  {
   "attachments": {},
   "cell_type": "markdown",
   "metadata": {},
   "source": [
    "É possível notar que o dataset em questão é desbalanceado, já que a diferença entre a quantidade de dados presente em cada classe supera 10%. Para contornar tal fato, será utilizada da estratégia de Validação Cruzada no treinamento dos modelos."
   ]
  },
  {
   "attachments": {},
   "cell_type": "markdown",
   "metadata": {},
   "source": [
    "### 1.9. Preparando TF-IDF"
   ]
  },
  {
   "cell_type": "code",
   "execution_count": 31,
   "metadata": {
    "tags": []
   },
   "outputs": [],
   "source": [
    "from sklearn.feature_extraction.text import TfidfVectorizer"
   ]
  },
  {
   "cell_type": "code",
   "execution_count": 32,
   "metadata": {
    "tags": []
   },
   "outputs": [],
   "source": [
    "eng_vectorizer = TfidfVectorizer(sublinear_tf=True)\n",
    "pt_vectorizer = TfidfVectorizer(sublinear_tf=True)"
   ]
  },
  {
   "cell_type": "code",
   "execution_count": 33,
   "metadata": {
    "tags": []
   },
   "outputs": [],
   "source": [
    "features_text = eng_vectorizer.fit_transform(df[\"lemmatized_text\"])\n",
    "features_text_pt = pt_vectorizer.fit_transform(df[\"lemmatized_text_pt\"])"
   ]
  },
  {
   "attachments": {},
   "cell_type": "markdown",
   "metadata": {},
   "source": [
    "### 1.10. Separando dados em partes para treino e teste"
   ]
  },
  {
   "cell_type": "code",
   "execution_count": 34,
   "metadata": {
    "tags": []
   },
   "outputs": [],
   "source": [
    "from sklearn.preprocessing import LabelEncoder"
   ]
  },
  {
   "cell_type": "code",
   "execution_count": 35,
   "metadata": {
    "tags": []
   },
   "outputs": [
    {
     "data": {
      "text/plain": [
       "array(['negative', 'neutral', 'positive'], dtype=object)"
      ]
     },
     "execution_count": 35,
     "metadata": {},
     "output_type": "execute_result"
    }
   ],
   "source": [
    "le = LabelEncoder()\n",
    "le.fit(df['y'])\n",
    "le.classes_"
   ]
  },
  {
   "attachments": {},
   "cell_type": "markdown",
   "metadata": {},
   "source": [
    "- Dados para treino"
   ]
  },
  {
   "cell_type": "code",
   "execution_count": 36,
   "metadata": {
    "tags": []
   },
   "outputs": [
    {
     "data": {
      "text/plain": [
       "0        neutral\n",
       "1       negative\n",
       "2       positive\n",
       "3       positive\n",
       "4       positive\n",
       "          ...   \n",
       "4429    negative\n",
       "4430    negative\n",
       "4431    negative\n",
       "4432    negative\n",
       "4433    negative\n",
       "Name: y, Length: 4434, dtype: object"
      ]
     },
     "execution_count": 36,
     "metadata": {},
     "output_type": "execute_result"
    }
   ],
   "source": [
    "# Classes\n",
    "y_train = df['y'][:-400]\n",
    "y_train"
   ]
  },
  {
   "cell_type": "code",
   "execution_count": 37,
   "metadata": {
    "tags": []
   },
   "outputs": [
    {
     "data": {
      "text/plain": [
       "array([1, 0, 2, ..., 0, 0, 0])"
      ]
     },
     "execution_count": 37,
     "metadata": {},
     "output_type": "execute_result"
    }
   ],
   "source": [
    "y_train_le = le.transform(y_train)\n",
    "y_train_le"
   ]
  },
  {
   "cell_type": "code",
   "execution_count": 38,
   "metadata": {
    "tags": []
   },
   "outputs": [],
   "source": [
    "# Atributos\n",
    "X_train_eng = features_text[:-400]\n",
    "X_train_pt = features_text_pt[:-400]"
   ]
  },
  {
   "attachments": {},
   "cell_type": "markdown",
   "metadata": {},
   "source": [
    "- Dados para teste"
   ]
  },
  {
   "cell_type": "code",
   "execution_count": 39,
   "metadata": {
    "tags": []
   },
   "outputs": [
    {
     "data": {
      "text/plain": [
       "4434    negative\n",
       "4435    negative\n",
       "4436    negative\n",
       "4437    negative\n",
       "4438    negative\n",
       "          ...   \n",
       "4829    negative\n",
       "4830     neutral\n",
       "4831    negative\n",
       "4832    negative\n",
       "4833    negative\n",
       "Name: y, Length: 400, dtype: object"
      ]
     },
     "execution_count": 39,
     "metadata": {},
     "output_type": "execute_result"
    }
   ],
   "source": [
    "# Classes\n",
    "y_test = df['y'][-400:]\n",
    "y_test"
   ]
  },
  {
   "cell_type": "code",
   "execution_count": 40,
   "metadata": {
    "tags": []
   },
   "outputs": [
    {
     "data": {
      "text/plain": [
       "array([0, 0, 0, 0, 0, 0, 0, 0, 0, 2, 2, 2, 2, 2, 2, 2, 2, 2, 2, 2, 1, 2,\n",
       "       2, 2, 2, 1, 2, 2, 1, 1, 1, 1, 2, 1, 1, 2, 1, 1, 1, 1, 2, 1, 1, 2,\n",
       "       1, 1, 2, 2, 1, 2, 2, 2, 2, 2, 2, 2, 2, 2, 2, 2, 2, 1, 1, 2, 1, 1,\n",
       "       1, 2, 0, 1, 1, 1, 1, 1, 1, 1, 2, 1, 0, 1, 1, 1, 1, 0, 0, 0, 0, 0,\n",
       "       2, 0, 2, 1, 0, 1, 1, 2, 1, 0, 1, 1, 1, 1, 1, 0, 1, 0, 1, 0, 0, 0,\n",
       "       0, 0, 0, 0, 0, 0, 0, 0, 0, 0, 0, 0, 2, 2, 1, 1, 1, 0, 0, 2, 1, 1,\n",
       "       1, 0, 0, 0, 1, 1, 0, 0, 0, 0, 0, 0, 0, 0, 2, 0, 0, 0, 0, 0, 0, 1,\n",
       "       0, 1, 2, 1, 1, 1, 1, 0, 1, 0, 0, 1, 1, 0, 0, 1, 0, 0, 1, 0, 1, 0,\n",
       "       0, 0, 0, 1, 0, 1, 1, 0, 0, 0, 0, 0, 0, 0, 0, 0, 0, 0, 0, 0, 0, 0,\n",
       "       0, 0, 0, 0, 0, 0, 0, 0, 0, 0, 0, 0, 0, 0, 0, 0, 0, 0, 0, 0, 0, 0,\n",
       "       0, 0, 0, 0, 0, 0, 0, 0, 0, 0, 0, 0, 0, 0, 0, 0, 0, 0, 0, 0, 0, 0,\n",
       "       0, 0, 0, 0, 0, 0, 0, 0, 0, 0, 0, 0, 0, 0, 0, 0, 0, 0, 0, 0, 0, 0,\n",
       "       0, 0, 0, 0, 0, 0, 0, 0, 0, 0, 0, 0, 0, 0, 0, 0, 0, 0, 0, 0, 0, 0,\n",
       "       0, 0, 0, 0, 0, 0, 0, 0, 0, 0, 0, 0, 0, 0, 0, 0, 0, 0, 0, 0, 0, 0,\n",
       "       0, 0, 0, 0, 0, 0, 0, 0, 0, 0, 0, 0, 0, 0, 0, 0, 0, 0, 0, 2, 2, 2,\n",
       "       1, 1, 1, 1, 2, 0, 0, 0, 0, 0, 2, 2, 0, 0, 0, 0, 0, 0, 1, 0, 0, 0,\n",
       "       0, 0, 0, 0, 1, 0, 1, 1, 1, 1, 0, 1, 0, 0, 1, 0, 0, 0, 0, 0, 0, 1,\n",
       "       1, 0, 2, 1, 0, 0, 1, 0, 0, 0, 0, 0, 0, 0, 0, 0, 0, 0, 0, 0, 0, 0,\n",
       "       1, 0, 0, 0])"
      ]
     },
     "execution_count": 40,
     "metadata": {},
     "output_type": "execute_result"
    }
   ],
   "source": [
    "y_test_le = le.transform(y_test)\n",
    "y_test_le"
   ]
  },
  {
   "cell_type": "code",
   "execution_count": 41,
   "metadata": {
    "tags": []
   },
   "outputs": [],
   "source": [
    "# Atributos\n",
    "X_test_eng = features_text[-400:]\n",
    "X_test_pt = features_text_pt[-400:]"
   ]
  },
  {
   "attachments": {},
   "cell_type": "markdown",
   "metadata": {},
   "source": [
    "## 2. Treinando modelos com validação cruzada"
   ]
  },
  {
   "cell_type": "code",
   "execution_count": 42,
   "metadata": {
    "tags": []
   },
   "outputs": [],
   "source": [
    "from sklearn.pipeline import Pipeline\n",
    "from sklearn.model_selection import cross_validate\n",
    "from sklearn.model_selection import StratifiedKFold\n",
    "import joblib"
   ]
  },
  {
   "cell_type": "code",
   "execution_count": 43,
   "metadata": {
    "tags": []
   },
   "outputs": [],
   "source": [
    "PATH_METRICS = \"./metrics/\"\n",
    "PATH_MODELS = \"./models/\""
   ]
  },
  {
   "cell_type": "code",
   "execution_count": 44,
   "metadata": {
    "tags": []
   },
   "outputs": [],
   "source": [
    "def evaluate_model(model, skf, X, y, model_name):\n",
    "    pipeline = Pipeline([('estimator', model)])\n",
    "    scores = cross_validate(pipeline, X, y, cv=skf, scoring=[\"accuracy\",\n",
    "                                                             \"f1_weighted\",\n",
    "                                                             \"precision_weighted\", \n",
    "                                                             \"recall_weighted\"])\n",
    "    columns = {}\n",
    "\n",
    "    for test in scores:\n",
    "        columns[test] = test.replace('_', ' ').title()\n",
    "\n",
    "    df = pd.DataFrame(scores, index=[\"K-Fold \" + str(i) for i in range(1, 4)])\n",
    "    df = df.rename(columns=columns)\n",
    "    \n",
    "    for i, (train_index, _) in enumerate(skf.split(X, y)):\n",
    "        X_train = X[train_index]\n",
    "        y_train = y[train_index]\n",
    "\n",
    "        model.fit(X_train, y_train)\n",
    "        \n",
    "        save_path = PATH_MODELS + model_name + str(i) + \".pkl\"\n",
    "        joblib.dump(model, save_path)\n",
    "    \n",
    "    return df"
   ]
  },
  {
   "cell_type": "code",
   "execution_count": 45,
   "metadata": {
    "collapsed": true,
    "jupyter": {
     "outputs_hidden": true
    },
    "tags": []
   },
   "outputs": [],
   "source": [
    "# !pip install xgboost"
   ]
  },
  {
   "cell_type": "code",
   "execution_count": 46,
   "metadata": {
    "tags": []
   },
   "outputs": [],
   "source": [
    "from sklearn import tree\n",
    "from sklearn import svm\n",
    "from sklearn.neighbors import KNeighborsClassifier\n",
    "import xgboost as xgb\n",
    "from sklearn.linear_model import LogisticRegression\n",
    "from sklearn.naive_bayes import MultinomialNB\n",
    "from sklearn.ensemble import RandomForestClassifier\n",
    "from sklearn.ensemble import ExtraTreesClassifier"
   ]
  },
  {
   "cell_type": "code",
   "execution_count": 47,
   "metadata": {
    "tags": []
   },
   "outputs": [],
   "source": [
    "# Instanciando StratifiedKFold\n",
    "skf = StratifiedKFold(n_splits=3, shuffle=True, random_state=42)\n",
    "\n",
    "# Instanciando os modelos a serem treinados\n",
    "decision_tree = tree.DecisionTreeClassifier()\n",
    "svm_model = svm.SVC(kernel='linear')\n",
    "kNN = KNeighborsClassifier(n_neighbors=5)\n",
    "xgb_model = xgb.XGBClassifier()\n",
    "lr_model = LogisticRegression()\n",
    "nb_model = MultinomialNB()\n",
    "rf_model = RandomForestClassifier()\n",
    "etc_model = ExtraTreesClassifier()"
   ]
  },
  {
   "attachments": {},
   "cell_type": "markdown",
   "metadata": {},
   "source": [
    "- Validação cruzada para textos em inglês"
   ]
  },
  {
   "cell_type": "code",
   "execution_count": 48,
   "metadata": {
    "collapsed": true,
    "jupyter": {
     "outputs_hidden": true
    },
    "tags": []
   },
   "outputs": [
    {
     "name": "stderr",
     "output_type": "stream",
     "text": [
      "c:\\Users\\ArkadeUser\\Documents\\projects\\nlp-sentimental-analysis\\venv\\Lib\\site-packages\\joblib\\externals\\loky\\backend\\context.py:136: UserWarning: Could not find the number of physical cores for the following reason:\n",
      "found 0 physical cores < 1\n",
      "Returning the number of logical cores instead. You can silence this warning by setting LOKY_MAX_CPU_COUNT to the number of cores you want to use.\n",
      "  warnings.warn(\n",
      "  File \"c:\\Users\\ArkadeUser\\Documents\\projects\\nlp-sentimental-analysis\\venv\\Lib\\site-packages\\joblib\\externals\\loky\\backend\\context.py\", line 282, in _count_physical_cores\n",
      "    raise ValueError(f\"found {cpu_count_physical} physical cores < 1\")\n",
      "c:\\Users\\ArkadeUser\\Documents\\projects\\nlp-sentimental-analysis\\venv\\Lib\\site-packages\\sklearn\\metrics\\_classification.py:1469: UndefinedMetricWarning: Precision is ill-defined and being set to 0.0 in labels with no predicted samples. Use `zero_division` parameter to control this behavior.\n",
      "  _warn_prf(average, modifier, msg_start, len(result))\n",
      "c:\\Users\\ArkadeUser\\Documents\\projects\\nlp-sentimental-analysis\\venv\\Lib\\site-packages\\sklearn\\metrics\\_classification.py:1469: UndefinedMetricWarning: Precision is ill-defined and being set to 0.0 in labels with no predicted samples. Use `zero_division` parameter to control this behavior.\n",
      "  _warn_prf(average, modifier, msg_start, len(result))\n",
      "c:\\Users\\ArkadeUser\\Documents\\projects\\nlp-sentimental-analysis\\venv\\Lib\\site-packages\\sklearn\\metrics\\_classification.py:1469: UndefinedMetricWarning: Precision is ill-defined and being set to 0.0 in labels with no predicted samples. Use `zero_division` parameter to control this behavior.\n",
      "  _warn_prf(average, modifier, msg_start, len(result))\n"
     ]
    }
   ],
   "source": [
    "# Treinando e obtendo as métricas de ambos os modelos\n",
    "metrics_dt_eng = evaluate_model(decision_tree, skf, X_train_eng, y_train, \"Decision_Tree_eng\")\n",
    "metrics_svm_eng = evaluate_model(svm_model, skf, X_train_eng, y_train, \"SVM_eng\")\n",
    "metrics_knn_eng = evaluate_model(kNN, skf, X_train_eng, y_train, \"KNN_eng\")\n",
    "metrics_xgb_eng = evaluate_model(xgb_model, skf, X_train_eng, y_train_le, \"XGB_eng\")\n",
    "metrics_lr_eng = evaluate_model(lr_model, skf, X_train_eng, y_train, \"Logistic_Regression_eng\")\n",
    "metrics_nb_eng = evaluate_model(nb_model, skf, X_train_eng, y_train, \"Naive_Bayes_eng\")\n",
    "metrics_rf_eng = evaluate_model(rf_model, skf, X_train_eng, y_train, \"Random_Forest_eng\")\n",
    "metrics_etc_eng = evaluate_model(etc_model, skf, X_train_eng, y_train, \"Extra_Tree_eng\")"
   ]
  },
  {
   "cell_type": "code",
   "execution_count": 49,
   "metadata": {
    "tags": []
   },
   "outputs": [
    {
     "data": {
      "text/html": [
       "<div>\n",
       "<style scoped>\n",
       "    .dataframe tbody tr th:only-of-type {\n",
       "        vertical-align: middle;\n",
       "    }\n",
       "\n",
       "    .dataframe tbody tr th {\n",
       "        vertical-align: top;\n",
       "    }\n",
       "\n",
       "    .dataframe thead th {\n",
       "        text-align: right;\n",
       "    }\n",
       "</style>\n",
       "<table border=\"1\" class=\"dataframe\">\n",
       "  <thead>\n",
       "    <tr style=\"text-align: right;\">\n",
       "      <th></th>\n",
       "      <th>Fit Time</th>\n",
       "      <th>Score Time</th>\n",
       "      <th>Test Accuracy</th>\n",
       "      <th>Test F1 Weighted</th>\n",
       "      <th>Test Precision Weighted</th>\n",
       "      <th>Test Recall Weighted</th>\n",
       "    </tr>\n",
       "  </thead>\n",
       "  <tbody>\n",
       "    <tr>\n",
       "      <th>K-Fold 1</th>\n",
       "      <td>3.488176</td>\n",
       "      <td>0.023978</td>\n",
       "      <td>0.711773</td>\n",
       "      <td>0.705493</td>\n",
       "      <td>0.701480</td>\n",
       "      <td>0.711773</td>\n",
       "    </tr>\n",
       "    <tr>\n",
       "      <th>K-Fold 2</th>\n",
       "      <td>2.359762</td>\n",
       "      <td>0.024000</td>\n",
       "      <td>0.712449</td>\n",
       "      <td>0.709250</td>\n",
       "      <td>0.707162</td>\n",
       "      <td>0.712449</td>\n",
       "    </tr>\n",
       "    <tr>\n",
       "      <th>K-Fold 3</th>\n",
       "      <td>3.329239</td>\n",
       "      <td>0.016004</td>\n",
       "      <td>0.694858</td>\n",
       "      <td>0.690629</td>\n",
       "      <td>0.687413</td>\n",
       "      <td>0.694858</td>\n",
       "    </tr>\n",
       "  </tbody>\n",
       "</table>\n",
       "</div>"
      ],
      "text/plain": [
       "          Fit Time  Score Time  Test Accuracy  Test F1 Weighted  \\\n",
       "K-Fold 1  3.488176    0.023978       0.711773          0.705493   \n",
       "K-Fold 2  2.359762    0.024000       0.712449          0.709250   \n",
       "K-Fold 3  3.329239    0.016004       0.694858          0.690629   \n",
       "\n",
       "          Test Precision Weighted  Test Recall Weighted  \n",
       "K-Fold 1                 0.701480              0.711773  \n",
       "K-Fold 2                 0.707162              0.712449  \n",
       "K-Fold 3                 0.687413              0.694858  "
      ]
     },
     "execution_count": 49,
     "metadata": {},
     "output_type": "execute_result"
    }
   ],
   "source": [
    "metrics_dt_eng"
   ]
  },
  {
   "cell_type": "code",
   "execution_count": 50,
   "metadata": {
    "tags": []
   },
   "outputs": [
    {
     "data": {
      "text/html": [
       "<div>\n",
       "<style scoped>\n",
       "    .dataframe tbody tr th:only-of-type {\n",
       "        vertical-align: middle;\n",
       "    }\n",
       "\n",
       "    .dataframe tbody tr th {\n",
       "        vertical-align: top;\n",
       "    }\n",
       "\n",
       "    .dataframe thead th {\n",
       "        text-align: right;\n",
       "    }\n",
       "</style>\n",
       "<table border=\"1\" class=\"dataframe\">\n",
       "  <thead>\n",
       "    <tr style=\"text-align: right;\">\n",
       "      <th></th>\n",
       "      <th>Fit Time</th>\n",
       "      <th>Score Time</th>\n",
       "      <th>Test Accuracy</th>\n",
       "      <th>Test F1 Weighted</th>\n",
       "      <th>Test Precision Weighted</th>\n",
       "      <th>Test Recall Weighted</th>\n",
       "    </tr>\n",
       "  </thead>\n",
       "  <tbody>\n",
       "    <tr>\n",
       "      <th>K-Fold 1</th>\n",
       "      <td>1.060325</td>\n",
       "      <td>0.407952</td>\n",
       "      <td>0.767253</td>\n",
       "      <td>0.746396</td>\n",
       "      <td>0.760637</td>\n",
       "      <td>0.767253</td>\n",
       "    </tr>\n",
       "    <tr>\n",
       "      <th>K-Fold 2</th>\n",
       "      <td>1.038465</td>\n",
       "      <td>0.414531</td>\n",
       "      <td>0.764547</td>\n",
       "      <td>0.740703</td>\n",
       "      <td>0.762694</td>\n",
       "      <td>0.764547</td>\n",
       "    </tr>\n",
       "    <tr>\n",
       "      <th>K-Fold 3</th>\n",
       "      <td>1.094825</td>\n",
       "      <td>0.406285</td>\n",
       "      <td>0.738836</td>\n",
       "      <td>0.709347</td>\n",
       "      <td>0.724834</td>\n",
       "      <td>0.738836</td>\n",
       "    </tr>\n",
       "  </tbody>\n",
       "</table>\n",
       "</div>"
      ],
      "text/plain": [
       "          Fit Time  Score Time  Test Accuracy  Test F1 Weighted  \\\n",
       "K-Fold 1  1.060325    0.407952       0.767253          0.746396   \n",
       "K-Fold 2  1.038465    0.414531       0.764547          0.740703   \n",
       "K-Fold 3  1.094825    0.406285       0.738836          0.709347   \n",
       "\n",
       "          Test Precision Weighted  Test Recall Weighted  \n",
       "K-Fold 1                 0.760637              0.767253  \n",
       "K-Fold 2                 0.762694              0.764547  \n",
       "K-Fold 3                 0.724834              0.738836  "
      ]
     },
     "execution_count": 50,
     "metadata": {},
     "output_type": "execute_result"
    }
   ],
   "source": [
    "metrics_svm_eng"
   ]
  },
  {
   "cell_type": "code",
   "execution_count": 51,
   "metadata": {
    "tags": []
   },
   "outputs": [
    {
     "data": {
      "text/html": [
       "<div>\n",
       "<style scoped>\n",
       "    .dataframe tbody tr th:only-of-type {\n",
       "        vertical-align: middle;\n",
       "    }\n",
       "\n",
       "    .dataframe tbody tr th {\n",
       "        vertical-align: top;\n",
       "    }\n",
       "\n",
       "    .dataframe thead th {\n",
       "        text-align: right;\n",
       "    }\n",
       "</style>\n",
       "<table border=\"1\" class=\"dataframe\">\n",
       "  <thead>\n",
       "    <tr style=\"text-align: right;\">\n",
       "      <th></th>\n",
       "      <th>Fit Time</th>\n",
       "      <th>Score Time</th>\n",
       "      <th>Test Accuracy</th>\n",
       "      <th>Test F1 Weighted</th>\n",
       "      <th>Test Precision Weighted</th>\n",
       "      <th>Test Recall Weighted</th>\n",
       "    </tr>\n",
       "  </thead>\n",
       "  <tbody>\n",
       "    <tr>\n",
       "      <th>K-Fold 1</th>\n",
       "      <td>0.008116</td>\n",
       "      <td>0.390908</td>\n",
       "      <td>0.709743</td>\n",
       "      <td>0.696435</td>\n",
       "      <td>0.694603</td>\n",
       "      <td>0.709743</td>\n",
       "    </tr>\n",
       "    <tr>\n",
       "      <th>K-Fold 2</th>\n",
       "      <td>0.009184</td>\n",
       "      <td>0.169600</td>\n",
       "      <td>0.713126</td>\n",
       "      <td>0.684486</td>\n",
       "      <td>0.696572</td>\n",
       "      <td>0.713126</td>\n",
       "    </tr>\n",
       "    <tr>\n",
       "      <th>K-Fold 3</th>\n",
       "      <td>0.007505</td>\n",
       "      <td>0.177736</td>\n",
       "      <td>0.700947</td>\n",
       "      <td>0.666445</td>\n",
       "      <td>0.684654</td>\n",
       "      <td>0.700947</td>\n",
       "    </tr>\n",
       "  </tbody>\n",
       "</table>\n",
       "</div>"
      ],
      "text/plain": [
       "          Fit Time  Score Time  Test Accuracy  Test F1 Weighted  \\\n",
       "K-Fold 1  0.008116    0.390908       0.709743          0.696435   \n",
       "K-Fold 2  0.009184    0.169600       0.713126          0.684486   \n",
       "K-Fold 3  0.007505    0.177736       0.700947          0.666445   \n",
       "\n",
       "          Test Precision Weighted  Test Recall Weighted  \n",
       "K-Fold 1                 0.694603              0.709743  \n",
       "K-Fold 2                 0.696572              0.713126  \n",
       "K-Fold 3                 0.684654              0.700947  "
      ]
     },
     "execution_count": 51,
     "metadata": {},
     "output_type": "execute_result"
    }
   ],
   "source": [
    "metrics_knn_eng"
   ]
  },
  {
   "cell_type": "code",
   "execution_count": 52,
   "metadata": {
    "tags": []
   },
   "outputs": [
    {
     "data": {
      "text/html": [
       "<div>\n",
       "<style scoped>\n",
       "    .dataframe tbody tr th:only-of-type {\n",
       "        vertical-align: middle;\n",
       "    }\n",
       "\n",
       "    .dataframe tbody tr th {\n",
       "        vertical-align: top;\n",
       "    }\n",
       "\n",
       "    .dataframe thead th {\n",
       "        text-align: right;\n",
       "    }\n",
       "</style>\n",
       "<table border=\"1\" class=\"dataframe\">\n",
       "  <thead>\n",
       "    <tr style=\"text-align: right;\">\n",
       "      <th></th>\n",
       "      <th>Fit Time</th>\n",
       "      <th>Score Time</th>\n",
       "      <th>Test Accuracy</th>\n",
       "      <th>Test F1 Weighted</th>\n",
       "      <th>Test Precision Weighted</th>\n",
       "      <th>Test Recall Weighted</th>\n",
       "    </tr>\n",
       "  </thead>\n",
       "  <tbody>\n",
       "    <tr>\n",
       "      <th>K-Fold 1</th>\n",
       "      <td>1.512913</td>\n",
       "      <td>0.016006</td>\n",
       "      <td>0.774019</td>\n",
       "      <td>0.760686</td>\n",
       "      <td>0.767921</td>\n",
       "      <td>0.774019</td>\n",
       "    </tr>\n",
       "    <tr>\n",
       "      <th>K-Fold 2</th>\n",
       "      <td>0.536114</td>\n",
       "      <td>0.016001</td>\n",
       "      <td>0.769959</td>\n",
       "      <td>0.752305</td>\n",
       "      <td>0.758227</td>\n",
       "      <td>0.769959</td>\n",
       "    </tr>\n",
       "    <tr>\n",
       "      <th>K-Fold 3</th>\n",
       "      <td>0.536098</td>\n",
       "      <td>0.012011</td>\n",
       "      <td>0.743572</td>\n",
       "      <td>0.725392</td>\n",
       "      <td>0.731289</td>\n",
       "      <td>0.743572</td>\n",
       "    </tr>\n",
       "  </tbody>\n",
       "</table>\n",
       "</div>"
      ],
      "text/plain": [
       "          Fit Time  Score Time  Test Accuracy  Test F1 Weighted  \\\n",
       "K-Fold 1  1.512913    0.016006       0.774019          0.760686   \n",
       "K-Fold 2  0.536114    0.016001       0.769959          0.752305   \n",
       "K-Fold 3  0.536098    0.012011       0.743572          0.725392   \n",
       "\n",
       "          Test Precision Weighted  Test Recall Weighted  \n",
       "K-Fold 1                 0.767921              0.774019  \n",
       "K-Fold 2                 0.758227              0.769959  \n",
       "K-Fold 3                 0.731289              0.743572  "
      ]
     },
     "execution_count": 52,
     "metadata": {},
     "output_type": "execute_result"
    }
   ],
   "source": [
    "metrics_xgb_eng"
   ]
  },
  {
   "cell_type": "code",
   "execution_count": 53,
   "metadata": {
    "tags": []
   },
   "outputs": [
    {
     "data": {
      "text/html": [
       "<div>\n",
       "<style scoped>\n",
       "    .dataframe tbody tr th:only-of-type {\n",
       "        vertical-align: middle;\n",
       "    }\n",
       "\n",
       "    .dataframe tbody tr th {\n",
       "        vertical-align: top;\n",
       "    }\n",
       "\n",
       "    .dataframe thead th {\n",
       "        text-align: right;\n",
       "    }\n",
       "</style>\n",
       "<table border=\"1\" class=\"dataframe\">\n",
       "  <thead>\n",
       "    <tr style=\"text-align: right;\">\n",
       "      <th></th>\n",
       "      <th>Fit Time</th>\n",
       "      <th>Score Time</th>\n",
       "      <th>Test Accuracy</th>\n",
       "      <th>Test F1 Weighted</th>\n",
       "      <th>Test Precision Weighted</th>\n",
       "      <th>Test Recall Weighted</th>\n",
       "    </tr>\n",
       "  </thead>\n",
       "  <tbody>\n",
       "    <tr>\n",
       "      <th>K-Fold 1</th>\n",
       "      <td>0.566131</td>\n",
       "      <td>0.016274</td>\n",
       "      <td>0.744249</td>\n",
       "      <td>0.707091</td>\n",
       "      <td>0.761332</td>\n",
       "      <td>0.744249</td>\n",
       "    </tr>\n",
       "    <tr>\n",
       "      <th>K-Fold 2</th>\n",
       "      <td>0.555012</td>\n",
       "      <td>0.024200</td>\n",
       "      <td>0.748309</td>\n",
       "      <td>0.709231</td>\n",
       "      <td>0.757647</td>\n",
       "      <td>0.748309</td>\n",
       "    </tr>\n",
       "    <tr>\n",
       "      <th>K-Fold 3</th>\n",
       "      <td>0.454655</td>\n",
       "      <td>0.032381</td>\n",
       "      <td>0.728011</td>\n",
       "      <td>0.681038</td>\n",
       "      <td>0.712710</td>\n",
       "      <td>0.728011</td>\n",
       "    </tr>\n",
       "  </tbody>\n",
       "</table>\n",
       "</div>"
      ],
      "text/plain": [
       "          Fit Time  Score Time  Test Accuracy  Test F1 Weighted  \\\n",
       "K-Fold 1  0.566131    0.016274       0.744249          0.707091   \n",
       "K-Fold 2  0.555012    0.024200       0.748309          0.709231   \n",
       "K-Fold 3  0.454655    0.032381       0.728011          0.681038   \n",
       "\n",
       "          Test Precision Weighted  Test Recall Weighted  \n",
       "K-Fold 1                 0.761332              0.744249  \n",
       "K-Fold 2                 0.757647              0.748309  \n",
       "K-Fold 3                 0.712710              0.728011  "
      ]
     },
     "execution_count": 53,
     "metadata": {},
     "output_type": "execute_result"
    }
   ],
   "source": [
    "metrics_lr_eng"
   ]
  },
  {
   "cell_type": "code",
   "execution_count": 54,
   "metadata": {
    "tags": []
   },
   "outputs": [
    {
     "data": {
      "text/html": [
       "<div>\n",
       "<style scoped>\n",
       "    .dataframe tbody tr th:only-of-type {\n",
       "        vertical-align: middle;\n",
       "    }\n",
       "\n",
       "    .dataframe tbody tr th {\n",
       "        vertical-align: top;\n",
       "    }\n",
       "\n",
       "    .dataframe thead th {\n",
       "        text-align: right;\n",
       "    }\n",
       "</style>\n",
       "<table border=\"1\" class=\"dataframe\">\n",
       "  <thead>\n",
       "    <tr style=\"text-align: right;\">\n",
       "      <th></th>\n",
       "      <th>Fit Time</th>\n",
       "      <th>Score Time</th>\n",
       "      <th>Test Accuracy</th>\n",
       "      <th>Test F1 Weighted</th>\n",
       "      <th>Test Precision Weighted</th>\n",
       "      <th>Test Recall Weighted</th>\n",
       "    </tr>\n",
       "  </thead>\n",
       "  <tbody>\n",
       "    <tr>\n",
       "      <th>K-Fold 1</th>\n",
       "      <td>0.008125</td>\n",
       "      <td>0.041133</td>\n",
       "      <td>0.705007</td>\n",
       "      <td>0.640424</td>\n",
       "      <td>0.650364</td>\n",
       "      <td>0.705007</td>\n",
       "    </tr>\n",
       "    <tr>\n",
       "      <th>K-Fold 2</th>\n",
       "      <td>0.010207</td>\n",
       "      <td>0.022128</td>\n",
       "      <td>0.709066</td>\n",
       "      <td>0.644451</td>\n",
       "      <td>0.666847</td>\n",
       "      <td>0.709066</td>\n",
       "    </tr>\n",
       "    <tr>\n",
       "      <th>K-Fold 3</th>\n",
       "      <td>0.007900</td>\n",
       "      <td>0.016855</td>\n",
       "      <td>0.698241</td>\n",
       "      <td>0.628531</td>\n",
       "      <td>0.652656</td>\n",
       "      <td>0.698241</td>\n",
       "    </tr>\n",
       "  </tbody>\n",
       "</table>\n",
       "</div>"
      ],
      "text/plain": [
       "          Fit Time  Score Time  Test Accuracy  Test F1 Weighted  \\\n",
       "K-Fold 1  0.008125    0.041133       0.705007          0.640424   \n",
       "K-Fold 2  0.010207    0.022128       0.709066          0.644451   \n",
       "K-Fold 3  0.007900    0.016855       0.698241          0.628531   \n",
       "\n",
       "          Test Precision Weighted  Test Recall Weighted  \n",
       "K-Fold 1                 0.650364              0.705007  \n",
       "K-Fold 2                 0.666847              0.709066  \n",
       "K-Fold 3                 0.652656              0.698241  "
      ]
     },
     "execution_count": 54,
     "metadata": {},
     "output_type": "execute_result"
    }
   ],
   "source": [
    "metrics_nb_eng"
   ]
  },
  {
   "cell_type": "code",
   "execution_count": 55,
   "metadata": {
    "tags": []
   },
   "outputs": [
    {
     "data": {
      "text/html": [
       "<div>\n",
       "<style scoped>\n",
       "    .dataframe tbody tr th:only-of-type {\n",
       "        vertical-align: middle;\n",
       "    }\n",
       "\n",
       "    .dataframe tbody tr th {\n",
       "        vertical-align: top;\n",
       "    }\n",
       "\n",
       "    .dataframe thead th {\n",
       "        text-align: right;\n",
       "    }\n",
       "</style>\n",
       "<table border=\"1\" class=\"dataframe\">\n",
       "  <thead>\n",
       "    <tr style=\"text-align: right;\">\n",
       "      <th></th>\n",
       "      <th>Fit Time</th>\n",
       "      <th>Score Time</th>\n",
       "      <th>Test Accuracy</th>\n",
       "      <th>Test F1 Weighted</th>\n",
       "      <th>Test Precision Weighted</th>\n",
       "      <th>Test Recall Weighted</th>\n",
       "    </tr>\n",
       "  </thead>\n",
       "  <tbody>\n",
       "    <tr>\n",
       "      <th>K-Fold 1</th>\n",
       "      <td>14.334477</td>\n",
       "      <td>0.101358</td>\n",
       "      <td>0.751691</td>\n",
       "      <td>0.717633</td>\n",
       "      <td>0.742062</td>\n",
       "      <td>0.751691</td>\n",
       "    </tr>\n",
       "    <tr>\n",
       "      <th>K-Fold 2</th>\n",
       "      <td>14.997460</td>\n",
       "      <td>0.111963</td>\n",
       "      <td>0.759134</td>\n",
       "      <td>0.725059</td>\n",
       "      <td>0.752766</td>\n",
       "      <td>0.759134</td>\n",
       "    </tr>\n",
       "    <tr>\n",
       "      <th>K-Fold 3</th>\n",
       "      <td>14.095937</td>\n",
       "      <td>0.112497</td>\n",
       "      <td>0.744926</td>\n",
       "      <td>0.708512</td>\n",
       "      <td>0.762509</td>\n",
       "      <td>0.744926</td>\n",
       "    </tr>\n",
       "  </tbody>\n",
       "</table>\n",
       "</div>"
      ],
      "text/plain": [
       "           Fit Time  Score Time  Test Accuracy  Test F1 Weighted  \\\n",
       "K-Fold 1  14.334477    0.101358       0.751691          0.717633   \n",
       "K-Fold 2  14.997460    0.111963       0.759134          0.725059   \n",
       "K-Fold 3  14.095937    0.112497       0.744926          0.708512   \n",
       "\n",
       "          Test Precision Weighted  Test Recall Weighted  \n",
       "K-Fold 1                 0.742062              0.751691  \n",
       "K-Fold 2                 0.752766              0.759134  \n",
       "K-Fold 3                 0.762509              0.744926  "
      ]
     },
     "execution_count": 55,
     "metadata": {},
     "output_type": "execute_result"
    }
   ],
   "source": [
    "metrics_rf_eng"
   ]
  },
  {
   "cell_type": "code",
   "execution_count": 56,
   "metadata": {
    "tags": []
   },
   "outputs": [
    {
     "data": {
      "text/html": [
       "<div>\n",
       "<style scoped>\n",
       "    .dataframe tbody tr th:only-of-type {\n",
       "        vertical-align: middle;\n",
       "    }\n",
       "\n",
       "    .dataframe tbody tr th {\n",
       "        vertical-align: top;\n",
       "    }\n",
       "\n",
       "    .dataframe thead th {\n",
       "        text-align: right;\n",
       "    }\n",
       "</style>\n",
       "<table border=\"1\" class=\"dataframe\">\n",
       "  <thead>\n",
       "    <tr style=\"text-align: right;\">\n",
       "      <th></th>\n",
       "      <th>Fit Time</th>\n",
       "      <th>Score Time</th>\n",
       "      <th>Test Accuracy</th>\n",
       "      <th>Test F1 Weighted</th>\n",
       "      <th>Test Precision Weighted</th>\n",
       "      <th>Test Recall Weighted</th>\n",
       "    </tr>\n",
       "  </thead>\n",
       "  <tbody>\n",
       "    <tr>\n",
       "      <th>K-Fold 1</th>\n",
       "      <td>22.638088</td>\n",
       "      <td>0.139432</td>\n",
       "      <td>0.753721</td>\n",
       "      <td>0.729917</td>\n",
       "      <td>0.742737</td>\n",
       "      <td>0.753721</td>\n",
       "    </tr>\n",
       "    <tr>\n",
       "      <th>K-Fold 2</th>\n",
       "      <td>24.079350</td>\n",
       "      <td>0.135307</td>\n",
       "      <td>0.771989</td>\n",
       "      <td>0.744107</td>\n",
       "      <td>0.771369</td>\n",
       "      <td>0.771989</td>\n",
       "    </tr>\n",
       "    <tr>\n",
       "      <th>K-Fold 3</th>\n",
       "      <td>22.017257</td>\n",
       "      <td>0.136739</td>\n",
       "      <td>0.756428</td>\n",
       "      <td>0.727445</td>\n",
       "      <td>0.759177</td>\n",
       "      <td>0.756428</td>\n",
       "    </tr>\n",
       "  </tbody>\n",
       "</table>\n",
       "</div>"
      ],
      "text/plain": [
       "           Fit Time  Score Time  Test Accuracy  Test F1 Weighted  \\\n",
       "K-Fold 1  22.638088    0.139432       0.753721          0.729917   \n",
       "K-Fold 2  24.079350    0.135307       0.771989          0.744107   \n",
       "K-Fold 3  22.017257    0.136739       0.756428          0.727445   \n",
       "\n",
       "          Test Precision Weighted  Test Recall Weighted  \n",
       "K-Fold 1                 0.742737              0.753721  \n",
       "K-Fold 2                 0.771369              0.771989  \n",
       "K-Fold 3                 0.759177              0.756428  "
      ]
     },
     "execution_count": 56,
     "metadata": {},
     "output_type": "execute_result"
    }
   ],
   "source": [
    "metrics_etc_eng"
   ]
  },
  {
   "attachments": {},
   "cell_type": "markdown",
   "metadata": {},
   "source": [
    "- Validação cruzada dos textos em português"
   ]
  },
  {
   "cell_type": "code",
   "execution_count": 57,
   "metadata": {
    "collapsed": true,
    "jupyter": {
     "outputs_hidden": true
    },
    "tags": []
   },
   "outputs": [
    {
     "name": "stderr",
     "output_type": "stream",
     "text": [
      "c:\\Users\\ArkadeUser\\Documents\\projects\\nlp-sentimental-analysis\\venv\\Lib\\site-packages\\sklearn\\metrics\\_classification.py:1469: UndefinedMetricWarning: Precision is ill-defined and being set to 0.0 in labels with no predicted samples. Use `zero_division` parameter to control this behavior.\n",
      "  _warn_prf(average, modifier, msg_start, len(result))\n",
      "c:\\Users\\ArkadeUser\\Documents\\projects\\nlp-sentimental-analysis\\venv\\Lib\\site-packages\\sklearn\\metrics\\_classification.py:1469: UndefinedMetricWarning: Precision is ill-defined and being set to 0.0 in labels with no predicted samples. Use `zero_division` parameter to control this behavior.\n",
      "  _warn_prf(average, modifier, msg_start, len(result))\n",
      "c:\\Users\\ArkadeUser\\Documents\\projects\\nlp-sentimental-analysis\\venv\\Lib\\site-packages\\sklearn\\metrics\\_classification.py:1469: UndefinedMetricWarning: Precision is ill-defined and being set to 0.0 in labels with no predicted samples. Use `zero_division` parameter to control this behavior.\n",
      "  _warn_prf(average, modifier, msg_start, len(result))\n"
     ]
    }
   ],
   "source": [
    "# Treinando e obtendo as métricas de ambos os modelos\n",
    "metrics_dt_pt = evaluate_model(decision_tree, skf, X_train_pt, y_train, \"Decision_Tree_pt\")\n",
    "metrics_svm_pt = evaluate_model(svm_model, skf, X_train_pt, y_train, \"SVM_pt\")\n",
    "metrics_knn_pt = evaluate_model(kNN, skf, X_train_pt, y_train, \"KNN_pt\")\n",
    "metrics_xgb_pt = evaluate_model(xgb_model, skf, X_train_pt, y_train_le, \"XGB_pt\")\n",
    "metrics_lr_pt = evaluate_model(lr_model, skf, X_train_pt, y_train, \"Logistic_Regression_pt\")\n",
    "metrics_nb_pt = evaluate_model(nb_model, skf, X_train_pt, y_train, \"Naive_Bayes_pt\")\n",
    "metrics_rf_pt = evaluate_model(rf_model, skf, X_train_pt, y_train, \"Random_Forest_pt\")\n",
    "metrics_etc_pt = evaluate_model(etc_model, skf, X_train_pt, y_train, \"Extra_Tree_pt\")"
   ]
  },
  {
   "cell_type": "code",
   "execution_count": 58,
   "metadata": {
    "tags": []
   },
   "outputs": [
    {
     "data": {
      "text/html": [
       "<div>\n",
       "<style scoped>\n",
       "    .dataframe tbody tr th:only-of-type {\n",
       "        vertical-align: middle;\n",
       "    }\n",
       "\n",
       "    .dataframe tbody tr th {\n",
       "        vertical-align: top;\n",
       "    }\n",
       "\n",
       "    .dataframe thead th {\n",
       "        text-align: right;\n",
       "    }\n",
       "</style>\n",
       "<table border=\"1\" class=\"dataframe\">\n",
       "  <thead>\n",
       "    <tr style=\"text-align: right;\">\n",
       "      <th></th>\n",
       "      <th>Fit Time</th>\n",
       "      <th>Score Time</th>\n",
       "      <th>Test Accuracy</th>\n",
       "      <th>Test F1 Weighted</th>\n",
       "      <th>Test Precision Weighted</th>\n",
       "      <th>Test Recall Weighted</th>\n",
       "    </tr>\n",
       "  </thead>\n",
       "  <tbody>\n",
       "    <tr>\n",
       "      <th>K-Fold 1</th>\n",
       "      <td>2.741453</td>\n",
       "      <td>0.023946</td>\n",
       "      <td>0.717862</td>\n",
       "      <td>0.710998</td>\n",
       "      <td>0.708712</td>\n",
       "      <td>0.717862</td>\n",
       "    </tr>\n",
       "    <tr>\n",
       "      <th>K-Fold 2</th>\n",
       "      <td>2.747814</td>\n",
       "      <td>0.023999</td>\n",
       "      <td>0.707037</td>\n",
       "      <td>0.702475</td>\n",
       "      <td>0.700746</td>\n",
       "      <td>0.707037</td>\n",
       "    </tr>\n",
       "    <tr>\n",
       "      <th>K-Fold 3</th>\n",
       "      <td>2.704338</td>\n",
       "      <td>0.023991</td>\n",
       "      <td>0.694181</td>\n",
       "      <td>0.687813</td>\n",
       "      <td>0.684329</td>\n",
       "      <td>0.694181</td>\n",
       "    </tr>\n",
       "  </tbody>\n",
       "</table>\n",
       "</div>"
      ],
      "text/plain": [
       "          Fit Time  Score Time  Test Accuracy  Test F1 Weighted  \\\n",
       "K-Fold 1  2.741453    0.023946       0.717862          0.710998   \n",
       "K-Fold 2  2.747814    0.023999       0.707037          0.702475   \n",
       "K-Fold 3  2.704338    0.023991       0.694181          0.687813   \n",
       "\n",
       "          Test Precision Weighted  Test Recall Weighted  \n",
       "K-Fold 1                 0.708712              0.717862  \n",
       "K-Fold 2                 0.700746              0.707037  \n",
       "K-Fold 3                 0.684329              0.694181  "
      ]
     },
     "execution_count": 58,
     "metadata": {},
     "output_type": "execute_result"
    }
   ],
   "source": [
    "metrics_dt_pt"
   ]
  },
  {
   "cell_type": "code",
   "execution_count": 59,
   "metadata": {
    "tags": []
   },
   "outputs": [
    {
     "data": {
      "text/html": [
       "<div>\n",
       "<style scoped>\n",
       "    .dataframe tbody tr th:only-of-type {\n",
       "        vertical-align: middle;\n",
       "    }\n",
       "\n",
       "    .dataframe tbody tr th {\n",
       "        vertical-align: top;\n",
       "    }\n",
       "\n",
       "    .dataframe thead th {\n",
       "        text-align: right;\n",
       "    }\n",
       "</style>\n",
       "<table border=\"1\" class=\"dataframe\">\n",
       "  <thead>\n",
       "    <tr style=\"text-align: right;\">\n",
       "      <th></th>\n",
       "      <th>Fit Time</th>\n",
       "      <th>Score Time</th>\n",
       "      <th>Test Accuracy</th>\n",
       "      <th>Test F1 Weighted</th>\n",
       "      <th>Test Precision Weighted</th>\n",
       "      <th>Test Recall Weighted</th>\n",
       "    </tr>\n",
       "  </thead>\n",
       "  <tbody>\n",
       "    <tr>\n",
       "      <th>K-Fold 1</th>\n",
       "      <td>1.170115</td>\n",
       "      <td>0.432072</td>\n",
       "      <td>0.759134</td>\n",
       "      <td>0.737845</td>\n",
       "      <td>0.754960</td>\n",
       "      <td>0.759134</td>\n",
       "    </tr>\n",
       "    <tr>\n",
       "      <th>K-Fold 2</th>\n",
       "      <td>1.120782</td>\n",
       "      <td>0.429992</td>\n",
       "      <td>0.776049</td>\n",
       "      <td>0.752999</td>\n",
       "      <td>0.778676</td>\n",
       "      <td>0.776049</td>\n",
       "    </tr>\n",
       "    <tr>\n",
       "      <th>K-Fold 3</th>\n",
       "      <td>1.159268</td>\n",
       "      <td>0.446781</td>\n",
       "      <td>0.758457</td>\n",
       "      <td>0.732961</td>\n",
       "      <td>0.759833</td>\n",
       "      <td>0.758457</td>\n",
       "    </tr>\n",
       "  </tbody>\n",
       "</table>\n",
       "</div>"
      ],
      "text/plain": [
       "          Fit Time  Score Time  Test Accuracy  Test F1 Weighted  \\\n",
       "K-Fold 1  1.170115    0.432072       0.759134          0.737845   \n",
       "K-Fold 2  1.120782    0.429992       0.776049          0.752999   \n",
       "K-Fold 3  1.159268    0.446781       0.758457          0.732961   \n",
       "\n",
       "          Test Precision Weighted  Test Recall Weighted  \n",
       "K-Fold 1                 0.754960              0.759134  \n",
       "K-Fold 2                 0.778676              0.776049  \n",
       "K-Fold 3                 0.759833              0.758457  "
      ]
     },
     "execution_count": 59,
     "metadata": {},
     "output_type": "execute_result"
    }
   ],
   "source": [
    "metrics_svm_pt"
   ]
  },
  {
   "cell_type": "code",
   "execution_count": 60,
   "metadata": {
    "tags": []
   },
   "outputs": [
    {
     "data": {
      "text/html": [
       "<div>\n",
       "<style scoped>\n",
       "    .dataframe tbody tr th:only-of-type {\n",
       "        vertical-align: middle;\n",
       "    }\n",
       "\n",
       "    .dataframe tbody tr th {\n",
       "        vertical-align: top;\n",
       "    }\n",
       "\n",
       "    .dataframe thead th {\n",
       "        text-align: right;\n",
       "    }\n",
       "</style>\n",
       "<table border=\"1\" class=\"dataframe\">\n",
       "  <thead>\n",
       "    <tr style=\"text-align: right;\">\n",
       "      <th></th>\n",
       "      <th>Fit Time</th>\n",
       "      <th>Score Time</th>\n",
       "      <th>Test Accuracy</th>\n",
       "      <th>Test F1 Weighted</th>\n",
       "      <th>Test Precision Weighted</th>\n",
       "      <th>Test Recall Weighted</th>\n",
       "    </tr>\n",
       "  </thead>\n",
       "  <tbody>\n",
       "    <tr>\n",
       "      <th>K-Fold 1</th>\n",
       "      <td>0.00185</td>\n",
       "      <td>0.217833</td>\n",
       "      <td>0.704330</td>\n",
       "      <td>0.689035</td>\n",
       "      <td>0.687526</td>\n",
       "      <td>0.704330</td>\n",
       "    </tr>\n",
       "    <tr>\n",
       "      <th>K-Fold 2</th>\n",
       "      <td>0.00000</td>\n",
       "      <td>0.208186</td>\n",
       "      <td>0.698917</td>\n",
       "      <td>0.662461</td>\n",
       "      <td>0.689454</td>\n",
       "      <td>0.698917</td>\n",
       "    </tr>\n",
       "    <tr>\n",
       "      <th>K-Fold 3</th>\n",
       "      <td>0.00000</td>\n",
       "      <td>0.173575</td>\n",
       "      <td>0.710419</td>\n",
       "      <td>0.676140</td>\n",
       "      <td>0.702064</td>\n",
       "      <td>0.710419</td>\n",
       "    </tr>\n",
       "  </tbody>\n",
       "</table>\n",
       "</div>"
      ],
      "text/plain": [
       "          Fit Time  Score Time  Test Accuracy  Test F1 Weighted  \\\n",
       "K-Fold 1   0.00185    0.217833       0.704330          0.689035   \n",
       "K-Fold 2   0.00000    0.208186       0.698917          0.662461   \n",
       "K-Fold 3   0.00000    0.173575       0.710419          0.676140   \n",
       "\n",
       "          Test Precision Weighted  Test Recall Weighted  \n",
       "K-Fold 1                 0.687526              0.704330  \n",
       "K-Fold 2                 0.689454              0.698917  \n",
       "K-Fold 3                 0.702064              0.710419  "
      ]
     },
     "execution_count": 60,
     "metadata": {},
     "output_type": "execute_result"
    }
   ],
   "source": [
    "metrics_knn_pt"
   ]
  },
  {
   "cell_type": "code",
   "execution_count": 61,
   "metadata": {
    "tags": []
   },
   "outputs": [
    {
     "data": {
      "text/html": [
       "<div>\n",
       "<style scoped>\n",
       "    .dataframe tbody tr th:only-of-type {\n",
       "        vertical-align: middle;\n",
       "    }\n",
       "\n",
       "    .dataframe tbody tr th {\n",
       "        vertical-align: top;\n",
       "    }\n",
       "\n",
       "    .dataframe thead th {\n",
       "        text-align: right;\n",
       "    }\n",
       "</style>\n",
       "<table border=\"1\" class=\"dataframe\">\n",
       "  <thead>\n",
       "    <tr style=\"text-align: right;\">\n",
       "      <th></th>\n",
       "      <th>Fit Time</th>\n",
       "      <th>Score Time</th>\n",
       "      <th>Test Accuracy</th>\n",
       "      <th>Test F1 Weighted</th>\n",
       "      <th>Test Precision Weighted</th>\n",
       "      <th>Test Recall Weighted</th>\n",
       "    </tr>\n",
       "  </thead>\n",
       "  <tbody>\n",
       "    <tr>\n",
       "      <th>K-Fold 1</th>\n",
       "      <td>0.628312</td>\n",
       "      <td>0.014509</td>\n",
       "      <td>0.775372</td>\n",
       "      <td>0.758948</td>\n",
       "      <td>0.770118</td>\n",
       "      <td>0.775372</td>\n",
       "    </tr>\n",
       "    <tr>\n",
       "      <th>K-Fold 2</th>\n",
       "      <td>0.524805</td>\n",
       "      <td>0.012135</td>\n",
       "      <td>0.782815</td>\n",
       "      <td>0.765339</td>\n",
       "      <td>0.777253</td>\n",
       "      <td>0.782815</td>\n",
       "    </tr>\n",
       "    <tr>\n",
       "      <th>K-Fold 3</th>\n",
       "      <td>0.520527</td>\n",
       "      <td>0.008202</td>\n",
       "      <td>0.761840</td>\n",
       "      <td>0.744195</td>\n",
       "      <td>0.756732</td>\n",
       "      <td>0.761840</td>\n",
       "    </tr>\n",
       "  </tbody>\n",
       "</table>\n",
       "</div>"
      ],
      "text/plain": [
       "          Fit Time  Score Time  Test Accuracy  Test F1 Weighted  \\\n",
       "K-Fold 1  0.628312    0.014509       0.775372          0.758948   \n",
       "K-Fold 2  0.524805    0.012135       0.782815          0.765339   \n",
       "K-Fold 3  0.520527    0.008202       0.761840          0.744195   \n",
       "\n",
       "          Test Precision Weighted  Test Recall Weighted  \n",
       "K-Fold 1                 0.770118              0.775372  \n",
       "K-Fold 2                 0.777253              0.782815  \n",
       "K-Fold 3                 0.756732              0.761840  "
      ]
     },
     "execution_count": 61,
     "metadata": {},
     "output_type": "execute_result"
    }
   ],
   "source": [
    "metrics_xgb_pt"
   ]
  },
  {
   "cell_type": "code",
   "execution_count": 62,
   "metadata": {
    "tags": []
   },
   "outputs": [
    {
     "data": {
      "text/html": [
       "<div>\n",
       "<style scoped>\n",
       "    .dataframe tbody tr th:only-of-type {\n",
       "        vertical-align: middle;\n",
       "    }\n",
       "\n",
       "    .dataframe tbody tr th {\n",
       "        vertical-align: top;\n",
       "    }\n",
       "\n",
       "    .dataframe thead th {\n",
       "        text-align: right;\n",
       "    }\n",
       "</style>\n",
       "<table border=\"1\" class=\"dataframe\">\n",
       "  <thead>\n",
       "    <tr style=\"text-align: right;\">\n",
       "      <th></th>\n",
       "      <th>Fit Time</th>\n",
       "      <th>Score Time</th>\n",
       "      <th>Test Accuracy</th>\n",
       "      <th>Test F1 Weighted</th>\n",
       "      <th>Test Precision Weighted</th>\n",
       "      <th>Test Recall Weighted</th>\n",
       "    </tr>\n",
       "  </thead>\n",
       "  <tbody>\n",
       "    <tr>\n",
       "      <th>K-Fold 1</th>\n",
       "      <td>0.636490</td>\n",
       "      <td>0.033363</td>\n",
       "      <td>0.744249</td>\n",
       "      <td>0.707107</td>\n",
       "      <td>0.751174</td>\n",
       "      <td>0.744249</td>\n",
       "    </tr>\n",
       "    <tr>\n",
       "      <th>K-Fold 2</th>\n",
       "      <td>0.629121</td>\n",
       "      <td>0.022336</td>\n",
       "      <td>0.751015</td>\n",
       "      <td>0.712389</td>\n",
       "      <td>0.762551</td>\n",
       "      <td>0.751015</td>\n",
       "    </tr>\n",
       "    <tr>\n",
       "      <th>K-Fold 3</th>\n",
       "      <td>0.387756</td>\n",
       "      <td>0.026387</td>\n",
       "      <td>0.730041</td>\n",
       "      <td>0.685964</td>\n",
       "      <td>0.720708</td>\n",
       "      <td>0.730041</td>\n",
       "    </tr>\n",
       "  </tbody>\n",
       "</table>\n",
       "</div>"
      ],
      "text/plain": [
       "          Fit Time  Score Time  Test Accuracy  Test F1 Weighted  \\\n",
       "K-Fold 1  0.636490    0.033363       0.744249          0.707107   \n",
       "K-Fold 2  0.629121    0.022336       0.751015          0.712389   \n",
       "K-Fold 3  0.387756    0.026387       0.730041          0.685964   \n",
       "\n",
       "          Test Precision Weighted  Test Recall Weighted  \n",
       "K-Fold 1                 0.751174              0.744249  \n",
       "K-Fold 2                 0.762551              0.751015  \n",
       "K-Fold 3                 0.720708              0.730041  "
      ]
     },
     "execution_count": 62,
     "metadata": {},
     "output_type": "execute_result"
    }
   ],
   "source": [
    "metrics_lr_pt"
   ]
  },
  {
   "cell_type": "code",
   "execution_count": 63,
   "metadata": {
    "tags": []
   },
   "outputs": [
    {
     "data": {
      "text/html": [
       "<div>\n",
       "<style scoped>\n",
       "    .dataframe tbody tr th:only-of-type {\n",
       "        vertical-align: middle;\n",
       "    }\n",
       "\n",
       "    .dataframe tbody tr th {\n",
       "        vertical-align: top;\n",
       "    }\n",
       "\n",
       "    .dataframe thead th {\n",
       "        text-align: right;\n",
       "    }\n",
       "</style>\n",
       "<table border=\"1\" class=\"dataframe\">\n",
       "  <thead>\n",
       "    <tr style=\"text-align: right;\">\n",
       "      <th></th>\n",
       "      <th>Fit Time</th>\n",
       "      <th>Score Time</th>\n",
       "      <th>Test Accuracy</th>\n",
       "      <th>Test F1 Weighted</th>\n",
       "      <th>Test Precision Weighted</th>\n",
       "      <th>Test Recall Weighted</th>\n",
       "    </tr>\n",
       "  </thead>\n",
       "  <tbody>\n",
       "    <tr>\n",
       "      <th>K-Fold 1</th>\n",
       "      <td>0.005936</td>\n",
       "      <td>0.018258</td>\n",
       "      <td>0.711096</td>\n",
       "      <td>0.649580</td>\n",
       "      <td>0.655627</td>\n",
       "      <td>0.711096</td>\n",
       "    </tr>\n",
       "    <tr>\n",
       "      <th>K-Fold 2</th>\n",
       "      <td>0.000000</td>\n",
       "      <td>0.024240</td>\n",
       "      <td>0.707037</td>\n",
       "      <td>0.641584</td>\n",
       "      <td>0.660926</td>\n",
       "      <td>0.707037</td>\n",
       "    </tr>\n",
       "    <tr>\n",
       "      <th>K-Fold 3</th>\n",
       "      <td>0.006077</td>\n",
       "      <td>0.018232</td>\n",
       "      <td>0.699594</td>\n",
       "      <td>0.632040</td>\n",
       "      <td>0.650511</td>\n",
       "      <td>0.699594</td>\n",
       "    </tr>\n",
       "  </tbody>\n",
       "</table>\n",
       "</div>"
      ],
      "text/plain": [
       "          Fit Time  Score Time  Test Accuracy  Test F1 Weighted  \\\n",
       "K-Fold 1  0.005936    0.018258       0.711096          0.649580   \n",
       "K-Fold 2  0.000000    0.024240       0.707037          0.641584   \n",
       "K-Fold 3  0.006077    0.018232       0.699594          0.632040   \n",
       "\n",
       "          Test Precision Weighted  Test Recall Weighted  \n",
       "K-Fold 1                 0.655627              0.711096  \n",
       "K-Fold 2                 0.660926              0.707037  \n",
       "K-Fold 3                 0.650511              0.699594  "
      ]
     },
     "execution_count": 63,
     "metadata": {},
     "output_type": "execute_result"
    }
   ],
   "source": [
    "metrics_nb_pt"
   ]
  },
  {
   "cell_type": "code",
   "execution_count": 64,
   "metadata": {
    "tags": []
   },
   "outputs": [
    {
     "data": {
      "text/html": [
       "<div>\n",
       "<style scoped>\n",
       "    .dataframe tbody tr th:only-of-type {\n",
       "        vertical-align: middle;\n",
       "    }\n",
       "\n",
       "    .dataframe tbody tr th {\n",
       "        vertical-align: top;\n",
       "    }\n",
       "\n",
       "    .dataframe thead th {\n",
       "        text-align: right;\n",
       "    }\n",
       "</style>\n",
       "<table border=\"1\" class=\"dataframe\">\n",
       "  <thead>\n",
       "    <tr style=\"text-align: right;\">\n",
       "      <th></th>\n",
       "      <th>Fit Time</th>\n",
       "      <th>Score Time</th>\n",
       "      <th>Test Accuracy</th>\n",
       "      <th>Test F1 Weighted</th>\n",
       "      <th>Test Precision Weighted</th>\n",
       "      <th>Test Recall Weighted</th>\n",
       "    </tr>\n",
       "  </thead>\n",
       "  <tbody>\n",
       "    <tr>\n",
       "      <th>K-Fold 1</th>\n",
       "      <td>15.375650</td>\n",
       "      <td>0.112865</td>\n",
       "      <td>0.766576</td>\n",
       "      <td>0.737103</td>\n",
       "      <td>0.772877</td>\n",
       "      <td>0.766576</td>\n",
       "    </tr>\n",
       "    <tr>\n",
       "      <th>K-Fold 2</th>\n",
       "      <td>15.892756</td>\n",
       "      <td>0.117261</td>\n",
       "      <td>0.756428</td>\n",
       "      <td>0.723703</td>\n",
       "      <td>0.760941</td>\n",
       "      <td>0.756428</td>\n",
       "    </tr>\n",
       "    <tr>\n",
       "      <th>K-Fold 3</th>\n",
       "      <td>14.951352</td>\n",
       "      <td>0.106857</td>\n",
       "      <td>0.744926</td>\n",
       "      <td>0.709726</td>\n",
       "      <td>0.746655</td>\n",
       "      <td>0.744926</td>\n",
       "    </tr>\n",
       "  </tbody>\n",
       "</table>\n",
       "</div>"
      ],
      "text/plain": [
       "           Fit Time  Score Time  Test Accuracy  Test F1 Weighted  \\\n",
       "K-Fold 1  15.375650    0.112865       0.766576          0.737103   \n",
       "K-Fold 2  15.892756    0.117261       0.756428          0.723703   \n",
       "K-Fold 3  14.951352    0.106857       0.744926          0.709726   \n",
       "\n",
       "          Test Precision Weighted  Test Recall Weighted  \n",
       "K-Fold 1                 0.772877              0.766576  \n",
       "K-Fold 2                 0.760941              0.756428  \n",
       "K-Fold 3                 0.746655              0.744926  "
      ]
     },
     "execution_count": 64,
     "metadata": {},
     "output_type": "execute_result"
    }
   ],
   "source": [
    "metrics_rf_pt"
   ]
  },
  {
   "cell_type": "code",
   "execution_count": 65,
   "metadata": {
    "tags": []
   },
   "outputs": [
    {
     "data": {
      "text/html": [
       "<div>\n",
       "<style scoped>\n",
       "    .dataframe tbody tr th:only-of-type {\n",
       "        vertical-align: middle;\n",
       "    }\n",
       "\n",
       "    .dataframe tbody tr th {\n",
       "        vertical-align: top;\n",
       "    }\n",
       "\n",
       "    .dataframe thead th {\n",
       "        text-align: right;\n",
       "    }\n",
       "</style>\n",
       "<table border=\"1\" class=\"dataframe\">\n",
       "  <thead>\n",
       "    <tr style=\"text-align: right;\">\n",
       "      <th></th>\n",
       "      <th>Fit Time</th>\n",
       "      <th>Score Time</th>\n",
       "      <th>Test Accuracy</th>\n",
       "      <th>Test F1 Weighted</th>\n",
       "      <th>Test Precision Weighted</th>\n",
       "      <th>Test Recall Weighted</th>\n",
       "    </tr>\n",
       "  </thead>\n",
       "  <tbody>\n",
       "    <tr>\n",
       "      <th>K-Fold 1</th>\n",
       "      <td>24.560087</td>\n",
       "      <td>0.147513</td>\n",
       "      <td>0.772666</td>\n",
       "      <td>0.749005</td>\n",
       "      <td>0.773806</td>\n",
       "      <td>0.772666</td>\n",
       "    </tr>\n",
       "    <tr>\n",
       "      <th>K-Fold 2</th>\n",
       "      <td>25.402170</td>\n",
       "      <td>0.133341</td>\n",
       "      <td>0.764547</td>\n",
       "      <td>0.735546</td>\n",
       "      <td>0.768942</td>\n",
       "      <td>0.764547</td>\n",
       "    </tr>\n",
       "    <tr>\n",
       "      <th>K-Fold 3</th>\n",
       "      <td>23.492034</td>\n",
       "      <td>0.143450</td>\n",
       "      <td>0.759811</td>\n",
       "      <td>0.733109</td>\n",
       "      <td>0.770580</td>\n",
       "      <td>0.759811</td>\n",
       "    </tr>\n",
       "  </tbody>\n",
       "</table>\n",
       "</div>"
      ],
      "text/plain": [
       "           Fit Time  Score Time  Test Accuracy  Test F1 Weighted  \\\n",
       "K-Fold 1  24.560087    0.147513       0.772666          0.749005   \n",
       "K-Fold 2  25.402170    0.133341       0.764547          0.735546   \n",
       "K-Fold 3  23.492034    0.143450       0.759811          0.733109   \n",
       "\n",
       "          Test Precision Weighted  Test Recall Weighted  \n",
       "K-Fold 1                 0.773806              0.772666  \n",
       "K-Fold 2                 0.768942              0.764547  \n",
       "K-Fold 3                 0.770580              0.759811  "
      ]
     },
     "execution_count": 65,
     "metadata": {},
     "output_type": "execute_result"
    }
   ],
   "source": [
    "metrics_etc_pt"
   ]
  },
  {
   "attachments": {},
   "cell_type": "markdown",
   "metadata": {},
   "source": [
    "## 3. Realizando testes nos modelos treinados com validação cruzada"
   ]
  },
  {
   "cell_type": "code",
   "execution_count": 66,
   "metadata": {
    "tags": []
   },
   "outputs": [],
   "source": [
    "from sklearn.metrics import accuracy_score, precision_score, f1_score, recall_score\n",
    "import os"
   ]
  },
  {
   "cell_type": "code",
   "execution_count": 67,
   "metadata": {
    "tags": []
   },
   "outputs": [],
   "source": [
    "def testing_metrics(y_true, y_pred, language, filename, training_type=\"\"):\n",
    "    name_df = \"\"\n",
    "    df = None\n",
    "    columns = [\"Models\", \"Accuracy\", \"Precision Weighted\", \n",
    "               \"F1-Score Weigthed\", \"Recall Weighted\"]\n",
    "    \n",
    "    if \"eng\" == language:\n",
    "        name_df = \"{}testing_metrics_eng.csv\".format(training_type)\n",
    "    else:\n",
    "        name_df = \"{}testing_metrics_pt.csv\".format(training_type)\n",
    "    \n",
    "    if name_df not in os.listdir(PATH_METRICS):\n",
    "        df = pd.DataFrame(columns=columns)\n",
    "    else:\n",
    "        df = pd.read_csv(PATH_METRICS + name_df)\n",
    "    \n",
    "    acc = accuracy_score(y_true, y_pred)\n",
    "    precision = precision_score(y_true, y_pred, average=\"weighted\")\n",
    "    f1 = f1_score(y_true, y_pred, average=\"weighted\")\n",
    "    recall = recall_score(y_true, y_pred, average=\"weighted\")\n",
    "    \n",
    "    data = [filename, acc, precision, f1, recall]\n",
    "    len_df = len(df)\n",
    "    \n",
    "    for column, d in zip(columns, data):\n",
    "        df.at[len_df, column] = d\n",
    "            \n",
    "    df.to_csv(PATH_METRICS + name_df, index=False)"
   ]
  },
  {
   "attachments": {},
   "cell_type": "markdown",
   "metadata": {},
   "source": [
    "- Mapeando arquivos dos modelos"
   ]
  },
  {
   "cell_type": "code",
   "execution_count": 68,
   "metadata": {
    "tags": []
   },
   "outputs": [],
   "source": [
    "files = [i for i in os.listdir(PATH_MODELS)]\n",
    "files_eng = [i for i in files if \"eng\" in i]\n",
    "files_pt = [i for i in files if i not in files_eng]"
   ]
  },
  {
   "cell_type": "code",
   "execution_count": 69,
   "metadata": {
    "tags": []
   },
   "outputs": [
    {
     "data": {
      "text/plain": [
       "['Decision_Tree_eng0.pkl',\n",
       " 'Decision_Tree_eng1.pkl',\n",
       " 'Decision_Tree_eng2.pkl',\n",
       " 'Extra_Tree_eng0.pkl',\n",
       " 'Extra_Tree_eng1.pkl',\n",
       " 'Extra_Tree_eng2.pkl',\n",
       " 'KNN_eng0.pkl',\n",
       " 'KNN_eng1.pkl',\n",
       " 'KNN_eng2.pkl',\n",
       " 'Logistic_Regression_eng0.pkl',\n",
       " 'Logistic_Regression_eng1.pkl',\n",
       " 'Logistic_Regression_eng2.pkl',\n",
       " 'Naive_Bayes_eng0.pkl',\n",
       " 'Naive_Bayes_eng1.pkl',\n",
       " 'Naive_Bayes_eng2.pkl',\n",
       " 'Random_Forest_eng0.pkl',\n",
       " 'Random_Forest_eng1.pkl',\n",
       " 'Random_Forest_eng2.pkl',\n",
       " 'SVM_eng0.pkl',\n",
       " 'SVM_eng1.pkl',\n",
       " 'SVM_eng2.pkl',\n",
       " 'XGB_eng0.pkl',\n",
       " 'XGB_eng1.pkl',\n",
       " 'XGB_eng2.pkl']"
      ]
     },
     "execution_count": 69,
     "metadata": {},
     "output_type": "execute_result"
    }
   ],
   "source": [
    "files_eng.sort()\n",
    "files_eng"
   ]
  },
  {
   "cell_type": "code",
   "execution_count": 70,
   "metadata": {
    "tags": []
   },
   "outputs": [
    {
     "data": {
      "text/plain": [
       "['Decision_Tree_pt0.pkl',\n",
       " 'Decision_Tree_pt1.pkl',\n",
       " 'Decision_Tree_pt2.pkl',\n",
       " 'Extra_Tree_pt0.pkl',\n",
       " 'Extra_Tree_pt1.pkl',\n",
       " 'Extra_Tree_pt2.pkl',\n",
       " 'KNN_pt0.pkl',\n",
       " 'KNN_pt1.pkl',\n",
       " 'KNN_pt2.pkl',\n",
       " 'Logistic_Regression_pt0.pkl',\n",
       " 'Logistic_Regression_pt1.pkl',\n",
       " 'Logistic_Regression_pt2.pkl',\n",
       " 'Naive_Bayes_pt0.pkl',\n",
       " 'Naive_Bayes_pt1.pkl',\n",
       " 'Naive_Bayes_pt2.pkl',\n",
       " 'Random_Forest_pt0.pkl',\n",
       " 'Random_Forest_pt1.pkl',\n",
       " 'Random_Forest_pt2.pkl',\n",
       " 'SVM_pt0.pkl',\n",
       " 'SVM_pt1.pkl',\n",
       " 'SVM_pt2.pkl',\n",
       " 'XGB_pt0.pkl',\n",
       " 'XGB_pt1.pkl',\n",
       " 'XGB_pt2.pkl']"
      ]
     },
     "execution_count": 70,
     "metadata": {},
     "output_type": "execute_result"
    }
   ],
   "source": [
    "files_pt.sort()\n",
    "files_pt"
   ]
  },
  {
   "attachments": {},
   "cell_type": "markdown",
   "metadata": {},
   "source": [
    "- Testando modelos com texto em inglês"
   ]
  },
  {
   "cell_type": "code",
   "execution_count": 71,
   "metadata": {
    "collapsed": true,
    "jupyter": {
     "outputs_hidden": true
    },
    "tags": []
   },
   "outputs": [
    {
     "name": "stderr",
     "output_type": "stream",
     "text": [
      "c:\\Users\\ArkadeUser\\Documents\\projects\\nlp-sentimental-analysis\\venv\\Lib\\site-packages\\sklearn\\metrics\\_classification.py:1469: UndefinedMetricWarning: Precision is ill-defined and being set to 0.0 in labels with no predicted samples. Use `zero_division` parameter to control this behavior.\n",
      "  _warn_prf(average, modifier, msg_start, len(result))\n",
      "c:\\Users\\ArkadeUser\\Documents\\projects\\nlp-sentimental-analysis\\venv\\Lib\\site-packages\\sklearn\\metrics\\_classification.py:1469: UndefinedMetricWarning: Precision is ill-defined and being set to 0.0 in labels with no predicted samples. Use `zero_division` parameter to control this behavior.\n",
      "  _warn_prf(average, modifier, msg_start, len(result))\n",
      "c:\\Users\\ArkadeUser\\Documents\\projects\\nlp-sentimental-analysis\\venv\\Lib\\site-packages\\sklearn\\metrics\\_classification.py:1469: UndefinedMetricWarning: Precision is ill-defined and being set to 0.0 in labels with no predicted samples. Use `zero_division` parameter to control this behavior.\n",
      "  _warn_prf(average, modifier, msg_start, len(result))\n"
     ]
    }
   ],
   "source": [
    "for file in files_eng:\n",
    "    model = joblib.load(PATH_MODELS + file)\n",
    "    y_pred = model.predict(X_test_eng)\n",
    "    \n",
    "    if \"XGB\" not in file:\n",
    "        testing_metrics(y_test, y_pred, \"eng\", file, \"CV\")\n",
    "    else:\n",
    "        testing_metrics(y_test_le, y_pred, \"eng\", file, \"CV\")"
   ]
  },
  {
   "cell_type": "code",
   "execution_count": 72,
   "metadata": {
    "tags": []
   },
   "outputs": [
    {
     "data": {
      "text/html": [
       "<div>\n",
       "<style scoped>\n",
       "    .dataframe tbody tr th:only-of-type {\n",
       "        vertical-align: middle;\n",
       "    }\n",
       "\n",
       "    .dataframe tbody tr th {\n",
       "        vertical-align: top;\n",
       "    }\n",
       "\n",
       "    .dataframe thead th {\n",
       "        text-align: right;\n",
       "    }\n",
       "</style>\n",
       "<table border=\"1\" class=\"dataframe\">\n",
       "  <thead>\n",
       "    <tr style=\"text-align: right;\">\n",
       "      <th></th>\n",
       "      <th>Models</th>\n",
       "      <th>Accuracy</th>\n",
       "      <th>Precision Weighted</th>\n",
       "      <th>F1-Score Weigthed</th>\n",
       "      <th>Recall Weighted</th>\n",
       "    </tr>\n",
       "  </thead>\n",
       "  <tbody>\n",
       "    <tr>\n",
       "      <th>0</th>\n",
       "      <td>Decision_Tree_eng0.pkl</td>\n",
       "      <td>0.3175</td>\n",
       "      <td>0.682592</td>\n",
       "      <td>0.301562</td>\n",
       "      <td>0.3175</td>\n",
       "    </tr>\n",
       "    <tr>\n",
       "      <th>1</th>\n",
       "      <td>Decision_Tree_eng1.pkl</td>\n",
       "      <td>0.3225</td>\n",
       "      <td>0.660187</td>\n",
       "      <td>0.324247</td>\n",
       "      <td>0.3225</td>\n",
       "    </tr>\n",
       "    <tr>\n",
       "      <th>2</th>\n",
       "      <td>Decision_Tree_eng2.pkl</td>\n",
       "      <td>0.3300</td>\n",
       "      <td>0.615429</td>\n",
       "      <td>0.338737</td>\n",
       "      <td>0.3300</td>\n",
       "    </tr>\n",
       "    <tr>\n",
       "      <th>3</th>\n",
       "      <td>Extra_Tree_eng0.pkl</td>\n",
       "      <td>0.2525</td>\n",
       "      <td>0.740737</td>\n",
       "      <td>0.168178</td>\n",
       "      <td>0.2525</td>\n",
       "    </tr>\n",
       "    <tr>\n",
       "      <th>4</th>\n",
       "      <td>Extra_Tree_eng1.pkl</td>\n",
       "      <td>0.2475</td>\n",
       "      <td>0.626262</td>\n",
       "      <td>0.165932</td>\n",
       "      <td>0.2475</td>\n",
       "    </tr>\n",
       "    <tr>\n",
       "      <th>5</th>\n",
       "      <td>Extra_Tree_eng2.pkl</td>\n",
       "      <td>0.2450</td>\n",
       "      <td>0.559683</td>\n",
       "      <td>0.159807</td>\n",
       "      <td>0.2450</td>\n",
       "    </tr>\n",
       "    <tr>\n",
       "      <th>6</th>\n",
       "      <td>KNN_eng0.pkl</td>\n",
       "      <td>0.3225</td>\n",
       "      <td>0.646270</td>\n",
       "      <td>0.311249</td>\n",
       "      <td>0.3225</td>\n",
       "    </tr>\n",
       "    <tr>\n",
       "      <th>7</th>\n",
       "      <td>KNN_eng1.pkl</td>\n",
       "      <td>0.2975</td>\n",
       "      <td>0.628772</td>\n",
       "      <td>0.275110</td>\n",
       "      <td>0.2975</td>\n",
       "    </tr>\n",
       "    <tr>\n",
       "      <th>8</th>\n",
       "      <td>KNN_eng2.pkl</td>\n",
       "      <td>0.2975</td>\n",
       "      <td>0.646130</td>\n",
       "      <td>0.286223</td>\n",
       "      <td>0.2975</td>\n",
       "    </tr>\n",
       "    <tr>\n",
       "      <th>9</th>\n",
       "      <td>Logistic_Regression_eng0.pkl</td>\n",
       "      <td>0.2350</td>\n",
       "      <td>0.733313</td>\n",
       "      <td>0.140378</td>\n",
       "      <td>0.2350</td>\n",
       "    </tr>\n",
       "    <tr>\n",
       "      <th>10</th>\n",
       "      <td>Logistic_Regression_eng1.pkl</td>\n",
       "      <td>0.2425</td>\n",
       "      <td>0.731056</td>\n",
       "      <td>0.156510</td>\n",
       "      <td>0.2425</td>\n",
       "    </tr>\n",
       "    <tr>\n",
       "      <th>11</th>\n",
       "      <td>Logistic_Regression_eng2.pkl</td>\n",
       "      <td>0.2325</td>\n",
       "      <td>0.729171</td>\n",
       "      <td>0.139916</td>\n",
       "      <td>0.2325</td>\n",
       "    </tr>\n",
       "    <tr>\n",
       "      <th>12</th>\n",
       "      <td>Naive_Bayes_eng0.pkl</td>\n",
       "      <td>0.2225</td>\n",
       "      <td>0.070019</td>\n",
       "      <td>0.106088</td>\n",
       "      <td>0.2225</td>\n",
       "    </tr>\n",
       "    <tr>\n",
       "      <th>13</th>\n",
       "      <td>Naive_Bayes_eng1.pkl</td>\n",
       "      <td>0.2175</td>\n",
       "      <td>0.066721</td>\n",
       "      <td>0.101741</td>\n",
       "      <td>0.2175</td>\n",
       "    </tr>\n",
       "    <tr>\n",
       "      <th>14</th>\n",
       "      <td>Naive_Bayes_eng2.pkl</td>\n",
       "      <td>0.2150</td>\n",
       "      <td>0.067390</td>\n",
       "      <td>0.102333</td>\n",
       "      <td>0.2150</td>\n",
       "    </tr>\n",
       "    <tr>\n",
       "      <th>15</th>\n",
       "      <td>Random_Forest_eng0.pkl</td>\n",
       "      <td>0.2400</td>\n",
       "      <td>0.733145</td>\n",
       "      <td>0.140840</td>\n",
       "      <td>0.2400</td>\n",
       "    </tr>\n",
       "    <tr>\n",
       "      <th>16</th>\n",
       "      <td>Random_Forest_eng1.pkl</td>\n",
       "      <td>0.2200</td>\n",
       "      <td>0.616445</td>\n",
       "      <td>0.129781</td>\n",
       "      <td>0.2200</td>\n",
       "    </tr>\n",
       "    <tr>\n",
       "      <th>17</th>\n",
       "      <td>Random_Forest_eng2.pkl</td>\n",
       "      <td>0.2175</td>\n",
       "      <td>0.728512</td>\n",
       "      <td>0.119159</td>\n",
       "      <td>0.2175</td>\n",
       "    </tr>\n",
       "    <tr>\n",
       "      <th>18</th>\n",
       "      <td>SVM_eng0.pkl</td>\n",
       "      <td>0.2675</td>\n",
       "      <td>0.737698</td>\n",
       "      <td>0.200718</td>\n",
       "      <td>0.2675</td>\n",
       "    </tr>\n",
       "    <tr>\n",
       "      <th>19</th>\n",
       "      <td>SVM_eng1.pkl</td>\n",
       "      <td>0.2825</td>\n",
       "      <td>0.709682</td>\n",
       "      <td>0.230886</td>\n",
       "      <td>0.2825</td>\n",
       "    </tr>\n",
       "    <tr>\n",
       "      <th>20</th>\n",
       "      <td>SVM_eng2.pkl</td>\n",
       "      <td>0.2450</td>\n",
       "      <td>0.680128</td>\n",
       "      <td>0.168917</td>\n",
       "      <td>0.2450</td>\n",
       "    </tr>\n",
       "    <tr>\n",
       "      <th>21</th>\n",
       "      <td>XGB_eng0.pkl</td>\n",
       "      <td>0.3525</td>\n",
       "      <td>0.736416</td>\n",
       "      <td>0.325189</td>\n",
       "      <td>0.3525</td>\n",
       "    </tr>\n",
       "    <tr>\n",
       "      <th>22</th>\n",
       "      <td>XGB_eng1.pkl</td>\n",
       "      <td>0.3800</td>\n",
       "      <td>0.732507</td>\n",
       "      <td>0.386868</td>\n",
       "      <td>0.3800</td>\n",
       "    </tr>\n",
       "    <tr>\n",
       "      <th>23</th>\n",
       "      <td>XGB_eng2.pkl</td>\n",
       "      <td>0.3800</td>\n",
       "      <td>0.699334</td>\n",
       "      <td>0.389050</td>\n",
       "      <td>0.3800</td>\n",
       "    </tr>\n",
       "  </tbody>\n",
       "</table>\n",
       "</div>"
      ],
      "text/plain": [
       "                          Models  Accuracy  Precision Weighted  \\\n",
       "0         Decision_Tree_eng0.pkl    0.3175            0.682592   \n",
       "1         Decision_Tree_eng1.pkl    0.3225            0.660187   \n",
       "2         Decision_Tree_eng2.pkl    0.3300            0.615429   \n",
       "3            Extra_Tree_eng0.pkl    0.2525            0.740737   \n",
       "4            Extra_Tree_eng1.pkl    0.2475            0.626262   \n",
       "5            Extra_Tree_eng2.pkl    0.2450            0.559683   \n",
       "6                   KNN_eng0.pkl    0.3225            0.646270   \n",
       "7                   KNN_eng1.pkl    0.2975            0.628772   \n",
       "8                   KNN_eng2.pkl    0.2975            0.646130   \n",
       "9   Logistic_Regression_eng0.pkl    0.2350            0.733313   \n",
       "10  Logistic_Regression_eng1.pkl    0.2425            0.731056   \n",
       "11  Logistic_Regression_eng2.pkl    0.2325            0.729171   \n",
       "12          Naive_Bayes_eng0.pkl    0.2225            0.070019   \n",
       "13          Naive_Bayes_eng1.pkl    0.2175            0.066721   \n",
       "14          Naive_Bayes_eng2.pkl    0.2150            0.067390   \n",
       "15        Random_Forest_eng0.pkl    0.2400            0.733145   \n",
       "16        Random_Forest_eng1.pkl    0.2200            0.616445   \n",
       "17        Random_Forest_eng2.pkl    0.2175            0.728512   \n",
       "18                  SVM_eng0.pkl    0.2675            0.737698   \n",
       "19                  SVM_eng1.pkl    0.2825            0.709682   \n",
       "20                  SVM_eng2.pkl    0.2450            0.680128   \n",
       "21                  XGB_eng0.pkl    0.3525            0.736416   \n",
       "22                  XGB_eng1.pkl    0.3800            0.732507   \n",
       "23                  XGB_eng2.pkl    0.3800            0.699334   \n",
       "\n",
       "    F1-Score Weigthed  Recall Weighted  \n",
       "0            0.301562           0.3175  \n",
       "1            0.324247           0.3225  \n",
       "2            0.338737           0.3300  \n",
       "3            0.168178           0.2525  \n",
       "4            0.165932           0.2475  \n",
       "5            0.159807           0.2450  \n",
       "6            0.311249           0.3225  \n",
       "7            0.275110           0.2975  \n",
       "8            0.286223           0.2975  \n",
       "9            0.140378           0.2350  \n",
       "10           0.156510           0.2425  \n",
       "11           0.139916           0.2325  \n",
       "12           0.106088           0.2225  \n",
       "13           0.101741           0.2175  \n",
       "14           0.102333           0.2150  \n",
       "15           0.140840           0.2400  \n",
       "16           0.129781           0.2200  \n",
       "17           0.119159           0.2175  \n",
       "18           0.200718           0.2675  \n",
       "19           0.230886           0.2825  \n",
       "20           0.168917           0.2450  \n",
       "21           0.325189           0.3525  \n",
       "22           0.386868           0.3800  \n",
       "23           0.389050           0.3800  "
      ]
     },
     "execution_count": 72,
     "metadata": {},
     "output_type": "execute_result"
    }
   ],
   "source": [
    "pd.read_csv(PATH_METRICS + \"CVtesting_metrics_eng.csv\")"
   ]
  },
  {
   "attachments": {},
   "cell_type": "markdown",
   "metadata": {},
   "source": [
    "- Testando modelos com texto em português"
   ]
  },
  {
   "cell_type": "code",
   "execution_count": 73,
   "metadata": {
    "collapsed": true,
    "jupyter": {
     "outputs_hidden": true
    },
    "tags": []
   },
   "outputs": [
    {
     "name": "stderr",
     "output_type": "stream",
     "text": [
      "c:\\Users\\ArkadeUser\\Documents\\projects\\nlp-sentimental-analysis\\venv\\Lib\\site-packages\\sklearn\\metrics\\_classification.py:1469: UndefinedMetricWarning: Precision is ill-defined and being set to 0.0 in labels with no predicted samples. Use `zero_division` parameter to control this behavior.\n",
      "  _warn_prf(average, modifier, msg_start, len(result))\n",
      "c:\\Users\\ArkadeUser\\Documents\\projects\\nlp-sentimental-analysis\\venv\\Lib\\site-packages\\sklearn\\metrics\\_classification.py:1469: UndefinedMetricWarning: Precision is ill-defined and being set to 0.0 in labels with no predicted samples. Use `zero_division` parameter to control this behavior.\n",
      "  _warn_prf(average, modifier, msg_start, len(result))\n",
      "c:\\Users\\ArkadeUser\\Documents\\projects\\nlp-sentimental-analysis\\venv\\Lib\\site-packages\\sklearn\\metrics\\_classification.py:1469: UndefinedMetricWarning: Precision is ill-defined and being set to 0.0 in labels with no predicted samples. Use `zero_division` parameter to control this behavior.\n",
      "  _warn_prf(average, modifier, msg_start, len(result))\n"
     ]
    }
   ],
   "source": [
    "for file in files_pt:\n",
    "    model = joblib.load(PATH_MODELS + file)\n",
    "    y_pred = model.predict(X_test_pt)\n",
    "    \n",
    "    if \"XGB\" not in file:\n",
    "        testing_metrics(y_test, y_pred, \"pt\", file, \"CV\")\n",
    "    else:\n",
    "        testing_metrics(y_test_le, y_pred, \"pt\", file, \"CV\")"
   ]
  },
  {
   "cell_type": "code",
   "execution_count": 74,
   "metadata": {
    "tags": []
   },
   "outputs": [
    {
     "data": {
      "text/html": [
       "<div>\n",
       "<style scoped>\n",
       "    .dataframe tbody tr th:only-of-type {\n",
       "        vertical-align: middle;\n",
       "    }\n",
       "\n",
       "    .dataframe tbody tr th {\n",
       "        vertical-align: top;\n",
       "    }\n",
       "\n",
       "    .dataframe thead th {\n",
       "        text-align: right;\n",
       "    }\n",
       "</style>\n",
       "<table border=\"1\" class=\"dataframe\">\n",
       "  <thead>\n",
       "    <tr style=\"text-align: right;\">\n",
       "      <th></th>\n",
       "      <th>Models</th>\n",
       "      <th>Accuracy</th>\n",
       "      <th>Precision Weighted</th>\n",
       "      <th>F1-Score Weigthed</th>\n",
       "      <th>Recall Weighted</th>\n",
       "    </tr>\n",
       "  </thead>\n",
       "  <tbody>\n",
       "    <tr>\n",
       "      <th>0</th>\n",
       "      <td>Decision_Tree_pt0.pkl</td>\n",
       "      <td>0.4700</td>\n",
       "      <td>0.702354</td>\n",
       "      <td>0.515918</td>\n",
       "      <td>0.4700</td>\n",
       "    </tr>\n",
       "    <tr>\n",
       "      <th>1</th>\n",
       "      <td>Decision_Tree_pt1.pkl</td>\n",
       "      <td>0.4375</td>\n",
       "      <td>0.700806</td>\n",
       "      <td>0.478735</td>\n",
       "      <td>0.4375</td>\n",
       "    </tr>\n",
       "    <tr>\n",
       "      <th>2</th>\n",
       "      <td>Decision_Tree_pt2.pkl</td>\n",
       "      <td>0.4750</td>\n",
       "      <td>0.686425</td>\n",
       "      <td>0.513430</td>\n",
       "      <td>0.4750</td>\n",
       "    </tr>\n",
       "    <tr>\n",
       "      <th>3</th>\n",
       "      <td>Extra_Tree_pt0.pkl</td>\n",
       "      <td>0.3050</td>\n",
       "      <td>0.686925</td>\n",
       "      <td>0.269581</td>\n",
       "      <td>0.3050</td>\n",
       "    </tr>\n",
       "    <tr>\n",
       "      <th>4</th>\n",
       "      <td>Extra_Tree_pt1.pkl</td>\n",
       "      <td>0.3075</td>\n",
       "      <td>0.720896</td>\n",
       "      <td>0.275529</td>\n",
       "      <td>0.3075</td>\n",
       "    </tr>\n",
       "    <tr>\n",
       "      <th>5</th>\n",
       "      <td>Extra_Tree_pt2.pkl</td>\n",
       "      <td>0.2675</td>\n",
       "      <td>0.679252</td>\n",
       "      <td>0.214341</td>\n",
       "      <td>0.2675</td>\n",
       "    </tr>\n",
       "    <tr>\n",
       "      <th>6</th>\n",
       "      <td>KNN_pt0.pkl</td>\n",
       "      <td>0.3350</td>\n",
       "      <td>0.663632</td>\n",
       "      <td>0.330210</td>\n",
       "      <td>0.3350</td>\n",
       "    </tr>\n",
       "    <tr>\n",
       "      <th>7</th>\n",
       "      <td>KNN_pt1.pkl</td>\n",
       "      <td>0.3675</td>\n",
       "      <td>0.676636</td>\n",
       "      <td>0.379038</td>\n",
       "      <td>0.3675</td>\n",
       "    </tr>\n",
       "    <tr>\n",
       "      <th>8</th>\n",
       "      <td>KNN_pt2.pkl</td>\n",
       "      <td>0.3525</td>\n",
       "      <td>0.681905</td>\n",
       "      <td>0.347534</td>\n",
       "      <td>0.3525</td>\n",
       "    </tr>\n",
       "    <tr>\n",
       "      <th>9</th>\n",
       "      <td>Logistic_Regression_pt0.pkl</td>\n",
       "      <td>0.2625</td>\n",
       "      <td>0.733035</td>\n",
       "      <td>0.186731</td>\n",
       "      <td>0.2625</td>\n",
       "    </tr>\n",
       "    <tr>\n",
       "      <th>10</th>\n",
       "      <td>Logistic_Regression_pt1.pkl</td>\n",
       "      <td>0.2975</td>\n",
       "      <td>0.735059</td>\n",
       "      <td>0.248393</td>\n",
       "      <td>0.2975</td>\n",
       "    </tr>\n",
       "    <tr>\n",
       "      <th>11</th>\n",
       "      <td>Logistic_Regression_pt2.pkl</td>\n",
       "      <td>0.2625</td>\n",
       "      <td>0.732198</td>\n",
       "      <td>0.185661</td>\n",
       "      <td>0.2625</td>\n",
       "    </tr>\n",
       "    <tr>\n",
       "      <th>12</th>\n",
       "      <td>Naive_Bayes_pt0.pkl</td>\n",
       "      <td>0.2275</td>\n",
       "      <td>0.071765</td>\n",
       "      <td>0.108730</td>\n",
       "      <td>0.2275</td>\n",
       "    </tr>\n",
       "    <tr>\n",
       "      <th>13</th>\n",
       "      <td>Naive_Bayes_pt1.pkl</td>\n",
       "      <td>0.2125</td>\n",
       "      <td>0.066937</td>\n",
       "      <td>0.101669</td>\n",
       "      <td>0.2125</td>\n",
       "    </tr>\n",
       "    <tr>\n",
       "      <th>14</th>\n",
       "      <td>Naive_Bayes_pt2.pkl</td>\n",
       "      <td>0.2150</td>\n",
       "      <td>0.069379</td>\n",
       "      <td>0.104766</td>\n",
       "      <td>0.2150</td>\n",
       "    </tr>\n",
       "    <tr>\n",
       "      <th>15</th>\n",
       "      <td>Random_Forest_pt0.pkl</td>\n",
       "      <td>0.2450</td>\n",
       "      <td>0.733932</td>\n",
       "      <td>0.164334</td>\n",
       "      <td>0.2450</td>\n",
       "    </tr>\n",
       "    <tr>\n",
       "      <th>16</th>\n",
       "      <td>Random_Forest_pt1.pkl</td>\n",
       "      <td>0.2575</td>\n",
       "      <td>0.696336</td>\n",
       "      <td>0.197766</td>\n",
       "      <td>0.2575</td>\n",
       "    </tr>\n",
       "    <tr>\n",
       "      <th>17</th>\n",
       "      <td>Random_Forest_pt2.pkl</td>\n",
       "      <td>0.2350</td>\n",
       "      <td>0.674865</td>\n",
       "      <td>0.162169</td>\n",
       "      <td>0.2350</td>\n",
       "    </tr>\n",
       "    <tr>\n",
       "      <th>18</th>\n",
       "      <td>SVM_pt0.pkl</td>\n",
       "      <td>0.3675</td>\n",
       "      <td>0.732600</td>\n",
       "      <td>0.363491</td>\n",
       "      <td>0.3675</td>\n",
       "    </tr>\n",
       "    <tr>\n",
       "      <th>19</th>\n",
       "      <td>SVM_pt1.pkl</td>\n",
       "      <td>0.4000</td>\n",
       "      <td>0.724990</td>\n",
       "      <td>0.410093</td>\n",
       "      <td>0.4000</td>\n",
       "    </tr>\n",
       "    <tr>\n",
       "      <th>20</th>\n",
       "      <td>SVM_pt2.pkl</td>\n",
       "      <td>0.3500</td>\n",
       "      <td>0.727171</td>\n",
       "      <td>0.334870</td>\n",
       "      <td>0.3500</td>\n",
       "    </tr>\n",
       "    <tr>\n",
       "      <th>21</th>\n",
       "      <td>XGB_pt0.pkl</td>\n",
       "      <td>0.4150</td>\n",
       "      <td>0.699208</td>\n",
       "      <td>0.443121</td>\n",
       "      <td>0.4150</td>\n",
       "    </tr>\n",
       "    <tr>\n",
       "      <th>22</th>\n",
       "      <td>XGB_pt1.pkl</td>\n",
       "      <td>0.4775</td>\n",
       "      <td>0.711867</td>\n",
       "      <td>0.508007</td>\n",
       "      <td>0.4775</td>\n",
       "    </tr>\n",
       "    <tr>\n",
       "      <th>23</th>\n",
       "      <td>XGB_pt2.pkl</td>\n",
       "      <td>0.5000</td>\n",
       "      <td>0.727983</td>\n",
       "      <td>0.523815</td>\n",
       "      <td>0.5000</td>\n",
       "    </tr>\n",
       "  </tbody>\n",
       "</table>\n",
       "</div>"
      ],
      "text/plain": [
       "                         Models  Accuracy  Precision Weighted  \\\n",
       "0         Decision_Tree_pt0.pkl    0.4700            0.702354   \n",
       "1         Decision_Tree_pt1.pkl    0.4375            0.700806   \n",
       "2         Decision_Tree_pt2.pkl    0.4750            0.686425   \n",
       "3            Extra_Tree_pt0.pkl    0.3050            0.686925   \n",
       "4            Extra_Tree_pt1.pkl    0.3075            0.720896   \n",
       "5            Extra_Tree_pt2.pkl    0.2675            0.679252   \n",
       "6                   KNN_pt0.pkl    0.3350            0.663632   \n",
       "7                   KNN_pt1.pkl    0.3675            0.676636   \n",
       "8                   KNN_pt2.pkl    0.3525            0.681905   \n",
       "9   Logistic_Regression_pt0.pkl    0.2625            0.733035   \n",
       "10  Logistic_Regression_pt1.pkl    0.2975            0.735059   \n",
       "11  Logistic_Regression_pt2.pkl    0.2625            0.732198   \n",
       "12          Naive_Bayes_pt0.pkl    0.2275            0.071765   \n",
       "13          Naive_Bayes_pt1.pkl    0.2125            0.066937   \n",
       "14          Naive_Bayes_pt2.pkl    0.2150            0.069379   \n",
       "15        Random_Forest_pt0.pkl    0.2450            0.733932   \n",
       "16        Random_Forest_pt1.pkl    0.2575            0.696336   \n",
       "17        Random_Forest_pt2.pkl    0.2350            0.674865   \n",
       "18                  SVM_pt0.pkl    0.3675            0.732600   \n",
       "19                  SVM_pt1.pkl    0.4000            0.724990   \n",
       "20                  SVM_pt2.pkl    0.3500            0.727171   \n",
       "21                  XGB_pt0.pkl    0.4150            0.699208   \n",
       "22                  XGB_pt1.pkl    0.4775            0.711867   \n",
       "23                  XGB_pt2.pkl    0.5000            0.727983   \n",
       "\n",
       "    F1-Score Weigthed  Recall Weighted  \n",
       "0            0.515918           0.4700  \n",
       "1            0.478735           0.4375  \n",
       "2            0.513430           0.4750  \n",
       "3            0.269581           0.3050  \n",
       "4            0.275529           0.3075  \n",
       "5            0.214341           0.2675  \n",
       "6            0.330210           0.3350  \n",
       "7            0.379038           0.3675  \n",
       "8            0.347534           0.3525  \n",
       "9            0.186731           0.2625  \n",
       "10           0.248393           0.2975  \n",
       "11           0.185661           0.2625  \n",
       "12           0.108730           0.2275  \n",
       "13           0.101669           0.2125  \n",
       "14           0.104766           0.2150  \n",
       "15           0.164334           0.2450  \n",
       "16           0.197766           0.2575  \n",
       "17           0.162169           0.2350  \n",
       "18           0.363491           0.3675  \n",
       "19           0.410093           0.4000  \n",
       "20           0.334870           0.3500  \n",
       "21           0.443121           0.4150  \n",
       "22           0.508007           0.4775  \n",
       "23           0.523815           0.5000  "
      ]
     },
     "execution_count": 74,
     "metadata": {},
     "output_type": "execute_result"
    }
   ],
   "source": [
    "pd.read_csv(PATH_METRICS + \"CVtesting_metrics_pt.csv\")"
   ]
  },
  {
   "attachments": {},
   "cell_type": "markdown",
   "metadata": {},
   "source": [
    "Tendo em vista que os modelos não desempenharam muito bem com o treinamento com validação cruzada e testado com os últimos 400 exemplos da base de dados original, serão tentadas outras abordagens visando melhoria das métricas."
   ]
  },
  {
   "attachments": {},
   "cell_type": "markdown",
   "metadata": {},
   "source": [
    "## 4. Treinando e testando sem validação cruzada\n",
    "Aqui, X_train_eng e X_train_pt serão usados para treino e teste sem validação cruzada para verificação de melhoria das métricas."
   ]
  },
  {
   "cell_type": "code",
   "execution_count": 75,
   "metadata": {
    "tags": []
   },
   "outputs": [],
   "source": [
    "from sklearn.neural_network import MLPClassifier"
   ]
  },
  {
   "cell_type": "code",
   "execution_count": 76,
   "metadata": {
    "tags": []
   },
   "outputs": [],
   "source": [
    "# Instanciando os modelos a serem treinados\n",
    "decision_tree = tree.DecisionTreeClassifier()\n",
    "svm_model = svm.SVC(kernel='linear')\n",
    "kNN = KNeighborsClassifier(n_neighbors=5)\n",
    "xgb_model = xgb.XGBClassifier()\n",
    "lr_model = LogisticRegression()\n",
    "nb_model = MultinomialNB()\n",
    "rf_model = RandomForestClassifier()\n",
    "etc_model = ExtraTreesClassifier()\n",
    "mlp = MLPClassifier()"
   ]
  },
  {
   "attachments": {},
   "cell_type": "markdown",
   "metadata": {},
   "source": [
    "### 4.1. Textos em inglês\n",
    "- Treino"
   ]
  },
  {
   "cell_type": "code",
   "execution_count": 77,
   "metadata": {
    "tags": []
   },
   "outputs": [
    {
     "data": {
      "text/html": [
       "<style>#sk-container-id-1 {color: black;}#sk-container-id-1 pre{padding: 0;}#sk-container-id-1 div.sk-toggleable {background-color: white;}#sk-container-id-1 label.sk-toggleable__label {cursor: pointer;display: block;width: 100%;margin-bottom: 0;padding: 0.3em;box-sizing: border-box;text-align: center;}#sk-container-id-1 label.sk-toggleable__label-arrow:before {content: \"▸\";float: left;margin-right: 0.25em;color: #696969;}#sk-container-id-1 label.sk-toggleable__label-arrow:hover:before {color: black;}#sk-container-id-1 div.sk-estimator:hover label.sk-toggleable__label-arrow:before {color: black;}#sk-container-id-1 div.sk-toggleable__content {max-height: 0;max-width: 0;overflow: hidden;text-align: left;background-color: #f0f8ff;}#sk-container-id-1 div.sk-toggleable__content pre {margin: 0.2em;color: black;border-radius: 0.25em;background-color: #f0f8ff;}#sk-container-id-1 input.sk-toggleable__control:checked~div.sk-toggleable__content {max-height: 200px;max-width: 100%;overflow: auto;}#sk-container-id-1 input.sk-toggleable__control:checked~label.sk-toggleable__label-arrow:before {content: \"▾\";}#sk-container-id-1 div.sk-estimator input.sk-toggleable__control:checked~label.sk-toggleable__label {background-color: #d4ebff;}#sk-container-id-1 div.sk-label input.sk-toggleable__control:checked~label.sk-toggleable__label {background-color: #d4ebff;}#sk-container-id-1 input.sk-hidden--visually {border: 0;clip: rect(1px 1px 1px 1px);clip: rect(1px, 1px, 1px, 1px);height: 1px;margin: -1px;overflow: hidden;padding: 0;position: absolute;width: 1px;}#sk-container-id-1 div.sk-estimator {font-family: monospace;background-color: #f0f8ff;border: 1px dotted black;border-radius: 0.25em;box-sizing: border-box;margin-bottom: 0.5em;}#sk-container-id-1 div.sk-estimator:hover {background-color: #d4ebff;}#sk-container-id-1 div.sk-parallel-item::after {content: \"\";width: 100%;border-bottom: 1px solid gray;flex-grow: 1;}#sk-container-id-1 div.sk-label:hover label.sk-toggleable__label {background-color: #d4ebff;}#sk-container-id-1 div.sk-serial::before {content: \"\";position: absolute;border-left: 1px solid gray;box-sizing: border-box;top: 0;bottom: 0;left: 50%;z-index: 0;}#sk-container-id-1 div.sk-serial {display: flex;flex-direction: column;align-items: center;background-color: white;padding-right: 0.2em;padding-left: 0.2em;position: relative;}#sk-container-id-1 div.sk-item {position: relative;z-index: 1;}#sk-container-id-1 div.sk-parallel {display: flex;align-items: stretch;justify-content: center;background-color: white;position: relative;}#sk-container-id-1 div.sk-item::before, #sk-container-id-1 div.sk-parallel-item::before {content: \"\";position: absolute;border-left: 1px solid gray;box-sizing: border-box;top: 0;bottom: 0;left: 50%;z-index: -1;}#sk-container-id-1 div.sk-parallel-item {display: flex;flex-direction: column;z-index: 1;position: relative;background-color: white;}#sk-container-id-1 div.sk-parallel-item:first-child::after {align-self: flex-end;width: 50%;}#sk-container-id-1 div.sk-parallel-item:last-child::after {align-self: flex-start;width: 50%;}#sk-container-id-1 div.sk-parallel-item:only-child::after {width: 0;}#sk-container-id-1 div.sk-dashed-wrapped {border: 1px dashed gray;margin: 0 0.4em 0.5em 0.4em;box-sizing: border-box;padding-bottom: 0.4em;background-color: white;}#sk-container-id-1 div.sk-label label {font-family: monospace;font-weight: bold;display: inline-block;line-height: 1.2em;}#sk-container-id-1 div.sk-label-container {text-align: center;}#sk-container-id-1 div.sk-container {/* jupyter's `normalize.less` sets `[hidden] { display: none; }` but bootstrap.min.css set `[hidden] { display: none !important; }` so we also need the `!important` here to be able to override the default hidden behavior on the sphinx rendered scikit-learn.org. See: https://github.com/scikit-learn/scikit-learn/issues/21755 */display: inline-block !important;position: relative;}#sk-container-id-1 div.sk-text-repr-fallback {display: none;}</style><div id=\"sk-container-id-1\" class=\"sk-top-container\"><div class=\"sk-text-repr-fallback\"><pre>MLPClassifier()</pre><b>In a Jupyter environment, please rerun this cell to show the HTML representation or trust the notebook. <br />On GitHub, the HTML representation is unable to render, please try loading this page with nbviewer.org.</b></div><div class=\"sk-container\" hidden><div class=\"sk-item\"><div class=\"sk-estimator sk-toggleable\"><input class=\"sk-toggleable__control sk-hidden--visually\" id=\"sk-estimator-id-1\" type=\"checkbox\" checked><label for=\"sk-estimator-id-1\" class=\"sk-toggleable__label sk-toggleable__label-arrow\">MLPClassifier</label><div class=\"sk-toggleable__content\"><pre>MLPClassifier()</pre></div></div></div></div></div>"
      ],
      "text/plain": [
       "MLPClassifier()"
      ]
     },
     "execution_count": 77,
     "metadata": {},
     "output_type": "execute_result"
    }
   ],
   "source": [
    "decision_tree.fit(X_train_eng, y_train)\n",
    "svm_model.fit(X_train_eng, y_train)\n",
    "kNN.fit(X_train_eng, y_train)\n",
    "xgb_model.fit(X_train_eng, y_train_le)\n",
    "lr_model.fit(X_train_eng, y_train)\n",
    "nb_model.fit(X_train_eng, y_train)\n",
    "rf_model.fit(X_train_eng, y_train)\n",
    "etc_model.fit(X_train_eng, y_train)\n",
    "mlp.fit(X_train_eng, y_train)"
   ]
  },
  {
   "attachments": {},
   "cell_type": "markdown",
   "metadata": {},
   "source": [
    "- Teste"
   ]
  },
  {
   "cell_type": "code",
   "execution_count": 78,
   "metadata": {
    "tags": []
   },
   "outputs": [
    {
     "name": "stderr",
     "output_type": "stream",
     "text": [
      "c:\\Users\\ArkadeUser\\Documents\\projects\\nlp-sentimental-analysis\\venv\\Lib\\site-packages\\sklearn\\metrics\\_classification.py:1469: UndefinedMetricWarning: Precision is ill-defined and being set to 0.0 in labels with no predicted samples. Use `zero_division` parameter to control this behavior.\n",
      "  _warn_prf(average, modifier, msg_start, len(result))\n"
     ]
    }
   ],
   "source": [
    "testing_metrics(y_test, decision_tree.predict(X_test_eng), \"eng\", \"Decision Tree\")\n",
    "testing_metrics(y_test, svm_model.predict(X_test_eng), \"eng\", \"SVM\")\n",
    "testing_metrics(y_test, kNN.predict(X_test_eng), \"eng\", \"KNN\")\n",
    "testing_metrics(y_test_le, xgb_model.predict(X_test_eng), \"eng\", \"XGBoost\")\n",
    "testing_metrics(y_test, lr_model.predict(X_test_eng), \"eng\", \"Logistic Regression\")\n",
    "testing_metrics(y_test, nb_model.predict(X_test_eng), \"eng\", \"Naive Bayes\")\n",
    "testing_metrics(y_test, rf_model.predict(X_test_eng), \"eng\", \"Random Forest\")\n",
    "testing_metrics(y_test, etc_model.predict(X_test_eng), \"eng\", \"Extra Tree\")\n",
    "testing_metrics(y_test, mlp.predict(X_test_eng), \"eng\", \"MLP Classifier\")"
   ]
  },
  {
   "cell_type": "code",
   "execution_count": 79,
   "metadata": {
    "tags": []
   },
   "outputs": [
    {
     "data": {
      "text/html": [
       "<div>\n",
       "<style scoped>\n",
       "    .dataframe tbody tr th:only-of-type {\n",
       "        vertical-align: middle;\n",
       "    }\n",
       "\n",
       "    .dataframe tbody tr th {\n",
       "        vertical-align: top;\n",
       "    }\n",
       "\n",
       "    .dataframe thead th {\n",
       "        text-align: right;\n",
       "    }\n",
       "</style>\n",
       "<table border=\"1\" class=\"dataframe\">\n",
       "  <thead>\n",
       "    <tr style=\"text-align: right;\">\n",
       "      <th></th>\n",
       "      <th>Models</th>\n",
       "      <th>Accuracy</th>\n",
       "      <th>Precision Weighted</th>\n",
       "      <th>F1-Score Weigthed</th>\n",
       "      <th>Recall Weighted</th>\n",
       "    </tr>\n",
       "  </thead>\n",
       "  <tbody>\n",
       "    <tr>\n",
       "      <th>0</th>\n",
       "      <td>Decision Tree</td>\n",
       "      <td>0.3425</td>\n",
       "      <td>0.662580</td>\n",
       "      <td>0.360447</td>\n",
       "      <td>0.3425</td>\n",
       "    </tr>\n",
       "    <tr>\n",
       "      <th>1</th>\n",
       "      <td>SVM</td>\n",
       "      <td>0.2925</td>\n",
       "      <td>0.715094</td>\n",
       "      <td>0.243750</td>\n",
       "      <td>0.2925</td>\n",
       "    </tr>\n",
       "    <tr>\n",
       "      <th>2</th>\n",
       "      <td>KNN</td>\n",
       "      <td>0.3100</td>\n",
       "      <td>0.642051</td>\n",
       "      <td>0.296555</td>\n",
       "      <td>0.3100</td>\n",
       "    </tr>\n",
       "    <tr>\n",
       "      <th>3</th>\n",
       "      <td>XGBoost</td>\n",
       "      <td>0.4025</td>\n",
       "      <td>0.714615</td>\n",
       "      <td>0.413457</td>\n",
       "      <td>0.4025</td>\n",
       "    </tr>\n",
       "    <tr>\n",
       "      <th>4</th>\n",
       "      <td>Logistic Regression</td>\n",
       "      <td>0.2425</td>\n",
       "      <td>0.733536</td>\n",
       "      <td>0.150517</td>\n",
       "      <td>0.2425</td>\n",
       "    </tr>\n",
       "    <tr>\n",
       "      <th>5</th>\n",
       "      <td>Naive Bayes</td>\n",
       "      <td>0.2175</td>\n",
       "      <td>0.072224</td>\n",
       "      <td>0.108383</td>\n",
       "      <td>0.2175</td>\n",
       "    </tr>\n",
       "    <tr>\n",
       "      <th>6</th>\n",
       "      <td>Random Forest</td>\n",
       "      <td>0.2275</td>\n",
       "      <td>0.731924</td>\n",
       "      <td>0.128818</td>\n",
       "      <td>0.2275</td>\n",
       "    </tr>\n",
       "    <tr>\n",
       "      <th>7</th>\n",
       "      <td>Extra Tree</td>\n",
       "      <td>0.2775</td>\n",
       "      <td>0.707049</td>\n",
       "      <td>0.207812</td>\n",
       "      <td>0.2775</td>\n",
       "    </tr>\n",
       "    <tr>\n",
       "      <th>8</th>\n",
       "      <td>MLP Classifier</td>\n",
       "      <td>0.3525</td>\n",
       "      <td>0.689618</td>\n",
       "      <td>0.355763</td>\n",
       "      <td>0.3525</td>\n",
       "    </tr>\n",
       "  </tbody>\n",
       "</table>\n",
       "</div>"
      ],
      "text/plain": [
       "                Models  Accuracy  Precision Weighted  F1-Score Weigthed  \\\n",
       "0        Decision Tree    0.3425            0.662580           0.360447   \n",
       "1                  SVM    0.2925            0.715094           0.243750   \n",
       "2                  KNN    0.3100            0.642051           0.296555   \n",
       "3              XGBoost    0.4025            0.714615           0.413457   \n",
       "4  Logistic Regression    0.2425            0.733536           0.150517   \n",
       "5          Naive Bayes    0.2175            0.072224           0.108383   \n",
       "6        Random Forest    0.2275            0.731924           0.128818   \n",
       "7           Extra Tree    0.2775            0.707049           0.207812   \n",
       "8       MLP Classifier    0.3525            0.689618           0.355763   \n",
       "\n",
       "   Recall Weighted  \n",
       "0           0.3425  \n",
       "1           0.2925  \n",
       "2           0.3100  \n",
       "3           0.4025  \n",
       "4           0.2425  \n",
       "5           0.2175  \n",
       "6           0.2275  \n",
       "7           0.2775  \n",
       "8           0.3525  "
      ]
     },
     "execution_count": 79,
     "metadata": {},
     "output_type": "execute_result"
    }
   ],
   "source": [
    "pd.read_csv(PATH_METRICS + \"testing_metrics_eng.csv\")"
   ]
  },
  {
   "attachments": {},
   "cell_type": "markdown",
   "metadata": {},
   "source": [
    "### 4.2. Textos em português\n",
    "- Treino"
   ]
  },
  {
   "cell_type": "code",
   "execution_count": 80,
   "metadata": {
    "tags": []
   },
   "outputs": [
    {
     "data": {
      "text/html": [
       "<style>#sk-container-id-2 {color: black;}#sk-container-id-2 pre{padding: 0;}#sk-container-id-2 div.sk-toggleable {background-color: white;}#sk-container-id-2 label.sk-toggleable__label {cursor: pointer;display: block;width: 100%;margin-bottom: 0;padding: 0.3em;box-sizing: border-box;text-align: center;}#sk-container-id-2 label.sk-toggleable__label-arrow:before {content: \"▸\";float: left;margin-right: 0.25em;color: #696969;}#sk-container-id-2 label.sk-toggleable__label-arrow:hover:before {color: black;}#sk-container-id-2 div.sk-estimator:hover label.sk-toggleable__label-arrow:before {color: black;}#sk-container-id-2 div.sk-toggleable__content {max-height: 0;max-width: 0;overflow: hidden;text-align: left;background-color: #f0f8ff;}#sk-container-id-2 div.sk-toggleable__content pre {margin: 0.2em;color: black;border-radius: 0.25em;background-color: #f0f8ff;}#sk-container-id-2 input.sk-toggleable__control:checked~div.sk-toggleable__content {max-height: 200px;max-width: 100%;overflow: auto;}#sk-container-id-2 input.sk-toggleable__control:checked~label.sk-toggleable__label-arrow:before {content: \"▾\";}#sk-container-id-2 div.sk-estimator input.sk-toggleable__control:checked~label.sk-toggleable__label {background-color: #d4ebff;}#sk-container-id-2 div.sk-label input.sk-toggleable__control:checked~label.sk-toggleable__label {background-color: #d4ebff;}#sk-container-id-2 input.sk-hidden--visually {border: 0;clip: rect(1px 1px 1px 1px);clip: rect(1px, 1px, 1px, 1px);height: 1px;margin: -1px;overflow: hidden;padding: 0;position: absolute;width: 1px;}#sk-container-id-2 div.sk-estimator {font-family: monospace;background-color: #f0f8ff;border: 1px dotted black;border-radius: 0.25em;box-sizing: border-box;margin-bottom: 0.5em;}#sk-container-id-2 div.sk-estimator:hover {background-color: #d4ebff;}#sk-container-id-2 div.sk-parallel-item::after {content: \"\";width: 100%;border-bottom: 1px solid gray;flex-grow: 1;}#sk-container-id-2 div.sk-label:hover label.sk-toggleable__label {background-color: #d4ebff;}#sk-container-id-2 div.sk-serial::before {content: \"\";position: absolute;border-left: 1px solid gray;box-sizing: border-box;top: 0;bottom: 0;left: 50%;z-index: 0;}#sk-container-id-2 div.sk-serial {display: flex;flex-direction: column;align-items: center;background-color: white;padding-right: 0.2em;padding-left: 0.2em;position: relative;}#sk-container-id-2 div.sk-item {position: relative;z-index: 1;}#sk-container-id-2 div.sk-parallel {display: flex;align-items: stretch;justify-content: center;background-color: white;position: relative;}#sk-container-id-2 div.sk-item::before, #sk-container-id-2 div.sk-parallel-item::before {content: \"\";position: absolute;border-left: 1px solid gray;box-sizing: border-box;top: 0;bottom: 0;left: 50%;z-index: -1;}#sk-container-id-2 div.sk-parallel-item {display: flex;flex-direction: column;z-index: 1;position: relative;background-color: white;}#sk-container-id-2 div.sk-parallel-item:first-child::after {align-self: flex-end;width: 50%;}#sk-container-id-2 div.sk-parallel-item:last-child::after {align-self: flex-start;width: 50%;}#sk-container-id-2 div.sk-parallel-item:only-child::after {width: 0;}#sk-container-id-2 div.sk-dashed-wrapped {border: 1px dashed gray;margin: 0 0.4em 0.5em 0.4em;box-sizing: border-box;padding-bottom: 0.4em;background-color: white;}#sk-container-id-2 div.sk-label label {font-family: monospace;font-weight: bold;display: inline-block;line-height: 1.2em;}#sk-container-id-2 div.sk-label-container {text-align: center;}#sk-container-id-2 div.sk-container {/* jupyter's `normalize.less` sets `[hidden] { display: none; }` but bootstrap.min.css set `[hidden] { display: none !important; }` so we also need the `!important` here to be able to override the default hidden behavior on the sphinx rendered scikit-learn.org. See: https://github.com/scikit-learn/scikit-learn/issues/21755 */display: inline-block !important;position: relative;}#sk-container-id-2 div.sk-text-repr-fallback {display: none;}</style><div id=\"sk-container-id-2\" class=\"sk-top-container\"><div class=\"sk-text-repr-fallback\"><pre>MLPClassifier()</pre><b>In a Jupyter environment, please rerun this cell to show the HTML representation or trust the notebook. <br />On GitHub, the HTML representation is unable to render, please try loading this page with nbviewer.org.</b></div><div class=\"sk-container\" hidden><div class=\"sk-item\"><div class=\"sk-estimator sk-toggleable\"><input class=\"sk-toggleable__control sk-hidden--visually\" id=\"sk-estimator-id-2\" type=\"checkbox\" checked><label for=\"sk-estimator-id-2\" class=\"sk-toggleable__label sk-toggleable__label-arrow\">MLPClassifier</label><div class=\"sk-toggleable__content\"><pre>MLPClassifier()</pre></div></div></div></div></div>"
      ],
      "text/plain": [
       "MLPClassifier()"
      ]
     },
     "execution_count": 80,
     "metadata": {},
     "output_type": "execute_result"
    }
   ],
   "source": [
    "decision_tree.fit(X_train_pt, y_train)\n",
    "svm_model.fit(X_train_pt, y_train)\n",
    "kNN.fit(X_train_pt, y_train)\n",
    "xgb_model.fit(X_train_pt, y_train_le)\n",
    "lr_model.fit(X_train_pt, y_train)\n",
    "nb_model.fit(X_train_pt, y_train)\n",
    "rf_model.fit(X_train_pt, y_train)\n",
    "etc_model.fit(X_train_pt, y_train)\n",
    "mlp.fit(X_train_pt, y_train)"
   ]
  },
  {
   "attachments": {},
   "cell_type": "markdown",
   "metadata": {},
   "source": [
    "- Teste"
   ]
  },
  {
   "cell_type": "code",
   "execution_count": 81,
   "metadata": {
    "collapsed": true,
    "jupyter": {
     "outputs_hidden": true
    },
    "tags": []
   },
   "outputs": [
    {
     "name": "stderr",
     "output_type": "stream",
     "text": [
      "c:\\Users\\ArkadeUser\\Documents\\projects\\nlp-sentimental-analysis\\venv\\Lib\\site-packages\\sklearn\\metrics\\_classification.py:1469: UndefinedMetricWarning: Precision is ill-defined and being set to 0.0 in labels with no predicted samples. Use `zero_division` parameter to control this behavior.\n",
      "  _warn_prf(average, modifier, msg_start, len(result))\n"
     ]
    }
   ],
   "source": [
    "testing_metrics(y_test, decision_tree.predict(X_test_pt), \"pt\", \"Decision Tree\")\n",
    "testing_metrics(y_test, svm_model.predict(X_test_pt), \"pt\", \"SVM\")\n",
    "testing_metrics(y_test, kNN.predict(X_test_pt), \"pt\", \"KNN\")\n",
    "testing_metrics(y_test_le, xgb_model.predict(X_test_pt), \"pt\", \"XGBoost\")\n",
    "testing_metrics(y_test, lr_model.predict(X_test_pt), \"pt\", \"Logistic Regression\")\n",
    "testing_metrics(y_test, nb_model.predict(X_test_pt), \"pt\", \"Naive Bayes\")\n",
    "testing_metrics(y_test, rf_model.predict(X_test_pt), \"pt\", \"Random Forest\")\n",
    "testing_metrics(y_test, etc_model.predict(X_test_pt), \"pt\", \"Extra Tree\")\n",
    "testing_metrics(y_test, mlp.predict(X_test_pt), \"pt\", \"MLP Classifier\")"
   ]
  },
  {
   "cell_type": "code",
   "execution_count": 82,
   "metadata": {
    "tags": []
   },
   "outputs": [
    {
     "data": {
      "text/html": [
       "<div>\n",
       "<style scoped>\n",
       "    .dataframe tbody tr th:only-of-type {\n",
       "        vertical-align: middle;\n",
       "    }\n",
       "\n",
       "    .dataframe tbody tr th {\n",
       "        vertical-align: top;\n",
       "    }\n",
       "\n",
       "    .dataframe thead th {\n",
       "        text-align: right;\n",
       "    }\n",
       "</style>\n",
       "<table border=\"1\" class=\"dataframe\">\n",
       "  <thead>\n",
       "    <tr style=\"text-align: right;\">\n",
       "      <th></th>\n",
       "      <th>Models</th>\n",
       "      <th>Accuracy</th>\n",
       "      <th>Precision Weighted</th>\n",
       "      <th>F1-Score Weigthed</th>\n",
       "      <th>Recall Weighted</th>\n",
       "    </tr>\n",
       "  </thead>\n",
       "  <tbody>\n",
       "    <tr>\n",
       "      <th>0</th>\n",
       "      <td>Decision Tree</td>\n",
       "      <td>0.4550</td>\n",
       "      <td>0.688776</td>\n",
       "      <td>0.493201</td>\n",
       "      <td>0.4550</td>\n",
       "    </tr>\n",
       "    <tr>\n",
       "      <th>1</th>\n",
       "      <td>SVM</td>\n",
       "      <td>0.4375</td>\n",
       "      <td>0.728271</td>\n",
       "      <td>0.455923</td>\n",
       "      <td>0.4375</td>\n",
       "    </tr>\n",
       "    <tr>\n",
       "      <th>2</th>\n",
       "      <td>KNN</td>\n",
       "      <td>0.3375</td>\n",
       "      <td>0.642909</td>\n",
       "      <td>0.344157</td>\n",
       "      <td>0.3375</td>\n",
       "    </tr>\n",
       "    <tr>\n",
       "      <th>3</th>\n",
       "      <td>XGBoost</td>\n",
       "      <td>0.4925</td>\n",
       "      <td>0.720630</td>\n",
       "      <td>0.525667</td>\n",
       "      <td>0.4925</td>\n",
       "    </tr>\n",
       "    <tr>\n",
       "      <th>4</th>\n",
       "      <td>Logistic Regression</td>\n",
       "      <td>0.3225</td>\n",
       "      <td>0.739040</td>\n",
       "      <td>0.288387</td>\n",
       "      <td>0.3225</td>\n",
       "    </tr>\n",
       "    <tr>\n",
       "      <th>5</th>\n",
       "      <td>Naive Bayes</td>\n",
       "      <td>0.2200</td>\n",
       "      <td>0.073857</td>\n",
       "      <td>0.110567</td>\n",
       "      <td>0.2200</td>\n",
       "    </tr>\n",
       "    <tr>\n",
       "      <th>6</th>\n",
       "      <td>Random Forest</td>\n",
       "      <td>0.3100</td>\n",
       "      <td>0.675283</td>\n",
       "      <td>0.279573</td>\n",
       "      <td>0.3100</td>\n",
       "    </tr>\n",
       "    <tr>\n",
       "      <th>7</th>\n",
       "      <td>Extra Tree</td>\n",
       "      <td>0.3000</td>\n",
       "      <td>0.724475</td>\n",
       "      <td>0.260050</td>\n",
       "      <td>0.3000</td>\n",
       "    </tr>\n",
       "    <tr>\n",
       "      <th>8</th>\n",
       "      <td>MLP Classifier</td>\n",
       "      <td>0.4625</td>\n",
       "      <td>0.743727</td>\n",
       "      <td>0.493084</td>\n",
       "      <td>0.4625</td>\n",
       "    </tr>\n",
       "  </tbody>\n",
       "</table>\n",
       "</div>"
      ],
      "text/plain": [
       "                Models  Accuracy  Precision Weighted  F1-Score Weigthed  \\\n",
       "0        Decision Tree    0.4550            0.688776           0.493201   \n",
       "1                  SVM    0.4375            0.728271           0.455923   \n",
       "2                  KNN    0.3375            0.642909           0.344157   \n",
       "3              XGBoost    0.4925            0.720630           0.525667   \n",
       "4  Logistic Regression    0.3225            0.739040           0.288387   \n",
       "5          Naive Bayes    0.2200            0.073857           0.110567   \n",
       "6        Random Forest    0.3100            0.675283           0.279573   \n",
       "7           Extra Tree    0.3000            0.724475           0.260050   \n",
       "8       MLP Classifier    0.4625            0.743727           0.493084   \n",
       "\n",
       "   Recall Weighted  \n",
       "0           0.4550  \n",
       "1           0.4375  \n",
       "2           0.3375  \n",
       "3           0.4925  \n",
       "4           0.3225  \n",
       "5           0.2200  \n",
       "6           0.3100  \n",
       "7           0.3000  \n",
       "8           0.4625  "
      ]
     },
     "execution_count": 82,
     "metadata": {},
     "output_type": "execute_result"
    }
   ],
   "source": [
    "pd.read_csv(PATH_METRICS + \"testing_metrics_pt.csv\")"
   ]
  },
  {
   "attachments": {},
   "cell_type": "markdown",
   "metadata": {},
   "source": [
    "Os modelos acabaram tendo poucas melhorias, sendo XGBoost o modelo com maior F1-Score em português (0.525667) e inglês (0.413457)."
   ]
  },
  {
   "attachments": {},
   "cell_type": "markdown",
   "metadata": {},
   "source": [
    "## 5. Treinando e testando com dataset balanceado\n",
    "### 5.1. Balanceando dataset levando em conta a quantidade de exemplos da menor classe"
   ]
  },
  {
   "cell_type": "code",
   "execution_count": 83,
   "metadata": {
    "tags": []
   },
   "outputs": [
    {
     "data": {
      "text/plain": [
       "y\n",
       "neutral     2782\n",
       "positive    1310\n",
       "negative     342\n",
       "Name: count, dtype: int64"
      ]
     },
     "execution_count": 83,
     "metadata": {},
     "output_type": "execute_result"
    }
   ],
   "source": [
    "y_train.value_counts()"
   ]
  },
  {
   "cell_type": "code",
   "execution_count": 84,
   "metadata": {
    "tags": []
   },
   "outputs": [
    {
     "data": {
      "text/plain": [
       "1       negative\n",
       "12      positive\n",
       "25      positive\n",
       "31      positive\n",
       "33      positive\n",
       "          ...   \n",
       "4429    negative\n",
       "4430    negative\n",
       "4431    negative\n",
       "4432    negative\n",
       "4433    negative\n",
       "Name: y, Length: 1026, dtype: object"
      ]
     },
     "execution_count": 84,
     "metadata": {},
     "output_type": "execute_result"
    }
   ],
   "source": [
    "classes = y_train.unique()\n",
    "elements_per_class = 342\n",
    "choosen_elements = []\n",
    "\n",
    "for c in classes:\n",
    "    y_class = y_train.loc[y_train == c]\n",
    "    \n",
    "    if len(y_class) >= elements_per_class:\n",
    "        choosen = y_class.sample(n=elements_per_class, random_state=42)\n",
    "    else:\n",
    "        choosen = y_class\n",
    "    \n",
    "    choosen_elements.append(choosen)\n",
    "\n",
    "y_train_balanced = pd.concat(choosen_elements).sort_index()\n",
    "y_train_balanced"
   ]
  },
  {
   "cell_type": "code",
   "execution_count": 85,
   "metadata": {
    "tags": []
   },
   "outputs": [],
   "source": [
    "y_train_le_balanced = y_train_le[y_train_balanced.index]"
   ]
  },
  {
   "cell_type": "code",
   "execution_count": 86,
   "metadata": {
    "tags": []
   },
   "outputs": [
    {
     "data": {
      "text/plain": [
       "(1026, 10332)"
      ]
     },
     "execution_count": 86,
     "metadata": {},
     "output_type": "execute_result"
    }
   ],
   "source": [
    "X_train_eng_balanced = X_train_eng[y_train_balanced.index]\n",
    "X_train_eng_balanced.shape"
   ]
  },
  {
   "cell_type": "code",
   "execution_count": 87,
   "metadata": {
    "tags": []
   },
   "outputs": [
    {
     "data": {
      "text/plain": [
       "(1026, 11672)"
      ]
     },
     "execution_count": 87,
     "metadata": {},
     "output_type": "execute_result"
    }
   ],
   "source": [
    "X_train_pt_balanced = X_train_pt[y_train_balanced.index]\n",
    "X_train_pt_balanced.shape"
   ]
  },
  {
   "attachments": {},
   "cell_type": "markdown",
   "metadata": {},
   "source": [
    "### Textos em inglês\n",
    "- Treino"
   ]
  },
  {
   "cell_type": "code",
   "execution_count": 88,
   "metadata": {},
   "outputs": [
    {
     "data": {
      "text/html": [
       "<style>#sk-container-id-3 {color: black;}#sk-container-id-3 pre{padding: 0;}#sk-container-id-3 div.sk-toggleable {background-color: white;}#sk-container-id-3 label.sk-toggleable__label {cursor: pointer;display: block;width: 100%;margin-bottom: 0;padding: 0.3em;box-sizing: border-box;text-align: center;}#sk-container-id-3 label.sk-toggleable__label-arrow:before {content: \"▸\";float: left;margin-right: 0.25em;color: #696969;}#sk-container-id-3 label.sk-toggleable__label-arrow:hover:before {color: black;}#sk-container-id-3 div.sk-estimator:hover label.sk-toggleable__label-arrow:before {color: black;}#sk-container-id-3 div.sk-toggleable__content {max-height: 0;max-width: 0;overflow: hidden;text-align: left;background-color: #f0f8ff;}#sk-container-id-3 div.sk-toggleable__content pre {margin: 0.2em;color: black;border-radius: 0.25em;background-color: #f0f8ff;}#sk-container-id-3 input.sk-toggleable__control:checked~div.sk-toggleable__content {max-height: 200px;max-width: 100%;overflow: auto;}#sk-container-id-3 input.sk-toggleable__control:checked~label.sk-toggleable__label-arrow:before {content: \"▾\";}#sk-container-id-3 div.sk-estimator input.sk-toggleable__control:checked~label.sk-toggleable__label {background-color: #d4ebff;}#sk-container-id-3 div.sk-label input.sk-toggleable__control:checked~label.sk-toggleable__label {background-color: #d4ebff;}#sk-container-id-3 input.sk-hidden--visually {border: 0;clip: rect(1px 1px 1px 1px);clip: rect(1px, 1px, 1px, 1px);height: 1px;margin: -1px;overflow: hidden;padding: 0;position: absolute;width: 1px;}#sk-container-id-3 div.sk-estimator {font-family: monospace;background-color: #f0f8ff;border: 1px dotted black;border-radius: 0.25em;box-sizing: border-box;margin-bottom: 0.5em;}#sk-container-id-3 div.sk-estimator:hover {background-color: #d4ebff;}#sk-container-id-3 div.sk-parallel-item::after {content: \"\";width: 100%;border-bottom: 1px solid gray;flex-grow: 1;}#sk-container-id-3 div.sk-label:hover label.sk-toggleable__label {background-color: #d4ebff;}#sk-container-id-3 div.sk-serial::before {content: \"\";position: absolute;border-left: 1px solid gray;box-sizing: border-box;top: 0;bottom: 0;left: 50%;z-index: 0;}#sk-container-id-3 div.sk-serial {display: flex;flex-direction: column;align-items: center;background-color: white;padding-right: 0.2em;padding-left: 0.2em;position: relative;}#sk-container-id-3 div.sk-item {position: relative;z-index: 1;}#sk-container-id-3 div.sk-parallel {display: flex;align-items: stretch;justify-content: center;background-color: white;position: relative;}#sk-container-id-3 div.sk-item::before, #sk-container-id-3 div.sk-parallel-item::before {content: \"\";position: absolute;border-left: 1px solid gray;box-sizing: border-box;top: 0;bottom: 0;left: 50%;z-index: -1;}#sk-container-id-3 div.sk-parallel-item {display: flex;flex-direction: column;z-index: 1;position: relative;background-color: white;}#sk-container-id-3 div.sk-parallel-item:first-child::after {align-self: flex-end;width: 50%;}#sk-container-id-3 div.sk-parallel-item:last-child::after {align-self: flex-start;width: 50%;}#sk-container-id-3 div.sk-parallel-item:only-child::after {width: 0;}#sk-container-id-3 div.sk-dashed-wrapped {border: 1px dashed gray;margin: 0 0.4em 0.5em 0.4em;box-sizing: border-box;padding-bottom: 0.4em;background-color: white;}#sk-container-id-3 div.sk-label label {font-family: monospace;font-weight: bold;display: inline-block;line-height: 1.2em;}#sk-container-id-3 div.sk-label-container {text-align: center;}#sk-container-id-3 div.sk-container {/* jupyter's `normalize.less` sets `[hidden] { display: none; }` but bootstrap.min.css set `[hidden] { display: none !important; }` so we also need the `!important` here to be able to override the default hidden behavior on the sphinx rendered scikit-learn.org. See: https://github.com/scikit-learn/scikit-learn/issues/21755 */display: inline-block !important;position: relative;}#sk-container-id-3 div.sk-text-repr-fallback {display: none;}</style><div id=\"sk-container-id-3\" class=\"sk-top-container\"><div class=\"sk-text-repr-fallback\"><pre>MLPClassifier()</pre><b>In a Jupyter environment, please rerun this cell to show the HTML representation or trust the notebook. <br />On GitHub, the HTML representation is unable to render, please try loading this page with nbviewer.org.</b></div><div class=\"sk-container\" hidden><div class=\"sk-item\"><div class=\"sk-estimator sk-toggleable\"><input class=\"sk-toggleable__control sk-hidden--visually\" id=\"sk-estimator-id-3\" type=\"checkbox\" checked><label for=\"sk-estimator-id-3\" class=\"sk-toggleable__label sk-toggleable__label-arrow\">MLPClassifier</label><div class=\"sk-toggleable__content\"><pre>MLPClassifier()</pre></div></div></div></div></div>"
      ],
      "text/plain": [
       "MLPClassifier()"
      ]
     },
     "execution_count": 88,
     "metadata": {},
     "output_type": "execute_result"
    }
   ],
   "source": [
    "decision_tree.fit(X_train_eng_balanced, y_train_balanced)\n",
    "svm_model.fit(X_train_eng_balanced, y_train_balanced)\n",
    "kNN.fit(X_train_eng_balanced, y_train_balanced)\n",
    "xgb_model.fit(X_train_eng_balanced, y_train_le_balanced)\n",
    "lr_model.fit(X_train_eng_balanced, y_train_balanced)\n",
    "nb_model.fit(X_train_eng_balanced, y_train_balanced)\n",
    "rf_model.fit(X_train_eng_balanced, y_train_balanced)\n",
    "etc_model.fit(X_train_eng_balanced, y_train_balanced)\n",
    "mlp.fit(X_train_eng_balanced, y_train_balanced)"
   ]
  },
  {
   "attachments": {},
   "cell_type": "markdown",
   "metadata": {},
   "source": [
    "- Teste"
   ]
  },
  {
   "cell_type": "code",
   "execution_count": 89,
   "metadata": {
    "collapsed": true,
    "jupyter": {
     "outputs_hidden": true
    },
    "tags": []
   },
   "outputs": [],
   "source": [
    "testing_metrics(y_test, decision_tree.predict(X_test_eng), \"eng\", \"Decision Tree\", \"BL\")\n",
    "testing_metrics(y_test, svm_model.predict(X_test_eng), \"eng\", \"SVM\", \"BL\")\n",
    "testing_metrics(y_test, kNN.predict(X_test_eng), \"eng\", \"KNN\", \"BL\")\n",
    "testing_metrics(y_test_le, xgb_model.predict(X_test_eng), \"eng\", \"XGBoost\", \"BL\")\n",
    "testing_metrics(y_test, lr_model.predict(X_test_eng), \"eng\", \"Logistic Regression\", \"BL\")\n",
    "testing_metrics(y_test, nb_model.predict(X_test_eng), \"eng\", \"Naive Bayes\", \"BL\")\n",
    "testing_metrics(y_test, rf_model.predict(X_test_eng), \"eng\", \"Random Forest\", \"BL\")\n",
    "testing_metrics(y_test, etc_model.predict(X_test_eng), \"eng\", \"Extra Tree\", \"BL\")\n",
    "testing_metrics(y_test, mlp.predict(X_test_eng), \"eng\", \"MLP Classifier\", \"BL\")"
   ]
  },
  {
   "cell_type": "code",
   "execution_count": 90,
   "metadata": {
    "tags": []
   },
   "outputs": [
    {
     "data": {
      "text/html": [
       "<div>\n",
       "<style scoped>\n",
       "    .dataframe tbody tr th:only-of-type {\n",
       "        vertical-align: middle;\n",
       "    }\n",
       "\n",
       "    .dataframe tbody tr th {\n",
       "        vertical-align: top;\n",
       "    }\n",
       "\n",
       "    .dataframe thead th {\n",
       "        text-align: right;\n",
       "    }\n",
       "</style>\n",
       "<table border=\"1\" class=\"dataframe\">\n",
       "  <thead>\n",
       "    <tr style=\"text-align: right;\">\n",
       "      <th></th>\n",
       "      <th>Models</th>\n",
       "      <th>Accuracy</th>\n",
       "      <th>Precision Weighted</th>\n",
       "      <th>F1-Score Weigthed</th>\n",
       "      <th>Recall Weighted</th>\n",
       "    </tr>\n",
       "  </thead>\n",
       "  <tbody>\n",
       "    <tr>\n",
       "      <th>0</th>\n",
       "      <td>Decision Tree</td>\n",
       "      <td>0.5350</td>\n",
       "      <td>0.668954</td>\n",
       "      <td>0.571192</td>\n",
       "      <td>0.5350</td>\n",
       "    </tr>\n",
       "    <tr>\n",
       "      <th>1</th>\n",
       "      <td>SVM</td>\n",
       "      <td>0.5775</td>\n",
       "      <td>0.699035</td>\n",
       "      <td>0.609989</td>\n",
       "      <td>0.5775</td>\n",
       "    </tr>\n",
       "    <tr>\n",
       "      <th>2</th>\n",
       "      <td>KNN</td>\n",
       "      <td>0.5375</td>\n",
       "      <td>0.606984</td>\n",
       "      <td>0.560663</td>\n",
       "      <td>0.5375</td>\n",
       "    </tr>\n",
       "    <tr>\n",
       "      <th>3</th>\n",
       "      <td>XGBoost</td>\n",
       "      <td>0.5975</td>\n",
       "      <td>0.698080</td>\n",
       "      <td>0.626977</td>\n",
       "      <td>0.5975</td>\n",
       "    </tr>\n",
       "    <tr>\n",
       "      <th>4</th>\n",
       "      <td>Logistic Regression</td>\n",
       "      <td>0.5525</td>\n",
       "      <td>0.700614</td>\n",
       "      <td>0.586288</td>\n",
       "      <td>0.5525</td>\n",
       "    </tr>\n",
       "    <tr>\n",
       "      <th>5</th>\n",
       "      <td>Naive Bayes</td>\n",
       "      <td>0.7025</td>\n",
       "      <td>0.739830</td>\n",
       "      <td>0.714935</td>\n",
       "      <td>0.7025</td>\n",
       "    </tr>\n",
       "    <tr>\n",
       "      <th>6</th>\n",
       "      <td>Random Forest</td>\n",
       "      <td>0.5325</td>\n",
       "      <td>0.696377</td>\n",
       "      <td>0.568465</td>\n",
       "      <td>0.5325</td>\n",
       "    </tr>\n",
       "    <tr>\n",
       "      <th>7</th>\n",
       "      <td>Extra Tree</td>\n",
       "      <td>0.5375</td>\n",
       "      <td>0.691626</td>\n",
       "      <td>0.571306</td>\n",
       "      <td>0.5375</td>\n",
       "    </tr>\n",
       "    <tr>\n",
       "      <th>8</th>\n",
       "      <td>MLP Classifier</td>\n",
       "      <td>0.5575</td>\n",
       "      <td>0.669204</td>\n",
       "      <td>0.591203</td>\n",
       "      <td>0.5575</td>\n",
       "    </tr>\n",
       "  </tbody>\n",
       "</table>\n",
       "</div>"
      ],
      "text/plain": [
       "                Models  Accuracy  Precision Weighted  F1-Score Weigthed  \\\n",
       "0        Decision Tree    0.5350            0.668954           0.571192   \n",
       "1                  SVM    0.5775            0.699035           0.609989   \n",
       "2                  KNN    0.5375            0.606984           0.560663   \n",
       "3              XGBoost    0.5975            0.698080           0.626977   \n",
       "4  Logistic Regression    0.5525            0.700614           0.586288   \n",
       "5          Naive Bayes    0.7025            0.739830           0.714935   \n",
       "6        Random Forest    0.5325            0.696377           0.568465   \n",
       "7           Extra Tree    0.5375            0.691626           0.571306   \n",
       "8       MLP Classifier    0.5575            0.669204           0.591203   \n",
       "\n",
       "   Recall Weighted  \n",
       "0           0.5350  \n",
       "1           0.5775  \n",
       "2           0.5375  \n",
       "3           0.5975  \n",
       "4           0.5525  \n",
       "5           0.7025  \n",
       "6           0.5325  \n",
       "7           0.5375  \n",
       "8           0.5575  "
      ]
     },
     "execution_count": 90,
     "metadata": {},
     "output_type": "execute_result"
    }
   ],
   "source": [
    "pd.read_csv(PATH_METRICS + \"BLtesting_metrics_eng.csv\")"
   ]
  },
  {
   "attachments": {},
   "cell_type": "markdown",
   "metadata": {},
   "source": [
    "### Textos em português\n",
    "- Treino"
   ]
  },
  {
   "cell_type": "code",
   "execution_count": 91,
   "metadata": {
    "tags": []
   },
   "outputs": [
    {
     "data": {
      "text/html": [
       "<style>#sk-container-id-4 {color: black;}#sk-container-id-4 pre{padding: 0;}#sk-container-id-4 div.sk-toggleable {background-color: white;}#sk-container-id-4 label.sk-toggleable__label {cursor: pointer;display: block;width: 100%;margin-bottom: 0;padding: 0.3em;box-sizing: border-box;text-align: center;}#sk-container-id-4 label.sk-toggleable__label-arrow:before {content: \"▸\";float: left;margin-right: 0.25em;color: #696969;}#sk-container-id-4 label.sk-toggleable__label-arrow:hover:before {color: black;}#sk-container-id-4 div.sk-estimator:hover label.sk-toggleable__label-arrow:before {color: black;}#sk-container-id-4 div.sk-toggleable__content {max-height: 0;max-width: 0;overflow: hidden;text-align: left;background-color: #f0f8ff;}#sk-container-id-4 div.sk-toggleable__content pre {margin: 0.2em;color: black;border-radius: 0.25em;background-color: #f0f8ff;}#sk-container-id-4 input.sk-toggleable__control:checked~div.sk-toggleable__content {max-height: 200px;max-width: 100%;overflow: auto;}#sk-container-id-4 input.sk-toggleable__control:checked~label.sk-toggleable__label-arrow:before {content: \"▾\";}#sk-container-id-4 div.sk-estimator input.sk-toggleable__control:checked~label.sk-toggleable__label {background-color: #d4ebff;}#sk-container-id-4 div.sk-label input.sk-toggleable__control:checked~label.sk-toggleable__label {background-color: #d4ebff;}#sk-container-id-4 input.sk-hidden--visually {border: 0;clip: rect(1px 1px 1px 1px);clip: rect(1px, 1px, 1px, 1px);height: 1px;margin: -1px;overflow: hidden;padding: 0;position: absolute;width: 1px;}#sk-container-id-4 div.sk-estimator {font-family: monospace;background-color: #f0f8ff;border: 1px dotted black;border-radius: 0.25em;box-sizing: border-box;margin-bottom: 0.5em;}#sk-container-id-4 div.sk-estimator:hover {background-color: #d4ebff;}#sk-container-id-4 div.sk-parallel-item::after {content: \"\";width: 100%;border-bottom: 1px solid gray;flex-grow: 1;}#sk-container-id-4 div.sk-label:hover label.sk-toggleable__label {background-color: #d4ebff;}#sk-container-id-4 div.sk-serial::before {content: \"\";position: absolute;border-left: 1px solid gray;box-sizing: border-box;top: 0;bottom: 0;left: 50%;z-index: 0;}#sk-container-id-4 div.sk-serial {display: flex;flex-direction: column;align-items: center;background-color: white;padding-right: 0.2em;padding-left: 0.2em;position: relative;}#sk-container-id-4 div.sk-item {position: relative;z-index: 1;}#sk-container-id-4 div.sk-parallel {display: flex;align-items: stretch;justify-content: center;background-color: white;position: relative;}#sk-container-id-4 div.sk-item::before, #sk-container-id-4 div.sk-parallel-item::before {content: \"\";position: absolute;border-left: 1px solid gray;box-sizing: border-box;top: 0;bottom: 0;left: 50%;z-index: -1;}#sk-container-id-4 div.sk-parallel-item {display: flex;flex-direction: column;z-index: 1;position: relative;background-color: white;}#sk-container-id-4 div.sk-parallel-item:first-child::after {align-self: flex-end;width: 50%;}#sk-container-id-4 div.sk-parallel-item:last-child::after {align-self: flex-start;width: 50%;}#sk-container-id-4 div.sk-parallel-item:only-child::after {width: 0;}#sk-container-id-4 div.sk-dashed-wrapped {border: 1px dashed gray;margin: 0 0.4em 0.5em 0.4em;box-sizing: border-box;padding-bottom: 0.4em;background-color: white;}#sk-container-id-4 div.sk-label label {font-family: monospace;font-weight: bold;display: inline-block;line-height: 1.2em;}#sk-container-id-4 div.sk-label-container {text-align: center;}#sk-container-id-4 div.sk-container {/* jupyter's `normalize.less` sets `[hidden] { display: none; }` but bootstrap.min.css set `[hidden] { display: none !important; }` so we also need the `!important` here to be able to override the default hidden behavior on the sphinx rendered scikit-learn.org. See: https://github.com/scikit-learn/scikit-learn/issues/21755 */display: inline-block !important;position: relative;}#sk-container-id-4 div.sk-text-repr-fallback {display: none;}</style><div id=\"sk-container-id-4\" class=\"sk-top-container\"><div class=\"sk-text-repr-fallback\"><pre>MLPClassifier()</pre><b>In a Jupyter environment, please rerun this cell to show the HTML representation or trust the notebook. <br />On GitHub, the HTML representation is unable to render, please try loading this page with nbviewer.org.</b></div><div class=\"sk-container\" hidden><div class=\"sk-item\"><div class=\"sk-estimator sk-toggleable\"><input class=\"sk-toggleable__control sk-hidden--visually\" id=\"sk-estimator-id-4\" type=\"checkbox\" checked><label for=\"sk-estimator-id-4\" class=\"sk-toggleable__label sk-toggleable__label-arrow\">MLPClassifier</label><div class=\"sk-toggleable__content\"><pre>MLPClassifier()</pre></div></div></div></div></div>"
      ],
      "text/plain": [
       "MLPClassifier()"
      ]
     },
     "execution_count": 91,
     "metadata": {},
     "output_type": "execute_result"
    }
   ],
   "source": [
    "decision_tree.fit(X_train_pt_balanced, y_train_balanced)\n",
    "svm_model.fit(X_train_pt_balanced, y_train_balanced)\n",
    "kNN.fit(X_train_pt_balanced, y_train_balanced)\n",
    "xgb_model.fit(X_train_pt_balanced, y_train_le_balanced)\n",
    "lr_model.fit(X_train_pt_balanced, y_train_balanced)\n",
    "nb_model.fit(X_train_pt_balanced, y_train_balanced)\n",
    "rf_model.fit(X_train_pt_balanced, y_train_balanced)\n",
    "etc_model.fit(X_train_pt_balanced, y_train_balanced)\n",
    "mlp.fit(X_train_pt_balanced, y_train_balanced)"
   ]
  },
  {
   "attachments": {},
   "cell_type": "markdown",
   "metadata": {},
   "source": [
    "- Teste"
   ]
  },
  {
   "cell_type": "code",
   "execution_count": 92,
   "metadata": {
    "collapsed": true,
    "jupyter": {
     "outputs_hidden": true
    },
    "tags": []
   },
   "outputs": [],
   "source": [
    "testing_metrics(y_test, decision_tree.predict(X_test_pt), \"pt\", \"Decision Tree\", \"BL\")\n",
    "testing_metrics(y_test, svm_model.predict(X_test_pt), \"pt\", \"SVM\", \"BL\")\n",
    "testing_metrics(y_test, kNN.predict(X_test_pt), \"pt\", \"KNN\", \"BL\")\n",
    "testing_metrics(y_test_le, xgb_model.predict(X_test_pt), \"pt\", \"XGBoost\", \"BL\")\n",
    "testing_metrics(y_test, lr_model.predict(X_test_pt), \"pt\", \"Logistic Regression\", \"BL\")\n",
    "testing_metrics(y_test, nb_model.predict(X_test_pt), \"pt\", \"Naive Bayes\", \"BL\")\n",
    "testing_metrics(y_test, rf_model.predict(X_test_pt), \"pt\", \"Random Forest\", \"BL\")\n",
    "testing_metrics(y_test, etc_model.predict(X_test_pt), \"pt\", \"Extra Tree\", \"BL\")\n",
    "testing_metrics(y_test, mlp.predict(X_test_pt), \"pt\", \"MLP Classifier\", \"BL\")"
   ]
  },
  {
   "cell_type": "code",
   "execution_count": 93,
   "metadata": {
    "tags": []
   },
   "outputs": [
    {
     "data": {
      "text/html": [
       "<div>\n",
       "<style scoped>\n",
       "    .dataframe tbody tr th:only-of-type {\n",
       "        vertical-align: middle;\n",
       "    }\n",
       "\n",
       "    .dataframe tbody tr th {\n",
       "        vertical-align: top;\n",
       "    }\n",
       "\n",
       "    .dataframe thead th {\n",
       "        text-align: right;\n",
       "    }\n",
       "</style>\n",
       "<table border=\"1\" class=\"dataframe\">\n",
       "  <thead>\n",
       "    <tr style=\"text-align: right;\">\n",
       "      <th></th>\n",
       "      <th>Models</th>\n",
       "      <th>Accuracy</th>\n",
       "      <th>Precision Weighted</th>\n",
       "      <th>F1-Score Weigthed</th>\n",
       "      <th>Recall Weighted</th>\n",
       "    </tr>\n",
       "  </thead>\n",
       "  <tbody>\n",
       "    <tr>\n",
       "      <th>0</th>\n",
       "      <td>Decision Tree</td>\n",
       "      <td>0.5950</td>\n",
       "      <td>0.689786</td>\n",
       "      <td>0.628642</td>\n",
       "      <td>0.5950</td>\n",
       "    </tr>\n",
       "    <tr>\n",
       "      <th>1</th>\n",
       "      <td>SVM</td>\n",
       "      <td>0.5675</td>\n",
       "      <td>0.685662</td>\n",
       "      <td>0.602382</td>\n",
       "      <td>0.5675</td>\n",
       "    </tr>\n",
       "    <tr>\n",
       "      <th>2</th>\n",
       "      <td>KNN</td>\n",
       "      <td>0.5550</td>\n",
       "      <td>0.621997</td>\n",
       "      <td>0.579884</td>\n",
       "      <td>0.5550</td>\n",
       "    </tr>\n",
       "    <tr>\n",
       "      <th>3</th>\n",
       "      <td>XGBoost</td>\n",
       "      <td>0.6300</td>\n",
       "      <td>0.696022</td>\n",
       "      <td>0.654409</td>\n",
       "      <td>0.6300</td>\n",
       "    </tr>\n",
       "    <tr>\n",
       "      <th>4</th>\n",
       "      <td>Logistic Regression</td>\n",
       "      <td>0.5850</td>\n",
       "      <td>0.711554</td>\n",
       "      <td>0.617721</td>\n",
       "      <td>0.5850</td>\n",
       "    </tr>\n",
       "    <tr>\n",
       "      <th>5</th>\n",
       "      <td>Naive Bayes</td>\n",
       "      <td>0.6150</td>\n",
       "      <td>0.681730</td>\n",
       "      <td>0.640046</td>\n",
       "      <td>0.6150</td>\n",
       "    </tr>\n",
       "    <tr>\n",
       "      <th>6</th>\n",
       "      <td>Random Forest</td>\n",
       "      <td>0.5975</td>\n",
       "      <td>0.701167</td>\n",
       "      <td>0.622704</td>\n",
       "      <td>0.5975</td>\n",
       "    </tr>\n",
       "    <tr>\n",
       "      <th>7</th>\n",
       "      <td>Extra Tree</td>\n",
       "      <td>0.6025</td>\n",
       "      <td>0.686345</td>\n",
       "      <td>0.628512</td>\n",
       "      <td>0.6025</td>\n",
       "    </tr>\n",
       "    <tr>\n",
       "      <th>8</th>\n",
       "      <td>MLP Classifier</td>\n",
       "      <td>0.5525</td>\n",
       "      <td>0.652658</td>\n",
       "      <td>0.587001</td>\n",
       "      <td>0.5525</td>\n",
       "    </tr>\n",
       "  </tbody>\n",
       "</table>\n",
       "</div>"
      ],
      "text/plain": [
       "                Models  Accuracy  Precision Weighted  F1-Score Weigthed  \\\n",
       "0        Decision Tree    0.5950            0.689786           0.628642   \n",
       "1                  SVM    0.5675            0.685662           0.602382   \n",
       "2                  KNN    0.5550            0.621997           0.579884   \n",
       "3              XGBoost    0.6300            0.696022           0.654409   \n",
       "4  Logistic Regression    0.5850            0.711554           0.617721   \n",
       "5          Naive Bayes    0.6150            0.681730           0.640046   \n",
       "6        Random Forest    0.5975            0.701167           0.622704   \n",
       "7           Extra Tree    0.6025            0.686345           0.628512   \n",
       "8       MLP Classifier    0.5525            0.652658           0.587001   \n",
       "\n",
       "   Recall Weighted  \n",
       "0           0.5950  \n",
       "1           0.5675  \n",
       "2           0.5550  \n",
       "3           0.6300  \n",
       "4           0.5850  \n",
       "5           0.6150  \n",
       "6           0.5975  \n",
       "7           0.6025  \n",
       "8           0.5525  "
      ]
     },
     "execution_count": 93,
     "metadata": {},
     "output_type": "execute_result"
    }
   ],
   "source": [
    "pd.read_csv(PATH_METRICS + \"BLtesting_metrics_pt.csv\")"
   ]
  },
  {
   "attachments": {},
   "cell_type": "markdown",
   "metadata": {},
   "source": [
    "Naive Bayes se destacou no teste em textos em inglês, com F1-Score de 0.714935. Em português, XGBoost continua com maior F1-Score dentre os demais modelos, sendo igual a 0.654409."
   ]
  },
  {
   "attachments": {},
   "cell_type": "markdown",
   "metadata": {},
   "source": [
    "### 5.2. Balanceando dataset visando aumentar a quantidade de exemplos das menores classes"
   ]
  },
  {
   "cell_type": "code",
   "execution_count": 94,
   "metadata": {
    "collapsed": true,
    "jupyter": {
     "outputs_hidden": true
    },
    "tags": []
   },
   "outputs": [],
   "source": [
    "# !pip install imblearn"
   ]
  },
  {
   "cell_type": "code",
   "execution_count": 95,
   "metadata": {
    "tags": []
   },
   "outputs": [],
   "source": [
    "from imblearn.over_sampling import ADASYN"
   ]
  },
  {
   "attachments": {},
   "cell_type": "markdown",
   "metadata": {},
   "source": [
    "### Textos em inglês\n",
    "- Treino"
   ]
  },
  {
   "cell_type": "code",
   "execution_count": 96,
   "metadata": {
    "tags": []
   },
   "outputs": [],
   "source": [
    "adasyn = ADASYN()\n",
    "X_train_eng_resampled, y_train_resampled = adasyn.fit_resample(X_train_eng, y_train)\n",
    "_, y_train_le_resampled = adasyn.fit_resample(X_train_eng, y_train_le)"
   ]
  },
  {
   "cell_type": "code",
   "execution_count": 97,
   "metadata": {},
   "outputs": [
    {
     "name": "stderr",
     "output_type": "stream",
     "text": [
      "c:\\Users\\ArkadeUser\\Documents\\projects\\nlp-sentimental-analysis\\venv\\Lib\\site-packages\\sklearn\\linear_model\\_logistic.py:460: ConvergenceWarning: lbfgs failed to converge (status=1):\n",
      "STOP: TOTAL NO. of ITERATIONS REACHED LIMIT.\n",
      "\n",
      "Increase the number of iterations (max_iter) or scale the data as shown in:\n",
      "    https://scikit-learn.org/stable/modules/preprocessing.html\n",
      "Please also refer to the documentation for alternative solver options:\n",
      "    https://scikit-learn.org/stable/modules/linear_model.html#logistic-regression\n",
      "  n_iter_i = _check_optimize_result(\n"
     ]
    },
    {
     "data": {
      "text/html": [
       "<style>#sk-container-id-5 {color: black;}#sk-container-id-5 pre{padding: 0;}#sk-container-id-5 div.sk-toggleable {background-color: white;}#sk-container-id-5 label.sk-toggleable__label {cursor: pointer;display: block;width: 100%;margin-bottom: 0;padding: 0.3em;box-sizing: border-box;text-align: center;}#sk-container-id-5 label.sk-toggleable__label-arrow:before {content: \"▸\";float: left;margin-right: 0.25em;color: #696969;}#sk-container-id-5 label.sk-toggleable__label-arrow:hover:before {color: black;}#sk-container-id-5 div.sk-estimator:hover label.sk-toggleable__label-arrow:before {color: black;}#sk-container-id-5 div.sk-toggleable__content {max-height: 0;max-width: 0;overflow: hidden;text-align: left;background-color: #f0f8ff;}#sk-container-id-5 div.sk-toggleable__content pre {margin: 0.2em;color: black;border-radius: 0.25em;background-color: #f0f8ff;}#sk-container-id-5 input.sk-toggleable__control:checked~div.sk-toggleable__content {max-height: 200px;max-width: 100%;overflow: auto;}#sk-container-id-5 input.sk-toggleable__control:checked~label.sk-toggleable__label-arrow:before {content: \"▾\";}#sk-container-id-5 div.sk-estimator input.sk-toggleable__control:checked~label.sk-toggleable__label {background-color: #d4ebff;}#sk-container-id-5 div.sk-label input.sk-toggleable__control:checked~label.sk-toggleable__label {background-color: #d4ebff;}#sk-container-id-5 input.sk-hidden--visually {border: 0;clip: rect(1px 1px 1px 1px);clip: rect(1px, 1px, 1px, 1px);height: 1px;margin: -1px;overflow: hidden;padding: 0;position: absolute;width: 1px;}#sk-container-id-5 div.sk-estimator {font-family: monospace;background-color: #f0f8ff;border: 1px dotted black;border-radius: 0.25em;box-sizing: border-box;margin-bottom: 0.5em;}#sk-container-id-5 div.sk-estimator:hover {background-color: #d4ebff;}#sk-container-id-5 div.sk-parallel-item::after {content: \"\";width: 100%;border-bottom: 1px solid gray;flex-grow: 1;}#sk-container-id-5 div.sk-label:hover label.sk-toggleable__label {background-color: #d4ebff;}#sk-container-id-5 div.sk-serial::before {content: \"\";position: absolute;border-left: 1px solid gray;box-sizing: border-box;top: 0;bottom: 0;left: 50%;z-index: 0;}#sk-container-id-5 div.sk-serial {display: flex;flex-direction: column;align-items: center;background-color: white;padding-right: 0.2em;padding-left: 0.2em;position: relative;}#sk-container-id-5 div.sk-item {position: relative;z-index: 1;}#sk-container-id-5 div.sk-parallel {display: flex;align-items: stretch;justify-content: center;background-color: white;position: relative;}#sk-container-id-5 div.sk-item::before, #sk-container-id-5 div.sk-parallel-item::before {content: \"\";position: absolute;border-left: 1px solid gray;box-sizing: border-box;top: 0;bottom: 0;left: 50%;z-index: -1;}#sk-container-id-5 div.sk-parallel-item {display: flex;flex-direction: column;z-index: 1;position: relative;background-color: white;}#sk-container-id-5 div.sk-parallel-item:first-child::after {align-self: flex-end;width: 50%;}#sk-container-id-5 div.sk-parallel-item:last-child::after {align-self: flex-start;width: 50%;}#sk-container-id-5 div.sk-parallel-item:only-child::after {width: 0;}#sk-container-id-5 div.sk-dashed-wrapped {border: 1px dashed gray;margin: 0 0.4em 0.5em 0.4em;box-sizing: border-box;padding-bottom: 0.4em;background-color: white;}#sk-container-id-5 div.sk-label label {font-family: monospace;font-weight: bold;display: inline-block;line-height: 1.2em;}#sk-container-id-5 div.sk-label-container {text-align: center;}#sk-container-id-5 div.sk-container {/* jupyter's `normalize.less` sets `[hidden] { display: none; }` but bootstrap.min.css set `[hidden] { display: none !important; }` so we also need the `!important` here to be able to override the default hidden behavior on the sphinx rendered scikit-learn.org. See: https://github.com/scikit-learn/scikit-learn/issues/21755 */display: inline-block !important;position: relative;}#sk-container-id-5 div.sk-text-repr-fallback {display: none;}</style><div id=\"sk-container-id-5\" class=\"sk-top-container\"><div class=\"sk-text-repr-fallback\"><pre>MLPClassifier()</pre><b>In a Jupyter environment, please rerun this cell to show the HTML representation or trust the notebook. <br />On GitHub, the HTML representation is unable to render, please try loading this page with nbviewer.org.</b></div><div class=\"sk-container\" hidden><div class=\"sk-item\"><div class=\"sk-estimator sk-toggleable\"><input class=\"sk-toggleable__control sk-hidden--visually\" id=\"sk-estimator-id-5\" type=\"checkbox\" checked><label for=\"sk-estimator-id-5\" class=\"sk-toggleable__label sk-toggleable__label-arrow\">MLPClassifier</label><div class=\"sk-toggleable__content\"><pre>MLPClassifier()</pre></div></div></div></div></div>"
      ],
      "text/plain": [
       "MLPClassifier()"
      ]
     },
     "execution_count": 97,
     "metadata": {},
     "output_type": "execute_result"
    }
   ],
   "source": [
    "decision_tree.fit(X_train_eng_resampled, y_train_resampled)\n",
    "svm_model.fit(X_train_eng_resampled, y_train_resampled)\n",
    "kNN.fit(X_train_eng_resampled, y_train_resampled)\n",
    "xgb_model.fit(X_train_eng_resampled, y_train_le_resampled)\n",
    "lr_model.fit(X_train_eng_resampled, y_train_resampled)\n",
    "nb_model.fit(X_train_eng_resampled, y_train_resampled)\n",
    "rf_model.fit(X_train_eng_resampled, y_train_resampled)\n",
    "etc_model.fit(X_train_eng_resampled, y_train_resampled)\n",
    "mlp.fit(X_train_eng_resampled, y_train_resampled)"
   ]
  },
  {
   "attachments": {},
   "cell_type": "markdown",
   "metadata": {},
   "source": [
    "- Teste"
   ]
  },
  {
   "cell_type": "code",
   "execution_count": 98,
   "metadata": {
    "collapsed": true,
    "jupyter": {
     "outputs_hidden": true
    },
    "tags": []
   },
   "outputs": [],
   "source": [
    "testing_metrics(y_test, decision_tree.predict(X_test_eng), \"eng\", \"Decision Tree\", \"RS\")\n",
    "testing_metrics(y_test, svm_model.predict(X_test_eng), \"eng\", \"SVM\", \"RS\")\n",
    "testing_metrics(y_test, kNN.predict(X_test_eng), \"eng\", \"KNN\", \"RS\")\n",
    "testing_metrics(y_test_le, xgb_model.predict(X_test_eng), \"eng\", \"XGBoost\", \"RS\")\n",
    "testing_metrics(y_test, lr_model.predict(X_test_eng), \"eng\", \"Logistic Regression\", \"RS\")\n",
    "testing_metrics(y_test, nb_model.predict(X_test_eng), \"eng\", \"Naive Bayes\", \"RS\")\n",
    "testing_metrics(y_test, rf_model.predict(X_test_eng), \"eng\", \"Random Forest\", \"RS\")\n",
    "testing_metrics(y_test, etc_model.predict(X_test_eng), \"eng\", \"Extra Tree\", \"RS\")\n",
    "testing_metrics(y_test, mlp.predict(X_test_eng), \"eng\", \"MLP Classifier\", \"RS\")"
   ]
  },
  {
   "cell_type": "code",
   "execution_count": 99,
   "metadata": {},
   "outputs": [
    {
     "data": {
      "text/html": [
       "<div>\n",
       "<style scoped>\n",
       "    .dataframe tbody tr th:only-of-type {\n",
       "        vertical-align: middle;\n",
       "    }\n",
       "\n",
       "    .dataframe tbody tr th {\n",
       "        vertical-align: top;\n",
       "    }\n",
       "\n",
       "    .dataframe thead th {\n",
       "        text-align: right;\n",
       "    }\n",
       "</style>\n",
       "<table border=\"1\" class=\"dataframe\">\n",
       "  <thead>\n",
       "    <tr style=\"text-align: right;\">\n",
       "      <th></th>\n",
       "      <th>Models</th>\n",
       "      <th>Accuracy</th>\n",
       "      <th>Precision Weighted</th>\n",
       "      <th>F1-Score Weigthed</th>\n",
       "      <th>Recall Weighted</th>\n",
       "    </tr>\n",
       "  </thead>\n",
       "  <tbody>\n",
       "    <tr>\n",
       "      <th>0</th>\n",
       "      <td>Decision Tree</td>\n",
       "      <td>0.4225</td>\n",
       "      <td>0.672256</td>\n",
       "      <td>0.454549</td>\n",
       "      <td>0.4225</td>\n",
       "    </tr>\n",
       "    <tr>\n",
       "      <th>1</th>\n",
       "      <td>SVM</td>\n",
       "      <td>0.3950</td>\n",
       "      <td>0.702459</td>\n",
       "      <td>0.401111</td>\n",
       "      <td>0.3950</td>\n",
       "    </tr>\n",
       "    <tr>\n",
       "      <th>2</th>\n",
       "      <td>KNN</td>\n",
       "      <td>0.5000</td>\n",
       "      <td>0.533565</td>\n",
       "      <td>0.482150</td>\n",
       "      <td>0.5000</td>\n",
       "    </tr>\n",
       "    <tr>\n",
       "      <th>3</th>\n",
       "      <td>XGBoost</td>\n",
       "      <td>0.5425</td>\n",
       "      <td>0.741285</td>\n",
       "      <td>0.575595</td>\n",
       "      <td>0.5425</td>\n",
       "    </tr>\n",
       "    <tr>\n",
       "      <th>4</th>\n",
       "      <td>Logistic Regression</td>\n",
       "      <td>0.4350</td>\n",
       "      <td>0.703043</td>\n",
       "      <td>0.456779</td>\n",
       "      <td>0.4350</td>\n",
       "    </tr>\n",
       "    <tr>\n",
       "      <th>5</th>\n",
       "      <td>Naive Bayes</td>\n",
       "      <td>0.6225</td>\n",
       "      <td>0.735383</td>\n",
       "      <td>0.658022</td>\n",
       "      <td>0.6225</td>\n",
       "    </tr>\n",
       "    <tr>\n",
       "      <th>6</th>\n",
       "      <td>Random Forest</td>\n",
       "      <td>0.2825</td>\n",
       "      <td>0.716682</td>\n",
       "      <td>0.235111</td>\n",
       "      <td>0.2825</td>\n",
       "    </tr>\n",
       "    <tr>\n",
       "      <th>7</th>\n",
       "      <td>Extra Tree</td>\n",
       "      <td>0.3100</td>\n",
       "      <td>0.709134</td>\n",
       "      <td>0.283183</td>\n",
       "      <td>0.3100</td>\n",
       "    </tr>\n",
       "    <tr>\n",
       "      <th>8</th>\n",
       "      <td>MLP Classifier</td>\n",
       "      <td>0.3825</td>\n",
       "      <td>0.685018</td>\n",
       "      <td>0.389924</td>\n",
       "      <td>0.3825</td>\n",
       "    </tr>\n",
       "  </tbody>\n",
       "</table>\n",
       "</div>"
      ],
      "text/plain": [
       "                Models  Accuracy  Precision Weighted  F1-Score Weigthed  \\\n",
       "0        Decision Tree    0.4225            0.672256           0.454549   \n",
       "1                  SVM    0.3950            0.702459           0.401111   \n",
       "2                  KNN    0.5000            0.533565           0.482150   \n",
       "3              XGBoost    0.5425            0.741285           0.575595   \n",
       "4  Logistic Regression    0.4350            0.703043           0.456779   \n",
       "5          Naive Bayes    0.6225            0.735383           0.658022   \n",
       "6        Random Forest    0.2825            0.716682           0.235111   \n",
       "7           Extra Tree    0.3100            0.709134           0.283183   \n",
       "8       MLP Classifier    0.3825            0.685018           0.389924   \n",
       "\n",
       "   Recall Weighted  \n",
       "0           0.4225  \n",
       "1           0.3950  \n",
       "2           0.5000  \n",
       "3           0.5425  \n",
       "4           0.4350  \n",
       "5           0.6225  \n",
       "6           0.2825  \n",
       "7           0.3100  \n",
       "8           0.3825  "
      ]
     },
     "execution_count": 99,
     "metadata": {},
     "output_type": "execute_result"
    }
   ],
   "source": [
    "pd.read_csv(PATH_METRICS + \"RStesting_metrics_eng.csv\")"
   ]
  },
  {
   "attachments": {},
   "cell_type": "markdown",
   "metadata": {},
   "source": [
    "### Textos em português\n",
    "- Treino"
   ]
  },
  {
   "cell_type": "code",
   "execution_count": 100,
   "metadata": {},
   "outputs": [],
   "source": [
    "X_train_pt_resampled, y_train_resampled = adasyn.fit_resample(X_train_pt, y_train)\n",
    "_, y_train_le_resampled = adasyn.fit_resample(X_train_pt, y_train_le)"
   ]
  },
  {
   "cell_type": "code",
   "execution_count": 101,
   "metadata": {
    "tags": []
   },
   "outputs": [
    {
     "data": {
      "text/html": [
       "<style>#sk-container-id-6 {color: black;}#sk-container-id-6 pre{padding: 0;}#sk-container-id-6 div.sk-toggleable {background-color: white;}#sk-container-id-6 label.sk-toggleable__label {cursor: pointer;display: block;width: 100%;margin-bottom: 0;padding: 0.3em;box-sizing: border-box;text-align: center;}#sk-container-id-6 label.sk-toggleable__label-arrow:before {content: \"▸\";float: left;margin-right: 0.25em;color: #696969;}#sk-container-id-6 label.sk-toggleable__label-arrow:hover:before {color: black;}#sk-container-id-6 div.sk-estimator:hover label.sk-toggleable__label-arrow:before {color: black;}#sk-container-id-6 div.sk-toggleable__content {max-height: 0;max-width: 0;overflow: hidden;text-align: left;background-color: #f0f8ff;}#sk-container-id-6 div.sk-toggleable__content pre {margin: 0.2em;color: black;border-radius: 0.25em;background-color: #f0f8ff;}#sk-container-id-6 input.sk-toggleable__control:checked~div.sk-toggleable__content {max-height: 200px;max-width: 100%;overflow: auto;}#sk-container-id-6 input.sk-toggleable__control:checked~label.sk-toggleable__label-arrow:before {content: \"▾\";}#sk-container-id-6 div.sk-estimator input.sk-toggleable__control:checked~label.sk-toggleable__label {background-color: #d4ebff;}#sk-container-id-6 div.sk-label input.sk-toggleable__control:checked~label.sk-toggleable__label {background-color: #d4ebff;}#sk-container-id-6 input.sk-hidden--visually {border: 0;clip: rect(1px 1px 1px 1px);clip: rect(1px, 1px, 1px, 1px);height: 1px;margin: -1px;overflow: hidden;padding: 0;position: absolute;width: 1px;}#sk-container-id-6 div.sk-estimator {font-family: monospace;background-color: #f0f8ff;border: 1px dotted black;border-radius: 0.25em;box-sizing: border-box;margin-bottom: 0.5em;}#sk-container-id-6 div.sk-estimator:hover {background-color: #d4ebff;}#sk-container-id-6 div.sk-parallel-item::after {content: \"\";width: 100%;border-bottom: 1px solid gray;flex-grow: 1;}#sk-container-id-6 div.sk-label:hover label.sk-toggleable__label {background-color: #d4ebff;}#sk-container-id-6 div.sk-serial::before {content: \"\";position: absolute;border-left: 1px solid gray;box-sizing: border-box;top: 0;bottom: 0;left: 50%;z-index: 0;}#sk-container-id-6 div.sk-serial {display: flex;flex-direction: column;align-items: center;background-color: white;padding-right: 0.2em;padding-left: 0.2em;position: relative;}#sk-container-id-6 div.sk-item {position: relative;z-index: 1;}#sk-container-id-6 div.sk-parallel {display: flex;align-items: stretch;justify-content: center;background-color: white;position: relative;}#sk-container-id-6 div.sk-item::before, #sk-container-id-6 div.sk-parallel-item::before {content: \"\";position: absolute;border-left: 1px solid gray;box-sizing: border-box;top: 0;bottom: 0;left: 50%;z-index: -1;}#sk-container-id-6 div.sk-parallel-item {display: flex;flex-direction: column;z-index: 1;position: relative;background-color: white;}#sk-container-id-6 div.sk-parallel-item:first-child::after {align-self: flex-end;width: 50%;}#sk-container-id-6 div.sk-parallel-item:last-child::after {align-self: flex-start;width: 50%;}#sk-container-id-6 div.sk-parallel-item:only-child::after {width: 0;}#sk-container-id-6 div.sk-dashed-wrapped {border: 1px dashed gray;margin: 0 0.4em 0.5em 0.4em;box-sizing: border-box;padding-bottom: 0.4em;background-color: white;}#sk-container-id-6 div.sk-label label {font-family: monospace;font-weight: bold;display: inline-block;line-height: 1.2em;}#sk-container-id-6 div.sk-label-container {text-align: center;}#sk-container-id-6 div.sk-container {/* jupyter's `normalize.less` sets `[hidden] { display: none; }` but bootstrap.min.css set `[hidden] { display: none !important; }` so we also need the `!important` here to be able to override the default hidden behavior on the sphinx rendered scikit-learn.org. See: https://github.com/scikit-learn/scikit-learn/issues/21755 */display: inline-block !important;position: relative;}#sk-container-id-6 div.sk-text-repr-fallback {display: none;}</style><div id=\"sk-container-id-6\" class=\"sk-top-container\"><div class=\"sk-text-repr-fallback\"><pre>MLPClassifier()</pre><b>In a Jupyter environment, please rerun this cell to show the HTML representation or trust the notebook. <br />On GitHub, the HTML representation is unable to render, please try loading this page with nbviewer.org.</b></div><div class=\"sk-container\" hidden><div class=\"sk-item\"><div class=\"sk-estimator sk-toggleable\"><input class=\"sk-toggleable__control sk-hidden--visually\" id=\"sk-estimator-id-6\" type=\"checkbox\" checked><label for=\"sk-estimator-id-6\" class=\"sk-toggleable__label sk-toggleable__label-arrow\">MLPClassifier</label><div class=\"sk-toggleable__content\"><pre>MLPClassifier()</pre></div></div></div></div></div>"
      ],
      "text/plain": [
       "MLPClassifier()"
      ]
     },
     "execution_count": 101,
     "metadata": {},
     "output_type": "execute_result"
    }
   ],
   "source": [
    "decision_tree.fit(X_train_pt_resampled, y_train_resampled)\n",
    "svm_model.fit(X_train_pt_resampled, y_train_resampled)\n",
    "kNN.fit(X_train_pt_resampled, y_train_resampled)\n",
    "xgb_model.fit(X_train_pt_resampled, y_train_le_resampled)\n",
    "lr_model.fit(X_train_pt_resampled, y_train_resampled)\n",
    "nb_model.fit(X_train_pt_resampled, y_train_resampled)\n",
    "rf_model.fit(X_train_pt_resampled, y_train_resampled)\n",
    "etc_model.fit(X_train_pt_resampled, y_train_resampled)\n",
    "mlp.fit(X_train_pt_resampled, y_train_resampled)"
   ]
  },
  {
   "attachments": {},
   "cell_type": "markdown",
   "metadata": {},
   "source": [
    "- Teste"
   ]
  },
  {
   "cell_type": "code",
   "execution_count": 102,
   "metadata": {
    "collapsed": true,
    "jupyter": {
     "outputs_hidden": true
    },
    "tags": []
   },
   "outputs": [],
   "source": [
    "testing_metrics(y_test, decision_tree.predict(X_test_pt), \"pt\", \"Decision Tree\", \"RS\")\n",
    "testing_metrics(y_test, svm_model.predict(X_test_pt), \"pt\", \"SVM\", \"RS\")\n",
    "testing_metrics(y_test, kNN.predict(X_test_pt), \"pt\", \"KNN\", \"RS\")\n",
    "testing_metrics(y_test_le, xgb_model.predict(X_test_pt), \"pt\", \"XGBoost\", \"RS\")\n",
    "testing_metrics(y_test, lr_model.predict(X_test_pt), \"pt\", \"Logistic Regression\", \"RS\")\n",
    "testing_metrics(y_test, nb_model.predict(X_test_pt), \"pt\", \"Naive Bayes\", \"RS\")\n",
    "testing_metrics(y_test, rf_model.predict(X_test_pt), \"pt\", \"Random Forest\", \"RS\")\n",
    "testing_metrics(y_test, etc_model.predict(X_test_pt), \"pt\", \"Extra Tree\", \"RS\")\n",
    "testing_metrics(y_test, mlp.predict(X_test_pt), \"pt\", \"MLP Classifier\", \"RS\")"
   ]
  },
  {
   "cell_type": "code",
   "execution_count": 103,
   "metadata": {
    "tags": []
   },
   "outputs": [
    {
     "data": {
      "text/html": [
       "<div>\n",
       "<style scoped>\n",
       "    .dataframe tbody tr th:only-of-type {\n",
       "        vertical-align: middle;\n",
       "    }\n",
       "\n",
       "    .dataframe tbody tr th {\n",
       "        vertical-align: top;\n",
       "    }\n",
       "\n",
       "    .dataframe thead th {\n",
       "        text-align: right;\n",
       "    }\n",
       "</style>\n",
       "<table border=\"1\" class=\"dataframe\">\n",
       "  <thead>\n",
       "    <tr style=\"text-align: right;\">\n",
       "      <th></th>\n",
       "      <th>Models</th>\n",
       "      <th>Accuracy</th>\n",
       "      <th>Precision Weighted</th>\n",
       "      <th>F1-Score Weigthed</th>\n",
       "      <th>Recall Weighted</th>\n",
       "    </tr>\n",
       "  </thead>\n",
       "  <tbody>\n",
       "    <tr>\n",
       "      <th>0</th>\n",
       "      <td>Decision Tree</td>\n",
       "      <td>0.4875</td>\n",
       "      <td>0.687703</td>\n",
       "      <td>0.534837</td>\n",
       "      <td>0.4875</td>\n",
       "    </tr>\n",
       "    <tr>\n",
       "      <th>1</th>\n",
       "      <td>SVM</td>\n",
       "      <td>0.5050</td>\n",
       "      <td>0.726700</td>\n",
       "      <td>0.543708</td>\n",
       "      <td>0.5050</td>\n",
       "    </tr>\n",
       "    <tr>\n",
       "      <th>2</th>\n",
       "      <td>KNN</td>\n",
       "      <td>0.5700</td>\n",
       "      <td>0.519107</td>\n",
       "      <td>0.529954</td>\n",
       "      <td>0.5700</td>\n",
       "    </tr>\n",
       "    <tr>\n",
       "      <th>3</th>\n",
       "      <td>XGBoost</td>\n",
       "      <td>0.5800</td>\n",
       "      <td>0.726151</td>\n",
       "      <td>0.614801</td>\n",
       "      <td>0.5800</td>\n",
       "    </tr>\n",
       "    <tr>\n",
       "      <th>4</th>\n",
       "      <td>Logistic Regression</td>\n",
       "      <td>0.5350</td>\n",
       "      <td>0.726948</td>\n",
       "      <td>0.572778</td>\n",
       "      <td>0.5350</td>\n",
       "    </tr>\n",
       "    <tr>\n",
       "      <th>5</th>\n",
       "      <td>Naive Bayes</td>\n",
       "      <td>0.6375</td>\n",
       "      <td>0.720389</td>\n",
       "      <td>0.667987</td>\n",
       "      <td>0.6375</td>\n",
       "    </tr>\n",
       "    <tr>\n",
       "      <th>6</th>\n",
       "      <td>Random Forest</td>\n",
       "      <td>0.4150</td>\n",
       "      <td>0.697988</td>\n",
       "      <td>0.440006</td>\n",
       "      <td>0.4150</td>\n",
       "    </tr>\n",
       "    <tr>\n",
       "      <th>7</th>\n",
       "      <td>Extra Tree</td>\n",
       "      <td>0.5075</td>\n",
       "      <td>0.735747</td>\n",
       "      <td>0.540926</td>\n",
       "      <td>0.5075</td>\n",
       "    </tr>\n",
       "    <tr>\n",
       "      <th>8</th>\n",
       "      <td>MLP Classifier</td>\n",
       "      <td>0.4500</td>\n",
       "      <td>0.721996</td>\n",
       "      <td>0.479252</td>\n",
       "      <td>0.4500</td>\n",
       "    </tr>\n",
       "  </tbody>\n",
       "</table>\n",
       "</div>"
      ],
      "text/plain": [
       "                Models  Accuracy  Precision Weighted  F1-Score Weigthed  \\\n",
       "0        Decision Tree    0.4875            0.687703           0.534837   \n",
       "1                  SVM    0.5050            0.726700           0.543708   \n",
       "2                  KNN    0.5700            0.519107           0.529954   \n",
       "3              XGBoost    0.5800            0.726151           0.614801   \n",
       "4  Logistic Regression    0.5350            0.726948           0.572778   \n",
       "5          Naive Bayes    0.6375            0.720389           0.667987   \n",
       "6        Random Forest    0.4150            0.697988           0.440006   \n",
       "7           Extra Tree    0.5075            0.735747           0.540926   \n",
       "8       MLP Classifier    0.4500            0.721996           0.479252   \n",
       "\n",
       "   Recall Weighted  \n",
       "0           0.4875  \n",
       "1           0.5050  \n",
       "2           0.5700  \n",
       "3           0.5800  \n",
       "4           0.5350  \n",
       "5           0.6375  \n",
       "6           0.4150  \n",
       "7           0.5075  \n",
       "8           0.4500  "
      ]
     },
     "execution_count": 103,
     "metadata": {},
     "output_type": "execute_result"
    }
   ],
   "source": [
    "pd.read_csv(PATH_METRICS + \"RStesting_metrics_pt.csv\")"
   ]
  },
  {
   "attachments": {},
   "cell_type": "markdown",
   "metadata": {},
   "source": [
    "Naive Bayes continuou em destaque no teste em textos em inglês, com F1-Score de 0.689906. Em português, agora Naive Bayes teve melhor desempenho, com F1-Score igual a 0.681226."
   ]
  },
  {
   "attachments": {},
   "cell_type": "markdown",
   "metadata": {},
   "source": [
    "## 6. Procurando atributos ótimos para os melhores modelos\n",
    "- Treinamento sem validação cruzada: XGBoost\n",
    "- Treinamento com dados balanceados de acordo com a menor classe: Naive Bayes e XGBoost\n",
    "- Treinamento com dados balanceados com ADASYN: Naive Bayes\n",
    "\n",
    "Aqui, serão procurados atributos ótimos para os melhores modelos dada as abordagens feitas anteriormente somente para textos em português."
   ]
  },
  {
   "attachments": {},
   "cell_type": "markdown",
   "metadata": {},
   "source": [
    "### 6.1. XGBoost\n",
    "- Conjunto de dados original"
   ]
  },
  {
   "cell_type": "code",
   "execution_count": 107,
   "metadata": {},
   "outputs": [
    {
     "name": "stdout",
     "output_type": "stream",
     "text": [
      "Melhor pontuação de desempenho:\n",
      "0.756332564285095\n"
     ]
    }
   ],
   "source": [
    "from sklearn.model_selection import GridSearchCV\n",
    "from sklearn.model_selection import StratifiedKFold\n",
    "\n",
    "hyperparameters = {\n",
    "    'max_depth': [6, 12, 15],  # Valores possíveis para a profundidade máxima\n",
    "    'learning_rate': [0.1, 0.01, 0.001],  # Valores possíveis para a taxa de aprendizado\n",
    "    'n_estimators': [100, 500, 1000]  # Valores possíveis para o número de estimadores\n",
    "}\n",
    "\n",
    "skf = StratifiedKFold(n_splits=5, random_state=42, shuffle=True)\n",
    "\n",
    "grid_search = GridSearchCV(xgb_model, hyperparameters, cv=skf, scoring='f1_weighted')\n",
    "grid_search.fit(X_train_pt, y_train_le)\n",
    "\n",
    "print(\"Melhor pontuação de desempenho:\")\n",
    "print(grid_search.best_score_)"
   ]
  },
  {
   "attachments": {},
   "cell_type": "markdown",
   "metadata": {},
   "source": [
    "- Conjunto de dados balanceado de acordo com a menor classe"
   ]
  },
  {
   "cell_type": "code",
   "execution_count": 108,
   "metadata": {},
   "outputs": [
    {
     "name": "stdout",
     "output_type": "stream",
     "text": [
      "Melhor pontuação de desempenho:\n",
      "0.6065881989145527\n"
     ]
    }
   ],
   "source": [
    "from sklearn.model_selection import GridSearchCV\n",
    "\n",
    "hyperparameters = {\n",
    "    'max_depth': [6, 12, 15],  # Valores possíveis para a profundidade máxima\n",
    "    'learning_rate': [0.1, 0.01, 0.001],  # Valores possíveis para a taxa de aprendizado\n",
    "    'n_estimators': [100, 500, 1000]  # Valores possíveis para o número de estimadores\n",
    "}\n",
    "\n",
    "grid_search = GridSearchCV(xgb_model, hyperparameters, cv=skf, scoring='f1_weighted')\n",
    "grid_search.fit(X_train_pt_balanced, y_train_le_balanced)\n",
    "\n",
    "print(\"Melhor pontuação de desempenho:\")\n",
    "print(grid_search.best_score_)"
   ]
  },
  {
   "attachments": {},
   "cell_type": "markdown",
   "metadata": {},
   "source": [
    "- Conjunto de dados balanceado com ADASYN"
   ]
  },
  {
   "cell_type": "code",
   "execution_count": 109,
   "metadata": {},
   "outputs": [
    {
     "name": "stdout",
     "output_type": "stream",
     "text": [
      "Melhor pontuação de desempenho:\n",
      "0.8876527501104017\n"
     ]
    }
   ],
   "source": [
    "from sklearn.model_selection import GridSearchCV\n",
    "\n",
    "hyperparameters = {\n",
    "    'max_depth': [6, 12, 15],  # Valores possíveis para a profundidade máxima\n",
    "    'learning_rate': [0.1, 0.01, 0.001],  # Valores possíveis para a taxa de aprendizado\n",
    "    'n_estimators': [100, 500, 1000]  # Valores possíveis para o número de estimadores\n",
    "}\n",
    "\n",
    "\n",
    "grid_search = GridSearchCV(xgb_model, hyperparameters, cv=skf, scoring='f1_weighted')\n",
    "grid_search.fit(X_train_pt_resampled, y_train_le_resampled)\n",
    "\n",
    "print(\"Melhor pontuação de desempenho:\")\n",
    "print(grid_search.best_score_)"
   ]
  },
  {
   "attachments": {},
   "cell_type": "markdown",
   "metadata": {},
   "source": [
    "### 6.2. Naive Bayes\n",
    "- Conjunto de dados original"
   ]
  },
  {
   "cell_type": "code",
   "execution_count": 104,
   "metadata": {},
   "outputs": [
    {
     "name": "stdout",
     "output_type": "stream",
     "text": [
      "Melhor pontuação de desempenho:\n",
      "0.6909068065699291\n"
     ]
    }
   ],
   "source": [
    "from sklearn.model_selection import GridSearchCV\n",
    "\n",
    "hyperparameters = {\n",
    "    'alpha': [0.1, 1.0, 10.0],  # Valores possíveis para o parâmetro de suavização (smoothing) alpha\n",
    "    'fit_prior': [True, False]  # Valores possíveis para ajustar prioridades dos dados\n",
    "}\n",
    "\n",
    "\n",
    "grid_search = GridSearchCV(nb_model, hyperparameters, cv=skf, scoring='f1_weighted')\n",
    "grid_search.fit(X_train_pt, y_train)\n",
    "\n",
    "print(\"Melhor pontuação de desempenho:\")\n",
    "print(grid_search.best_score_)"
   ]
  },
  {
   "attachments": {},
   "cell_type": "markdown",
   "metadata": {},
   "source": [
    "- Conjunto de dados balanceado de acordo com a menor classe"
   ]
  },
  {
   "cell_type": "code",
   "execution_count": 105,
   "metadata": {},
   "outputs": [
    {
     "name": "stdout",
     "output_type": "stream",
     "text": [
      "Melhor pontuação de desempenho:\n",
      "0.6130118057257555\n"
     ]
    }
   ],
   "source": [
    "from sklearn.model_selection import GridSearchCV\n",
    "\n",
    "hyperparameters = {\n",
    "    'alpha': [0.1, 1.0, 10.0],  # Valores possíveis para o parâmetro de suavização (smoothing) alpha\n",
    "    'fit_prior': [True, False]  # Valores possíveis para ajustar prioridades dos dados\n",
    "}\n",
    "\n",
    "\n",
    "grid_search = GridSearchCV(nb_model, hyperparameters, cv=skf, scoring='f1_weighted')\n",
    "grid_search.fit(X_train_pt_balanced, y_train_le_balanced)\n",
    "\n",
    "print(\"Melhor pontuação de desempenho:\")\n",
    "print(grid_search.best_score_)"
   ]
  },
  {
   "attachments": {},
   "cell_type": "markdown",
   "metadata": {},
   "source": [
    "- Conjunto de dados balanceado com ADASYN"
   ]
  },
  {
   "cell_type": "code",
   "execution_count": 106,
   "metadata": {},
   "outputs": [
    {
     "name": "stdout",
     "output_type": "stream",
     "text": [
      "Melhor pontuação de desempenho:\n",
      "0.8711621649697584\n"
     ]
    }
   ],
   "source": [
    "from sklearn.model_selection import GridSearchCV\n",
    "\n",
    "hyperparameters = {\n",
    "    'alpha': [0.1, 1.0, 10.0],  # Valores possíveis para o parâmetro de suavização (smoothing) alpha\n",
    "    'fit_prior': [True, False]  # Valores possíveis para ajustar prioridades dos dados\n",
    "}\n",
    "\n",
    "\n",
    "grid_search = GridSearchCV(nb_model, hyperparameters, cv=skf, scoring='f1_weighted')\n",
    "grid_search.fit(X_train_pt_resampled, y_train_le_resampled)\n",
    "\n",
    "print(\"Melhor pontuação de desempenho:\")\n",
    "print(grid_search.best_score_)"
   ]
  },
  {
   "attachments": {},
   "cell_type": "markdown",
   "metadata": {},
   "source": [
    "## 7. Considerações finais\n",
    "- Melhor modelo para textos em inglês: Naive Bayes\n",
    "  - F1-Score: 0.714935\n",
    "  - Dataset: balanceado de acordo com a quantidade de exemplos da menor classe\n",
    "  - Sem GridSearchCV(): não foi tentada tal abordagem\n",
    "\n",
    "- Melhor modelo para textos em português: XGBoost\n",
    "  - F1-Score: 0.8876527501104017\n",
    "  - Dataset: balanceado com ADASYN\n",
    "  - Com GridSearchCV()"
   ]
  }
 ],
 "metadata": {
  "kernelspec": {
   "display_name": "Python 3 (ipykernel)",
   "language": "python",
   "name": "python3"
  },
  "language_info": {
   "codemirror_mode": {
    "name": "ipython",
    "version": 3
   },
   "file_extension": ".py",
   "mimetype": "text/x-python",
   "name": "python",
   "nbconvert_exporter": "python",
   "pygments_lexer": "ipython3",
   "version": "3.11.4"
  }
 },
 "nbformat": 4,
 "nbformat_minor": 4
}
